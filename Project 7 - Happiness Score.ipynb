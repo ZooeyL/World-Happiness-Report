{
 "cells": [
  {
   "cell_type": "markdown",
   "metadata": {},
   "source": [
    "This file is best viewed here:\n",
    "\n",
    "https://nbviewer.jupyter.org/github/zendry13/World-Happiness-Report-Visual-Analysis/blob/master/Project%207%20-%20Happiness%20Score.ipynb\n",
    "\n",
    "GitHub does not display Plotly plots as it can only perform a static render of notebooks. The link above will allow you to view the violin and bubble plots. "
   ]
  },
  {
   "cell_type": "markdown",
   "metadata": {},
   "source": [
    "Dataset: https://www.kaggle.com/unsdsn/world-happiness \n",
    "\n",
    "The World Happiness Report assigned a happiness score to 156 countries by how happy their citizens perceive themselves to be. The score is calculated using the sum of each of the following variables: \n",
    "\n",
    "- Economy: real GDP per capita\n",
    "\n",
    "- Family: social support\n",
    "\n",
    "- Health: healthy life expectancy\n",
    "\n",
    "- Freedom: freedom to make life choices\n",
    "\n",
    "- Trust: perceptions of corruption\n",
    "\n",
    "- Generosity: perceptions of generosity\n",
    "\n",
    "- Dystopia: each country is compared against a hypothetical nation that represents the lowest national averages for each key variable and is, along with residual error, used as a regression benchmark\n",
    "\n",
    "Final score is a population-weighted average score between 0 and 10. \n",
    "\n",
    "My goal is to explore how each variable contributes to the final score and the differences in score between each regions. "
   ]
  },
  {
   "cell_type": "markdown",
   "metadata": {},
   "source": [
    "# Initial Setup"
   ]
  },
  {
   "cell_type": "code",
   "execution_count": 1,
   "metadata": {
    "ExecuteTime": {
     "end_time": "2019-07-27T11:50:28.590533Z",
     "start_time": "2019-07-27T11:50:25.053523Z"
    }
   },
   "outputs": [
    {
     "data": {
      "text/html": [
       "<script type=\"text/javascript\">window.PlotlyConfig = {MathJaxConfig: 'local'};</script><script type=\"text/javascript\">if (window.MathJax) {MathJax.Hub.Config({SVG: {font: \"STIX-Web\"}});}</script><script>requirejs.config({paths: { 'plotly': ['https://cdn.plot.ly/plotly-latest.min']},});if(!window._Plotly) {require(['plotly'],function(plotly) {window._Plotly=plotly;});}</script>"
      ],
      "text/vnd.plotly.v1+html": [
       "<script type=\"text/javascript\">window.PlotlyConfig = {MathJaxConfig: 'local'};</script><script type=\"text/javascript\">if (window.MathJax) {MathJax.Hub.Config({SVG: {font: \"STIX-Web\"}});}</script><script>requirejs.config({paths: { 'plotly': ['https://cdn.plot.ly/plotly-latest.min']},});if(!window._Plotly) {require(['plotly'],function(plotly) {window._Plotly=plotly;});}</script>"
      ]
     },
     "metadata": {},
     "output_type": "display_data"
    }
   ],
   "source": [
    "import pandas as pd\n",
    "import numpy as np\n",
    "import os\n",
    "import math\n",
    "import matplotlib.pyplot as plt \n",
    "%matplotlib inline\n",
    "import seaborn as sns \n",
    "\n",
    "import matplotlib.pyplot as plt\n",
    "import seaborn as sns\n",
    "import plotly.plotly as py\n",
    "from plotly import tools\n",
    "import plotly.graph_objs as go\n",
    "from plotly.offline import init_notebook_mode, iplot \n",
    "import warnings\n",
    "\n",
    "init_notebook_mode(connected=True)\n",
    "pd.set_option('display.max_columns', None) \n",
    "from ipywidgets import interact, interactive, interact_manual\n",
    "import ipywidgets as widgets\n",
    "import colorlover as cl \n",
    "\n",
    "\n",
    "color = sns.color_palette()\n",
    "\n",
    "import plotly.graph_objs as go\n",
    "import plotly.tools as tls\n",
    "\n",
    "pd.options.mode.chained_assignment = None\n",
    "pd.options.display.max_columns = 999\n"
   ]
  },
  {
   "cell_type": "markdown",
   "metadata": {},
   "source": [
    "Please put the 'happiness.csv' file in the same directory as the Jupyter notebook if you wish to use this code. "
   ]
  },
  {
   "cell_type": "code",
   "execution_count": 2,
   "metadata": {
    "ExecuteTime": {
     "end_time": "2019-07-27T11:50:28.698485Z",
     "start_time": "2019-07-27T11:50:28.602526Z"
    },
    "scrolled": true
   },
   "outputs": [
    {
     "data": {
      "text/html": [
       "<div>\n",
       "<style scoped>\n",
       "    .dataframe tbody tr th:only-of-type {\n",
       "        vertical-align: middle;\n",
       "    }\n",
       "\n",
       "    .dataframe tbody tr th {\n",
       "        vertical-align: top;\n",
       "    }\n",
       "\n",
       "    .dataframe thead th {\n",
       "        text-align: right;\n",
       "    }\n",
       "</style>\n",
       "<table border=\"1\" class=\"dataframe\">\n",
       "  <thead>\n",
       "    <tr style=\"text-align: right;\">\n",
       "      <th></th>\n",
       "      <th>Country</th>\n",
       "      <th>Region</th>\n",
       "      <th>Happiness Rank</th>\n",
       "      <th>Happiness Score</th>\n",
       "      <th>Economy (GDP per Capita)</th>\n",
       "      <th>Family</th>\n",
       "      <th>Health (Life Expectancy)</th>\n",
       "      <th>Freedom</th>\n",
       "      <th>Trust (Government Corruption)</th>\n",
       "      <th>Generosity</th>\n",
       "      <th>Dystopia Residual</th>\n",
       "      <th>Year</th>\n",
       "    </tr>\n",
       "  </thead>\n",
       "  <tbody>\n",
       "    <tr>\n",
       "      <th>0</th>\n",
       "      <td>Afghanistan</td>\n",
       "      <td>Southern Asia</td>\n",
       "      <td>153.0</td>\n",
       "      <td>3.575</td>\n",
       "      <td>0.31982</td>\n",
       "      <td>0.30285</td>\n",
       "      <td>0.30335</td>\n",
       "      <td>0.23414</td>\n",
       "      <td>0.09719</td>\n",
       "      <td>0.36510</td>\n",
       "      <td>1.95210</td>\n",
       "      <td>2015</td>\n",
       "    </tr>\n",
       "    <tr>\n",
       "      <th>1</th>\n",
       "      <td>Albania</td>\n",
       "      <td>Central and Eastern Europe</td>\n",
       "      <td>95.0</td>\n",
       "      <td>4.959</td>\n",
       "      <td>0.87867</td>\n",
       "      <td>0.80434</td>\n",
       "      <td>0.81325</td>\n",
       "      <td>0.35733</td>\n",
       "      <td>0.06413</td>\n",
       "      <td>0.14272</td>\n",
       "      <td>1.89894</td>\n",
       "      <td>2015</td>\n",
       "    </tr>\n",
       "    <tr>\n",
       "      <th>2</th>\n",
       "      <td>Algeria</td>\n",
       "      <td>Middle East and Northern Africa</td>\n",
       "      <td>68.0</td>\n",
       "      <td>5.605</td>\n",
       "      <td>0.93929</td>\n",
       "      <td>1.07772</td>\n",
       "      <td>0.61766</td>\n",
       "      <td>0.28579</td>\n",
       "      <td>0.17383</td>\n",
       "      <td>0.07822</td>\n",
       "      <td>2.43209</td>\n",
       "      <td>2015</td>\n",
       "    </tr>\n",
       "    <tr>\n",
       "      <th>3</th>\n",
       "      <td>Angola</td>\n",
       "      <td>Sub-Saharan Africa</td>\n",
       "      <td>137.0</td>\n",
       "      <td>4.033</td>\n",
       "      <td>0.75778</td>\n",
       "      <td>0.86040</td>\n",
       "      <td>0.16683</td>\n",
       "      <td>0.10384</td>\n",
       "      <td>0.07122</td>\n",
       "      <td>0.12344</td>\n",
       "      <td>1.94939</td>\n",
       "      <td>2015</td>\n",
       "    </tr>\n",
       "    <tr>\n",
       "      <th>4</th>\n",
       "      <td>Argentina</td>\n",
       "      <td>Latin America and Caribbean</td>\n",
       "      <td>30.0</td>\n",
       "      <td>6.574</td>\n",
       "      <td>1.05351</td>\n",
       "      <td>1.24823</td>\n",
       "      <td>0.78723</td>\n",
       "      <td>0.44974</td>\n",
       "      <td>0.08484</td>\n",
       "      <td>0.11451</td>\n",
       "      <td>2.83600</td>\n",
       "      <td>2015</td>\n",
       "    </tr>\n",
       "  </tbody>\n",
       "</table>\n",
       "</div>"
      ],
      "text/plain": [
       "       Country                           Region  Happiness Rank  \\\n",
       "0  Afghanistan                    Southern Asia           153.0   \n",
       "1      Albania       Central and Eastern Europe            95.0   \n",
       "2      Algeria  Middle East and Northern Africa            68.0   \n",
       "3       Angola               Sub-Saharan Africa           137.0   \n",
       "4    Argentina      Latin America and Caribbean            30.0   \n",
       "\n",
       "   Happiness Score  Economy (GDP per Capita)   Family  \\\n",
       "0            3.575                   0.31982  0.30285   \n",
       "1            4.959                   0.87867  0.80434   \n",
       "2            5.605                   0.93929  1.07772   \n",
       "3            4.033                   0.75778  0.86040   \n",
       "4            6.574                   1.05351  1.24823   \n",
       "\n",
       "   Health (Life Expectancy)  Freedom  Trust (Government Corruption)  \\\n",
       "0                   0.30335  0.23414                        0.09719   \n",
       "1                   0.81325  0.35733                        0.06413   \n",
       "2                   0.61766  0.28579                        0.17383   \n",
       "3                   0.16683  0.10384                        0.07122   \n",
       "4                   0.78723  0.44974                        0.08484   \n",
       "\n",
       "   Generosity  Dystopia Residual  Year  \n",
       "0     0.36510            1.95210  2015  \n",
       "1     0.14272            1.89894  2015  \n",
       "2     0.07822            2.43209  2015  \n",
       "3     0.12344            1.94939  2015  \n",
       "4     0.11451            2.83600  2015  "
      ]
     },
     "execution_count": 2,
     "metadata": {},
     "output_type": "execute_result"
    }
   ],
   "source": [
    "# reading data\n",
    "data = pd.read_csv('happiness.csv', index_col=0)\n",
    "\n",
    "data.head()"
   ]
  },
  {
   "cell_type": "code",
   "execution_count": 3,
   "metadata": {
    "ExecuteTime": {
     "end_time": "2019-07-27T11:50:28.752441Z",
     "start_time": "2019-07-27T11:50:28.701470Z"
    },
    "scrolled": true
   },
   "outputs": [
    {
     "data": {
      "text/html": [
       "<div>\n",
       "<style scoped>\n",
       "    .dataframe tbody tr th:only-of-type {\n",
       "        vertical-align: middle;\n",
       "    }\n",
       "\n",
       "    .dataframe tbody tr th {\n",
       "        vertical-align: top;\n",
       "    }\n",
       "\n",
       "    .dataframe thead th {\n",
       "        text-align: right;\n",
       "    }\n",
       "</style>\n",
       "<table border=\"1\" class=\"dataframe\">\n",
       "  <thead>\n",
       "    <tr style=\"text-align: right;\">\n",
       "      <th></th>\n",
       "      <th>Country</th>\n",
       "      <th>Region</th>\n",
       "      <th>Happiness Rank</th>\n",
       "      <th>Happiness Score</th>\n",
       "      <th>Economy (GDP per Capita)</th>\n",
       "      <th>Family</th>\n",
       "      <th>Health (Life Expectancy)</th>\n",
       "      <th>Freedom</th>\n",
       "      <th>Trust (Government Corruption)</th>\n",
       "      <th>Generosity</th>\n",
       "      <th>Dystopia Residual</th>\n",
       "      <th>Year</th>\n",
       "    </tr>\n",
       "  </thead>\n",
       "  <tbody>\n",
       "    <tr>\n",
       "      <th>141</th>\n",
       "      <td>Switzerland</td>\n",
       "      <td>Western Europe</td>\n",
       "      <td>1.0</td>\n",
       "      <td>7.587</td>\n",
       "      <td>1.39651</td>\n",
       "      <td>1.34951</td>\n",
       "      <td>0.94143</td>\n",
       "      <td>0.66557</td>\n",
       "      <td>0.41978</td>\n",
       "      <td>0.29678</td>\n",
       "      <td>2.51738</td>\n",
       "      <td>2015</td>\n",
       "    </tr>\n",
       "    <tr>\n",
       "      <th>60</th>\n",
       "      <td>Iceland</td>\n",
       "      <td>Western Europe</td>\n",
       "      <td>2.0</td>\n",
       "      <td>7.561</td>\n",
       "      <td>1.30232</td>\n",
       "      <td>1.40223</td>\n",
       "      <td>0.94784</td>\n",
       "      <td>0.62877</td>\n",
       "      <td>0.14145</td>\n",
       "      <td>0.43630</td>\n",
       "      <td>2.70201</td>\n",
       "      <td>2015</td>\n",
       "    </tr>\n",
       "    <tr>\n",
       "      <th>38</th>\n",
       "      <td>Denmark</td>\n",
       "      <td>Western Europe</td>\n",
       "      <td>3.0</td>\n",
       "      <td>7.527</td>\n",
       "      <td>1.32548</td>\n",
       "      <td>1.36058</td>\n",
       "      <td>0.87464</td>\n",
       "      <td>0.64938</td>\n",
       "      <td>0.48357</td>\n",
       "      <td>0.34139</td>\n",
       "      <td>2.49204</td>\n",
       "      <td>2015</td>\n",
       "    </tr>\n",
       "    <tr>\n",
       "      <th>108</th>\n",
       "      <td>Norway</td>\n",
       "      <td>Western Europe</td>\n",
       "      <td>4.0</td>\n",
       "      <td>7.522</td>\n",
       "      <td>1.45900</td>\n",
       "      <td>1.33095</td>\n",
       "      <td>0.88521</td>\n",
       "      <td>0.66973</td>\n",
       "      <td>0.36503</td>\n",
       "      <td>0.34699</td>\n",
       "      <td>2.46531</td>\n",
       "      <td>2015</td>\n",
       "    </tr>\n",
       "    <tr>\n",
       "      <th>25</th>\n",
       "      <td>Canada</td>\n",
       "      <td>North America</td>\n",
       "      <td>5.0</td>\n",
       "      <td>7.427</td>\n",
       "      <td>1.32629</td>\n",
       "      <td>1.32261</td>\n",
       "      <td>0.90563</td>\n",
       "      <td>0.63297</td>\n",
       "      <td>0.32957</td>\n",
       "      <td>0.45811</td>\n",
       "      <td>2.45176</td>\n",
       "      <td>2015</td>\n",
       "    </tr>\n",
       "  </tbody>\n",
       "</table>\n",
       "</div>"
      ],
      "text/plain": [
       "         Country          Region  Happiness Rank  Happiness Score  \\\n",
       "141  Switzerland  Western Europe             1.0            7.587   \n",
       "60       Iceland  Western Europe             2.0            7.561   \n",
       "38       Denmark  Western Europe             3.0            7.527   \n",
       "108       Norway  Western Europe             4.0            7.522   \n",
       "25        Canada   North America             5.0            7.427   \n",
       "\n",
       "     Economy (GDP per Capita)   Family  Health (Life Expectancy)  Freedom  \\\n",
       "141                   1.39651  1.34951                   0.94143  0.66557   \n",
       "60                    1.30232  1.40223                   0.94784  0.62877   \n",
       "38                    1.32548  1.36058                   0.87464  0.64938   \n",
       "108                   1.45900  1.33095                   0.88521  0.66973   \n",
       "25                    1.32629  1.32261                   0.90563  0.63297   \n",
       "\n",
       "     Trust (Government Corruption)  Generosity  Dystopia Residual  Year  \n",
       "141                        0.41978     0.29678            2.51738  2015  \n",
       "60                         0.14145     0.43630            2.70201  2015  \n",
       "38                         0.48357     0.34139            2.49204  2015  \n",
       "108                        0.36503     0.34699            2.46531  2015  \n",
       "25                         0.32957     0.45811            2.45176  2015  "
      ]
     },
     "execution_count": 3,
     "metadata": {},
     "output_type": "execute_result"
    }
   ],
   "source": [
    "# sort df - ascending years, descending happiness scores\n",
    "# make permanent change to data with inplace = True \n",
    "data.sort_values(['Year', \"Happiness Score\"], ascending=[True,False],inplace=True)\n",
    "data.head()"
   ]
  },
  {
   "cell_type": "markdown",
   "metadata": {},
   "source": [
    "Some basic questions to ask are: \n",
    "\n",
    "(a) What countries are happiest? How do regions within countries varying in happiness? \n",
    "\n",
    "(b) How does it correlate with economy, family, health, freedom, etc.? \n",
    "\n",
    "(c) How does scorer fluctuate over many years? "
   ]
  },
  {
   "cell_type": "code",
   "execution_count": 4,
   "metadata": {
    "ExecuteTime": {
     "end_time": "2019-07-27T11:50:28.775425Z",
     "start_time": "2019-07-27T11:50:28.762434Z"
    }
   },
   "outputs": [
    {
     "name": "stdout",
     "output_type": "stream",
     "text": [
      "Data has 495 rows and 12 columns\n"
     ]
    }
   ],
   "source": [
    "print(\"Data has {0} rows and {1} columns\".format(data.shape[0],data.shape[1]))"
   ]
  },
  {
   "cell_type": "code",
   "execution_count": 5,
   "metadata": {
    "ExecuteTime": {
     "end_time": "2019-07-27T11:50:28.812405Z",
     "start_time": "2019-07-27T11:50:28.786419Z"
    }
   },
   "outputs": [
    {
     "data": {
      "text/plain": [
       "Country                           0\n",
       "Region                            0\n",
       "Happiness Rank                   25\n",
       "Happiness Score                  25\n",
       "Economy (GDP per Capita)         25\n",
       "Family                           25\n",
       "Health (Life Expectancy)         25\n",
       "Freedom                          25\n",
       "Trust (Government Corruption)    25\n",
       "Generosity                       25\n",
       "Dystopia Residual                25\n",
       "Year                              0\n",
       "dtype: int64"
      ]
     },
     "execution_count": 5,
     "metadata": {},
     "output_type": "execute_result"
    }
   ],
   "source": [
    "# check missing values \n",
    "data.isna().sum()"
   ]
  },
  {
   "cell_type": "code",
   "execution_count": 6,
   "metadata": {
    "ExecuteTime": {
     "end_time": "2019-07-27T11:50:28.828395Z",
     "start_time": "2019-07-27T11:50:28.815403Z"
    }
   },
   "outputs": [],
   "source": [
    "# drop missing values\n",
    "data.dropna(inplace=True)"
   ]
  },
  {
   "cell_type": "code",
   "execution_count": 7,
   "metadata": {
    "ExecuteTime": {
     "end_time": "2019-07-27T11:50:28.846386Z",
     "start_time": "2019-07-27T11:50:28.832395Z"
    }
   },
   "outputs": [
    {
     "data": {
      "text/plain": [
       "Country                          0\n",
       "Region                           0\n",
       "Happiness Rank                   0\n",
       "Happiness Score                  0\n",
       "Economy (GDP per Capita)         0\n",
       "Family                           0\n",
       "Health (Life Expectancy)         0\n",
       "Freedom                          0\n",
       "Trust (Government Corruption)    0\n",
       "Generosity                       0\n",
       "Dystopia Residual                0\n",
       "Year                             0\n",
       "dtype: int64"
      ]
     },
     "execution_count": 7,
     "metadata": {},
     "output_type": "execute_result"
    }
   ],
   "source": [
    "# double check for missing values\n",
    "data.isna().sum()"
   ]
  },
  {
   "cell_type": "code",
   "execution_count": 8,
   "metadata": {
    "ExecuteTime": {
     "end_time": "2019-07-27T11:50:28.969322Z",
     "start_time": "2019-07-27T11:50:28.849384Z"
    }
   },
   "outputs": [
    {
     "data": {
      "text/html": [
       "<div>\n",
       "<style scoped>\n",
       "    .dataframe tbody tr th:only-of-type {\n",
       "        vertical-align: middle;\n",
       "    }\n",
       "\n",
       "    .dataframe tbody tr th {\n",
       "        vertical-align: top;\n",
       "    }\n",
       "\n",
       "    .dataframe thead th {\n",
       "        text-align: right;\n",
       "    }\n",
       "</style>\n",
       "<table border=\"1\" class=\"dataframe\">\n",
       "  <thead>\n",
       "    <tr style=\"text-align: right;\">\n",
       "      <th></th>\n",
       "      <th>Happiness Rank</th>\n",
       "      <th>Happiness Score</th>\n",
       "      <th>Economy (GDP per Capita)</th>\n",
       "      <th>Family</th>\n",
       "      <th>Health (Life Expectancy)</th>\n",
       "      <th>Freedom</th>\n",
       "      <th>Trust (Government Corruption)</th>\n",
       "      <th>Generosity</th>\n",
       "      <th>Dystopia Residual</th>\n",
       "      <th>Year</th>\n",
       "    </tr>\n",
       "  </thead>\n",
       "  <tbody>\n",
       "    <tr>\n",
       "      <th>count</th>\n",
       "      <td>470.000000</td>\n",
       "      <td>470.000000</td>\n",
       "      <td>470.000000</td>\n",
       "      <td>470.000000</td>\n",
       "      <td>470.000000</td>\n",
       "      <td>470.000000</td>\n",
       "      <td>470.000000</td>\n",
       "      <td>470.000000</td>\n",
       "      <td>470.000000</td>\n",
       "      <td>470.000000</td>\n",
       "    </tr>\n",
       "    <tr>\n",
       "      <th>mean</th>\n",
       "      <td>78.829787</td>\n",
       "      <td>5.370728</td>\n",
       "      <td>0.927830</td>\n",
       "      <td>0.990347</td>\n",
       "      <td>0.579968</td>\n",
       "      <td>0.402828</td>\n",
       "      <td>0.134790</td>\n",
       "      <td>0.242241</td>\n",
       "      <td>2.092717</td>\n",
       "      <td>2015.993617</td>\n",
       "    </tr>\n",
       "    <tr>\n",
       "      <th>std</th>\n",
       "      <td>45.281408</td>\n",
       "      <td>1.136998</td>\n",
       "      <td>0.415584</td>\n",
       "      <td>0.318707</td>\n",
       "      <td>0.240161</td>\n",
       "      <td>0.150356</td>\n",
       "      <td>0.111313</td>\n",
       "      <td>0.131543</td>\n",
       "      <td>0.565772</td>\n",
       "      <td>0.816907</td>\n",
       "    </tr>\n",
       "    <tr>\n",
       "      <th>min</th>\n",
       "      <td>1.000000</td>\n",
       "      <td>2.693000</td>\n",
       "      <td>0.000000</td>\n",
       "      <td>0.000000</td>\n",
       "      <td>0.000000</td>\n",
       "      <td>0.000000</td>\n",
       "      <td>0.000000</td>\n",
       "      <td>0.000000</td>\n",
       "      <td>0.328580</td>\n",
       "      <td>2015.000000</td>\n",
       "    </tr>\n",
       "    <tr>\n",
       "      <th>25%</th>\n",
       "      <td>40.000000</td>\n",
       "      <td>4.509000</td>\n",
       "      <td>0.605292</td>\n",
       "      <td>0.793000</td>\n",
       "      <td>0.402301</td>\n",
       "      <td>0.297615</td>\n",
       "      <td>0.059777</td>\n",
       "      <td>0.152831</td>\n",
       "      <td>1.737975</td>\n",
       "      <td>2015.000000</td>\n",
       "    </tr>\n",
       "    <tr>\n",
       "      <th>50%</th>\n",
       "      <td>79.000000</td>\n",
       "      <td>5.282500</td>\n",
       "      <td>0.995439</td>\n",
       "      <td>1.025665</td>\n",
       "      <td>0.630053</td>\n",
       "      <td>0.418347</td>\n",
       "      <td>0.099502</td>\n",
       "      <td>0.223140</td>\n",
       "      <td>2.094640</td>\n",
       "      <td>2016.000000</td>\n",
       "    </tr>\n",
       "    <tr>\n",
       "      <th>75%</th>\n",
       "      <td>118.000000</td>\n",
       "      <td>6.233750</td>\n",
       "      <td>1.252443</td>\n",
       "      <td>1.228745</td>\n",
       "      <td>0.768298</td>\n",
       "      <td>0.516850</td>\n",
       "      <td>0.173161</td>\n",
       "      <td>0.315824</td>\n",
       "      <td>2.455575</td>\n",
       "      <td>2017.000000</td>\n",
       "    </tr>\n",
       "    <tr>\n",
       "      <th>max</th>\n",
       "      <td>158.000000</td>\n",
       "      <td>7.587000</td>\n",
       "      <td>1.870766</td>\n",
       "      <td>1.610574</td>\n",
       "      <td>1.025250</td>\n",
       "      <td>0.669730</td>\n",
       "      <td>0.551910</td>\n",
       "      <td>0.838075</td>\n",
       "      <td>3.837720</td>\n",
       "      <td>2017.000000</td>\n",
       "    </tr>\n",
       "  </tbody>\n",
       "</table>\n",
       "</div>"
      ],
      "text/plain": [
       "       Happiness Rank  Happiness Score  Economy (GDP per Capita)      Family  \\\n",
       "count      470.000000       470.000000                470.000000  470.000000   \n",
       "mean        78.829787         5.370728                  0.927830    0.990347   \n",
       "std         45.281408         1.136998                  0.415584    0.318707   \n",
       "min          1.000000         2.693000                  0.000000    0.000000   \n",
       "25%         40.000000         4.509000                  0.605292    0.793000   \n",
       "50%         79.000000         5.282500                  0.995439    1.025665   \n",
       "75%        118.000000         6.233750                  1.252443    1.228745   \n",
       "max        158.000000         7.587000                  1.870766    1.610574   \n",
       "\n",
       "       Health (Life Expectancy)     Freedom  Trust (Government Corruption)  \\\n",
       "count                470.000000  470.000000                     470.000000   \n",
       "mean                   0.579968    0.402828                       0.134790   \n",
       "std                    0.240161    0.150356                       0.111313   \n",
       "min                    0.000000    0.000000                       0.000000   \n",
       "25%                    0.402301    0.297615                       0.059777   \n",
       "50%                    0.630053    0.418347                       0.099502   \n",
       "75%                    0.768298    0.516850                       0.173161   \n",
       "max                    1.025250    0.669730                       0.551910   \n",
       "\n",
       "       Generosity  Dystopia Residual         Year  \n",
       "count  470.000000         470.000000   470.000000  \n",
       "mean     0.242241           2.092717  2015.993617  \n",
       "std      0.131543           0.565772     0.816907  \n",
       "min      0.000000           0.328580  2015.000000  \n",
       "25%      0.152831           1.737975  2015.000000  \n",
       "50%      0.223140           2.094640  2016.000000  \n",
       "75%      0.315824           2.455575  2017.000000  \n",
       "max      0.838075           3.837720  2017.000000  "
      ]
     },
     "execution_count": 8,
     "metadata": {},
     "output_type": "execute_result"
    }
   ],
   "source": [
    "data.describe()"
   ]
  },
  {
   "cell_type": "code",
   "execution_count": 9,
   "metadata": {
    "ExecuteTime": {
     "end_time": "2019-07-27T11:50:28.985313Z",
     "start_time": "2019-07-27T11:50:28.973321Z"
    }
   },
   "outputs": [],
   "source": [
    "data_c = data.copy()"
   ]
  },
  {
   "cell_type": "markdown",
   "metadata": {
    "heading_collapsed": true
   },
   "source": [
    "# Analyzing Score by Region and Year"
   ]
  },
  {
   "cell_type": "code",
   "execution_count": 10,
   "metadata": {
    "ExecuteTime": {
     "end_time": "2019-07-27T11:50:29.031286Z",
     "start_time": "2019-07-27T11:50:28.990310Z"
    },
    "hidden": true
   },
   "outputs": [
    {
     "data": {
      "text/html": [
       "<div>\n",
       "<style scoped>\n",
       "    .dataframe tbody tr th:only-of-type {\n",
       "        vertical-align: middle;\n",
       "    }\n",
       "\n",
       "    .dataframe tbody tr th {\n",
       "        vertical-align: top;\n",
       "    }\n",
       "\n",
       "    .dataframe thead th {\n",
       "        text-align: right;\n",
       "    }\n",
       "</style>\n",
       "<table border=\"1\" class=\"dataframe\">\n",
       "  <thead>\n",
       "    <tr style=\"text-align: right;\">\n",
       "      <th></th>\n",
       "      <th>Happiness Score</th>\n",
       "    </tr>\n",
       "    <tr>\n",
       "      <th>Region</th>\n",
       "      <th></th>\n",
       "    </tr>\n",
       "  </thead>\n",
       "  <tbody>\n",
       "    <tr>\n",
       "      <th>Australia and New Zealand</th>\n",
       "      <td>7.302500</td>\n",
       "    </tr>\n",
       "    <tr>\n",
       "      <th>North America</th>\n",
       "      <td>7.227167</td>\n",
       "    </tr>\n",
       "    <tr>\n",
       "      <th>Western Europe</th>\n",
       "      <td>6.693000</td>\n",
       "    </tr>\n",
       "    <tr>\n",
       "      <th>Latin America and Caribbean</th>\n",
       "      <td>6.069074</td>\n",
       "    </tr>\n",
       "    <tr>\n",
       "      <th>Eastern Asia</th>\n",
       "      <td>5.632333</td>\n",
       "    </tr>\n",
       "    <tr>\n",
       "      <th>Middle East and Northern Africa</th>\n",
       "      <td>5.387879</td>\n",
       "    </tr>\n",
       "    <tr>\n",
       "      <th>Central and Eastern Europe</th>\n",
       "      <td>5.371184</td>\n",
       "    </tr>\n",
       "    <tr>\n",
       "      <th>Southeastern Asia</th>\n",
       "      <td>5.364077</td>\n",
       "    </tr>\n",
       "    <tr>\n",
       "      <th>Southern Asia</th>\n",
       "      <td>4.590857</td>\n",
       "    </tr>\n",
       "    <tr>\n",
       "      <th>Sub-Saharan Africa</th>\n",
       "      <td>4.150957</td>\n",
       "    </tr>\n",
       "  </tbody>\n",
       "</table>\n",
       "</div>"
      ],
      "text/plain": [
       "                                 Happiness Score\n",
       "Region                                          \n",
       "Australia and New Zealand               7.302500\n",
       "North America                           7.227167\n",
       "Western Europe                          6.693000\n",
       "Latin America and Caribbean             6.069074\n",
       "Eastern Asia                            5.632333\n",
       "Middle East and Northern Africa         5.387879\n",
       "Central and Eastern Europe              5.371184\n",
       "Southeastern Asia                       5.364077\n",
       "Southern Asia                           4.590857\n",
       "Sub-Saharan Africa                      4.150957"
      ]
     },
     "execution_count": 10,
     "metadata": {},
     "output_type": "execute_result"
    }
   ],
   "source": [
    "# Quick Overview of Just One Column \n",
    "data_c.pivot_table(index='Region', values='Happiness Score').sort_values('Happiness Score', ascending=False)"
   ]
  },
  {
   "cell_type": "markdown",
   "metadata": {
    "hidden": true
   },
   "source": [
    "Let's look at groupby and pivot_table versions based on Region and Year. "
   ]
  },
  {
   "cell_type": "code",
   "execution_count": 11,
   "metadata": {
    "ExecuteTime": {
     "end_time": "2019-07-27T11:50:29.071263Z",
     "start_time": "2019-07-27T11:50:29.037283Z"
    },
    "hidden": true,
    "scrolled": true
   },
   "outputs": [
    {
     "data": {
      "text/html": [
       "<div>\n",
       "<style scoped>\n",
       "    .dataframe tbody tr th:only-of-type {\n",
       "        vertical-align: middle;\n",
       "    }\n",
       "\n",
       "    .dataframe tbody tr th {\n",
       "        vertical-align: top;\n",
       "    }\n",
       "\n",
       "    .dataframe thead th {\n",
       "        text-align: right;\n",
       "    }\n",
       "</style>\n",
       "<table border=\"1\" class=\"dataframe\">\n",
       "  <thead>\n",
       "    <tr style=\"text-align: right;\">\n",
       "      <th></th>\n",
       "      <th></th>\n",
       "      <th>Happiness Score</th>\n",
       "    </tr>\n",
       "    <tr>\n",
       "      <th>Region</th>\n",
       "      <th>Year</th>\n",
       "      <th></th>\n",
       "    </tr>\n",
       "  </thead>\n",
       "  <tbody>\n",
       "    <tr>\n",
       "      <th rowspan=\"3\" valign=\"top\">Australia and New Zealand</th>\n",
       "      <th>2015</th>\n",
       "      <td>7.285</td>\n",
       "    </tr>\n",
       "    <tr>\n",
       "      <th>2016</th>\n",
       "      <td>7.323</td>\n",
       "    </tr>\n",
       "    <tr>\n",
       "      <th>2017</th>\n",
       "      <td>7.299</td>\n",
       "    </tr>\n",
       "    <tr>\n",
       "      <th rowspan=\"3\" valign=\"top\">Central and Eastern Europe</th>\n",
       "      <th>2015</th>\n",
       "      <td>5.333</td>\n",
       "    </tr>\n",
       "    <tr>\n",
       "      <th>2016</th>\n",
       "      <td>5.371</td>\n",
       "    </tr>\n",
       "    <tr>\n",
       "      <th>2017</th>\n",
       "      <td>5.410</td>\n",
       "    </tr>\n",
       "    <tr>\n",
       "      <th rowspan=\"3\" valign=\"top\">Eastern Asia</th>\n",
       "      <th>2015</th>\n",
       "      <td>5.626</td>\n",
       "    </tr>\n",
       "    <tr>\n",
       "      <th>2016</th>\n",
       "      <td>5.624</td>\n",
       "    </tr>\n",
       "    <tr>\n",
       "      <th>2017</th>\n",
       "      <td>5.647</td>\n",
       "    </tr>\n",
       "    <tr>\n",
       "      <th>Latin America and Caribbean</th>\n",
       "      <th>2015</th>\n",
       "      <td>6.145</td>\n",
       "    </tr>\n",
       "  </tbody>\n",
       "</table>\n",
       "</div>"
      ],
      "text/plain": [
       "                                  Happiness Score\n",
       "Region                      Year                 \n",
       "Australia and New Zealand   2015            7.285\n",
       "                            2016            7.323\n",
       "                            2017            7.299\n",
       "Central and Eastern Europe  2015            5.333\n",
       "                            2016            5.371\n",
       "                            2017            5.410\n",
       "Eastern Asia                2015            5.626\n",
       "                            2016            5.624\n",
       "                            2017            5.647\n",
       "Latin America and Caribbean 2015            6.145"
      ]
     },
     "execution_count": 11,
     "metadata": {},
     "output_type": "execute_result"
    }
   ],
   "source": [
    "# groupby version of Region, aggregate mean \n",
    "# df.groupby('grouping column').agg({'aggregating column': 'aggregating function'})\n",
    "\n",
    "data_c.groupby(['Region','Year']).agg({'Happiness Score': 'mean'}).round(3).head(10)\n",
    "\n",
    "# note this is equivalent:\n",
    "# pd.pivot_table(data_c, index=['Region','Year'], values='Happiness Score', aggfunc='mean').head(10)"
   ]
  },
  {
   "cell_type": "code",
   "execution_count": 12,
   "metadata": {
    "ExecuteTime": {
     "end_time": "2019-07-27T11:50:29.125235Z",
     "start_time": "2019-07-27T11:50:29.076260Z"
    },
    "hidden": true
   },
   "outputs": [
    {
     "data": {
      "text/html": [
       "<div>\n",
       "<style scoped>\n",
       "    .dataframe tbody tr th:only-of-type {\n",
       "        vertical-align: middle;\n",
       "    }\n",
       "\n",
       "    .dataframe tbody tr th {\n",
       "        vertical-align: top;\n",
       "    }\n",
       "\n",
       "    .dataframe thead th {\n",
       "        text-align: right;\n",
       "    }\n",
       "</style>\n",
       "<table border=\"1\" class=\"dataframe\">\n",
       "  <thead>\n",
       "    <tr style=\"text-align: right;\">\n",
       "      <th>Year</th>\n",
       "      <th>2015</th>\n",
       "      <th>2016</th>\n",
       "      <th>2017</th>\n",
       "    </tr>\n",
       "    <tr>\n",
       "      <th>Region</th>\n",
       "      <th></th>\n",
       "      <th></th>\n",
       "      <th></th>\n",
       "    </tr>\n",
       "  </thead>\n",
       "  <tbody>\n",
       "    <tr>\n",
       "      <th>Australia and New Zealand</th>\n",
       "      <td>7.285000</td>\n",
       "      <td>7.323500</td>\n",
       "      <td>7.299000</td>\n",
       "    </tr>\n",
       "    <tr>\n",
       "      <th>Central and Eastern Europe</th>\n",
       "      <td>5.332931</td>\n",
       "      <td>5.370690</td>\n",
       "      <td>5.409931</td>\n",
       "    </tr>\n",
       "    <tr>\n",
       "      <th>Eastern Asia</th>\n",
       "      <td>5.626167</td>\n",
       "      <td>5.624167</td>\n",
       "      <td>5.646667</td>\n",
       "    </tr>\n",
       "    <tr>\n",
       "      <th>Latin America and Caribbean</th>\n",
       "      <td>6.144682</td>\n",
       "      <td>6.101750</td>\n",
       "      <td>5.957818</td>\n",
       "    </tr>\n",
       "    <tr>\n",
       "      <th>Middle East and Northern Africa</th>\n",
       "      <td>5.406900</td>\n",
       "      <td>5.386053</td>\n",
       "      <td>5.369684</td>\n",
       "    </tr>\n",
       "    <tr>\n",
       "      <th>North America</th>\n",
       "      <td>7.273000</td>\n",
       "      <td>7.254000</td>\n",
       "      <td>7.154500</td>\n",
       "    </tr>\n",
       "    <tr>\n",
       "      <th>Southeastern Asia</th>\n",
       "      <td>5.317444</td>\n",
       "      <td>5.338889</td>\n",
       "      <td>5.444875</td>\n",
       "    </tr>\n",
       "    <tr>\n",
       "      <th>Southern Asia</th>\n",
       "      <td>4.580857</td>\n",
       "      <td>4.563286</td>\n",
       "      <td>4.628429</td>\n",
       "    </tr>\n",
       "    <tr>\n",
       "      <th>Sub-Saharan Africa</th>\n",
       "      <td>4.202800</td>\n",
       "      <td>4.136421</td>\n",
       "      <td>4.111949</td>\n",
       "    </tr>\n",
       "    <tr>\n",
       "      <th>Western Europe</th>\n",
       "      <td>6.689619</td>\n",
       "      <td>6.685667</td>\n",
       "      <td>6.703714</td>\n",
       "    </tr>\n",
       "  </tbody>\n",
       "</table>\n",
       "</div>"
      ],
      "text/plain": [
       "Year                                 2015      2016      2017\n",
       "Region                                                       \n",
       "Australia and New Zealand        7.285000  7.323500  7.299000\n",
       "Central and Eastern Europe       5.332931  5.370690  5.409931\n",
       "Eastern Asia                     5.626167  5.624167  5.646667\n",
       "Latin America and Caribbean      6.144682  6.101750  5.957818\n",
       "Middle East and Northern Africa  5.406900  5.386053  5.369684\n",
       "North America                    7.273000  7.254000  7.154500\n",
       "Southeastern Asia                5.317444  5.338889  5.444875\n",
       "Southern Asia                    4.580857  4.563286  4.628429\n",
       "Sub-Saharan Africa               4.202800  4.136421  4.111949\n",
       "Western Europe                   6.689619  6.685667  6.703714"
      ]
     },
     "execution_count": 12,
     "metadata": {},
     "output_type": "execute_result"
    }
   ],
   "source": [
    "# pivot table version \n",
    "# note if you use *multiple columns parameter, you can't see what you applied aggfunc on (happiness score)\n",
    "# you also can't sort_values by happiness due to table position, though you can alphabetically rearrange region\n",
    "\n",
    "data_c.pivot_table(index='Region', columns='Year', values='Happiness Score', aggfunc=np.mean)"
   ]
  },
  {
   "cell_type": "markdown",
   "metadata": {
    "hidden": true
   },
   "source": [
    "Scores are very consistent year to year, with fairly low variance. Biggest fluctuation is in Central and Eastern Europe. \n",
    "\n",
    "We could also check the standard deviation within regions. "
   ]
  },
  {
   "cell_type": "code",
   "execution_count": 13,
   "metadata": {
    "ExecuteTime": {
     "end_time": "2019-07-27T11:50:29.226175Z",
     "start_time": "2019-07-27T11:50:29.130231Z"
    },
    "hidden": true,
    "scrolled": true
   },
   "outputs": [
    {
     "data": {
      "text/html": [
       "<div>\n",
       "<style scoped>\n",
       "    .dataframe tbody tr th:only-of-type {\n",
       "        vertical-align: middle;\n",
       "    }\n",
       "\n",
       "    .dataframe tbody tr th {\n",
       "        vertical-align: top;\n",
       "    }\n",
       "\n",
       "    .dataframe thead tr th {\n",
       "        text-align: left;\n",
       "    }\n",
       "\n",
       "    .dataframe thead tr:last-of-type th {\n",
       "        text-align: right;\n",
       "    }\n",
       "</style>\n",
       "<table border=\"1\" class=\"dataframe\">\n",
       "  <thead>\n",
       "    <tr>\n",
       "      <th></th>\n",
       "      <th>mean</th>\n",
       "      <th>median</th>\n",
       "      <th>min</th>\n",
       "      <th>max</th>\n",
       "      <th>std</th>\n",
       "    </tr>\n",
       "    <tr>\n",
       "      <th></th>\n",
       "      <th>Happiness Score</th>\n",
       "      <th>Happiness Score</th>\n",
       "      <th>Happiness Score</th>\n",
       "      <th>Happiness Score</th>\n",
       "      <th>Happiness Score</th>\n",
       "    </tr>\n",
       "    <tr>\n",
       "      <th>Region</th>\n",
       "      <th></th>\n",
       "      <th></th>\n",
       "      <th></th>\n",
       "      <th></th>\n",
       "      <th></th>\n",
       "    </tr>\n",
       "  </thead>\n",
       "  <tbody>\n",
       "    <tr>\n",
       "      <th>Australia and New Zealand</th>\n",
       "      <td>7.302500</td>\n",
       "      <td>7.2995</td>\n",
       "      <td>7.284</td>\n",
       "      <td>7.334</td>\n",
       "      <td>0.020936</td>\n",
       "    </tr>\n",
       "    <tr>\n",
       "      <th>Central and Eastern Europe</th>\n",
       "      <td>5.371184</td>\n",
       "      <td>5.4010</td>\n",
       "      <td>4.096</td>\n",
       "      <td>6.609</td>\n",
       "      <td>0.578274</td>\n",
       "    </tr>\n",
       "    <tr>\n",
       "      <th>Eastern Asia</th>\n",
       "      <td>5.632333</td>\n",
       "      <td>5.6545</td>\n",
       "      <td>4.874</td>\n",
       "      <td>6.422</td>\n",
       "      <td>0.502100</td>\n",
       "    </tr>\n",
       "    <tr>\n",
       "      <th>Latin America and Caribbean</th>\n",
       "      <td>6.069074</td>\n",
       "      <td>6.1265</td>\n",
       "      <td>3.603</td>\n",
       "      <td>7.226</td>\n",
       "      <td>0.728157</td>\n",
       "    </tr>\n",
       "    <tr>\n",
       "      <th>Middle East and Northern Africa</th>\n",
       "      <td>5.387879</td>\n",
       "      <td>5.3175</td>\n",
       "      <td>3.006</td>\n",
       "      <td>7.278</td>\n",
       "      <td>1.031656</td>\n",
       "    </tr>\n",
       "    <tr>\n",
       "      <th>North America</th>\n",
       "      <td>7.227167</td>\n",
       "      <td>7.2175</td>\n",
       "      <td>6.993</td>\n",
       "      <td>7.427</td>\n",
       "      <td>0.179331</td>\n",
       "    </tr>\n",
       "    <tr>\n",
       "      <th>Southeastern Asia</th>\n",
       "      <td>5.364077</td>\n",
       "      <td>5.2965</td>\n",
       "      <td>3.819</td>\n",
       "      <td>6.798</td>\n",
       "      <td>0.882637</td>\n",
       "    </tr>\n",
       "    <tr>\n",
       "      <th>Southern Asia</th>\n",
       "      <td>4.590857</td>\n",
       "      <td>4.6080</td>\n",
       "      <td>3.360</td>\n",
       "      <td>5.269</td>\n",
       "      <td>0.535978</td>\n",
       "    </tr>\n",
       "    <tr>\n",
       "      <th>Sub-Saharan Africa</th>\n",
       "      <td>4.150957</td>\n",
       "      <td>4.1390</td>\n",
       "      <td>2.693</td>\n",
       "      <td>5.648</td>\n",
       "      <td>0.584945</td>\n",
       "    </tr>\n",
       "    <tr>\n",
       "      <th>Western Europe</th>\n",
       "      <td>6.693000</td>\n",
       "      <td>6.9070</td>\n",
       "      <td>4.857</td>\n",
       "      <td>7.587</td>\n",
       "      <td>0.777886</td>\n",
       "    </tr>\n",
       "  </tbody>\n",
       "</table>\n",
       "</div>"
      ],
      "text/plain": [
       "                                           mean          median  \\\n",
       "                                Happiness Score Happiness Score   \n",
       "Region                                                            \n",
       "Australia and New Zealand              7.302500          7.2995   \n",
       "Central and Eastern Europe             5.371184          5.4010   \n",
       "Eastern Asia                           5.632333          5.6545   \n",
       "Latin America and Caribbean            6.069074          6.1265   \n",
       "Middle East and Northern Africa        5.387879          5.3175   \n",
       "North America                          7.227167          7.2175   \n",
       "Southeastern Asia                      5.364077          5.2965   \n",
       "Southern Asia                          4.590857          4.6080   \n",
       "Sub-Saharan Africa                     4.150957          4.1390   \n",
       "Western Europe                         6.693000          6.9070   \n",
       "\n",
       "                                            min             max  \\\n",
       "                                Happiness Score Happiness Score   \n",
       "Region                                                            \n",
       "Australia and New Zealand                 7.284           7.334   \n",
       "Central and Eastern Europe                4.096           6.609   \n",
       "Eastern Asia                              4.874           6.422   \n",
       "Latin America and Caribbean               3.603           7.226   \n",
       "Middle East and Northern Africa           3.006           7.278   \n",
       "North America                             6.993           7.427   \n",
       "Southeastern Asia                         3.819           6.798   \n",
       "Southern Asia                             3.360           5.269   \n",
       "Sub-Saharan Africa                        2.693           5.648   \n",
       "Western Europe                            4.857           7.587   \n",
       "\n",
       "                                            std  \n",
       "                                Happiness Score  \n",
       "Region                                           \n",
       "Australia and New Zealand              0.020936  \n",
       "Central and Eastern Europe             0.578274  \n",
       "Eastern Asia                           0.502100  \n",
       "Latin America and Caribbean            0.728157  \n",
       "Middle East and Northern Africa        1.031656  \n",
       "North America                          0.179331  \n",
       "Southeastern Asia                      0.882637  \n",
       "Southern Asia                          0.535978  \n",
       "Sub-Saharan Africa                     0.584945  \n",
       "Western Europe                         0.777886  "
      ]
     },
     "execution_count": 13,
     "metadata": {},
     "output_type": "execute_result"
    }
   ],
   "source": [
    "data_c.pivot_table(index='Region', values='Happiness Score', aggfunc=[np.mean, np.median, min, max, np.std])"
   ]
  },
  {
   "cell_type": "markdown",
   "metadata": {
    "hidden": true
   },
   "source": [
    "Western Europe is surprisingly not at the top of the list, despite the high averages of Nordic countries. It would be interesting to see which countries are weighing down the averages.  \n",
    "\n",
    "North America has an unusually low standard deviation. Australia and New Zealand are to be expected, given that they're isolated regions and close together.  \n",
    "\n",
    "The standard deviation of Middle East and Northern Africa in particular is very high . This indicates sub-regions range from low scores to high scores - also supported by the min and max. "
   ]
  },
  {
   "cell_type": "markdown",
   "metadata": {
    "heading_collapsed": true,
    "hidden": true
   },
   "source": [
    "## Western Europe "
   ]
  },
  {
   "cell_type": "markdown",
   "metadata": {
    "hidden": true
   },
   "source": [
    "Let's look specifically at 2015 and for Western Europe. "
   ]
  },
  {
   "cell_type": "code",
   "execution_count": 14,
   "metadata": {
    "ExecuteTime": {
     "end_time": "2019-07-27T11:50:29.303131Z",
     "start_time": "2019-07-27T11:50:29.231172Z"
    },
    "hidden": true,
    "scrolled": true
   },
   "outputs": [
    {
     "data": {
      "text/html": [
       "<div>\n",
       "<style scoped>\n",
       "    .dataframe tbody tr th:only-of-type {\n",
       "        vertical-align: middle;\n",
       "    }\n",
       "\n",
       "    .dataframe tbody tr th {\n",
       "        vertical-align: top;\n",
       "    }\n",
       "\n",
       "    .dataframe thead th {\n",
       "        text-align: right;\n",
       "    }\n",
       "</style>\n",
       "<table border=\"1\" class=\"dataframe\">\n",
       "  <thead>\n",
       "    <tr style=\"text-align: right;\">\n",
       "      <th></th>\n",
       "      <th>Country</th>\n",
       "      <th>Region</th>\n",
       "      <th>Happiness Rank</th>\n",
       "      <th>Happiness Score</th>\n",
       "      <th>Economy (GDP per Capita)</th>\n",
       "      <th>Family</th>\n",
       "      <th>Health (Life Expectancy)</th>\n",
       "      <th>Freedom</th>\n",
       "      <th>Trust (Government Corruption)</th>\n",
       "      <th>Generosity</th>\n",
       "      <th>Dystopia Residual</th>\n",
       "      <th>Year</th>\n",
       "    </tr>\n",
       "  </thead>\n",
       "  <tbody>\n",
       "    <tr>\n",
       "      <th>141</th>\n",
       "      <td>Switzerland</td>\n",
       "      <td>Western Europe</td>\n",
       "      <td>1.0</td>\n",
       "      <td>7.587</td>\n",
       "      <td>1.39651</td>\n",
       "      <td>1.34951</td>\n",
       "      <td>0.94143</td>\n",
       "      <td>0.66557</td>\n",
       "      <td>0.41978</td>\n",
       "      <td>0.29678</td>\n",
       "      <td>2.51738</td>\n",
       "      <td>2015</td>\n",
       "    </tr>\n",
       "    <tr>\n",
       "      <th>60</th>\n",
       "      <td>Iceland</td>\n",
       "      <td>Western Europe</td>\n",
       "      <td>2.0</td>\n",
       "      <td>7.561</td>\n",
       "      <td>1.30232</td>\n",
       "      <td>1.40223</td>\n",
       "      <td>0.94784</td>\n",
       "      <td>0.62877</td>\n",
       "      <td>0.14145</td>\n",
       "      <td>0.43630</td>\n",
       "      <td>2.70201</td>\n",
       "      <td>2015</td>\n",
       "    </tr>\n",
       "    <tr>\n",
       "      <th>38</th>\n",
       "      <td>Denmark</td>\n",
       "      <td>Western Europe</td>\n",
       "      <td>3.0</td>\n",
       "      <td>7.527</td>\n",
       "      <td>1.32548</td>\n",
       "      <td>1.36058</td>\n",
       "      <td>0.87464</td>\n",
       "      <td>0.64938</td>\n",
       "      <td>0.48357</td>\n",
       "      <td>0.34139</td>\n",
       "      <td>2.49204</td>\n",
       "      <td>2015</td>\n",
       "    </tr>\n",
       "    <tr>\n",
       "      <th>108</th>\n",
       "      <td>Norway</td>\n",
       "      <td>Western Europe</td>\n",
       "      <td>4.0</td>\n",
       "      <td>7.522</td>\n",
       "      <td>1.45900</td>\n",
       "      <td>1.33095</td>\n",
       "      <td>0.88521</td>\n",
       "      <td>0.66973</td>\n",
       "      <td>0.36503</td>\n",
       "      <td>0.34699</td>\n",
       "      <td>2.46531</td>\n",
       "      <td>2015</td>\n",
       "    </tr>\n",
       "    <tr>\n",
       "      <th>46</th>\n",
       "      <td>Finland</td>\n",
       "      <td>Western Europe</td>\n",
       "      <td>6.0</td>\n",
       "      <td>7.406</td>\n",
       "      <td>1.29025</td>\n",
       "      <td>1.31826</td>\n",
       "      <td>0.88911</td>\n",
       "      <td>0.64169</td>\n",
       "      <td>0.41372</td>\n",
       "      <td>0.23351</td>\n",
       "      <td>2.61955</td>\n",
       "      <td>2015</td>\n",
       "    </tr>\n",
       "    <tr>\n",
       "      <th>102</th>\n",
       "      <td>Netherlands</td>\n",
       "      <td>Western Europe</td>\n",
       "      <td>7.0</td>\n",
       "      <td>7.378</td>\n",
       "      <td>1.32944</td>\n",
       "      <td>1.28017</td>\n",
       "      <td>0.89284</td>\n",
       "      <td>0.61576</td>\n",
       "      <td>0.31814</td>\n",
       "      <td>0.47610</td>\n",
       "      <td>2.46570</td>\n",
       "      <td>2015</td>\n",
       "    </tr>\n",
       "    <tr>\n",
       "      <th>140</th>\n",
       "      <td>Sweden</td>\n",
       "      <td>Western Europe</td>\n",
       "      <td>8.0</td>\n",
       "      <td>7.364</td>\n",
       "      <td>1.33171</td>\n",
       "      <td>1.28907</td>\n",
       "      <td>0.91087</td>\n",
       "      <td>0.65980</td>\n",
       "      <td>0.43844</td>\n",
       "      <td>0.36262</td>\n",
       "      <td>2.37119</td>\n",
       "      <td>2015</td>\n",
       "    </tr>\n",
       "    <tr>\n",
       "      <th>7</th>\n",
       "      <td>Austria</td>\n",
       "      <td>Western Europe</td>\n",
       "      <td>13.0</td>\n",
       "      <td>7.200</td>\n",
       "      <td>1.33723</td>\n",
       "      <td>1.29704</td>\n",
       "      <td>0.89042</td>\n",
       "      <td>0.62433</td>\n",
       "      <td>0.18676</td>\n",
       "      <td>0.33088</td>\n",
       "      <td>2.53320</td>\n",
       "      <td>2015</td>\n",
       "    </tr>\n",
       "    <tr>\n",
       "      <th>84</th>\n",
       "      <td>Luxembourg</td>\n",
       "      <td>Western Europe</td>\n",
       "      <td>17.0</td>\n",
       "      <td>6.946</td>\n",
       "      <td>1.56391</td>\n",
       "      <td>1.21963</td>\n",
       "      <td>0.91894</td>\n",
       "      <td>0.61583</td>\n",
       "      <td>0.37798</td>\n",
       "      <td>0.28034</td>\n",
       "      <td>1.96961</td>\n",
       "      <td>2015</td>\n",
       "    </tr>\n",
       "    <tr>\n",
       "      <th>65</th>\n",
       "      <td>Ireland</td>\n",
       "      <td>Western Europe</td>\n",
       "      <td>18.0</td>\n",
       "      <td>6.940</td>\n",
       "      <td>1.33596</td>\n",
       "      <td>1.36948</td>\n",
       "      <td>0.89533</td>\n",
       "      <td>0.61777</td>\n",
       "      <td>0.28703</td>\n",
       "      <td>0.45901</td>\n",
       "      <td>1.97570</td>\n",
       "      <td>2015</td>\n",
       "    </tr>\n",
       "    <tr>\n",
       "      <th>12</th>\n",
       "      <td>Belgium</td>\n",
       "      <td>Western Europe</td>\n",
       "      <td>19.0</td>\n",
       "      <td>6.937</td>\n",
       "      <td>1.30782</td>\n",
       "      <td>1.28566</td>\n",
       "      <td>0.89667</td>\n",
       "      <td>0.58450</td>\n",
       "      <td>0.22540</td>\n",
       "      <td>0.22250</td>\n",
       "      <td>2.41484</td>\n",
       "      <td>2015</td>\n",
       "    </tr>\n",
       "    <tr>\n",
       "      <th>156</th>\n",
       "      <td>United Kingdom</td>\n",
       "      <td>Western Europe</td>\n",
       "      <td>21.0</td>\n",
       "      <td>6.867</td>\n",
       "      <td>1.26637</td>\n",
       "      <td>1.28548</td>\n",
       "      <td>0.90943</td>\n",
       "      <td>0.59625</td>\n",
       "      <td>0.32067</td>\n",
       "      <td>0.51912</td>\n",
       "      <td>1.96994</td>\n",
       "      <td>2015</td>\n",
       "    </tr>\n",
       "    <tr>\n",
       "      <th>50</th>\n",
       "      <td>Germany</td>\n",
       "      <td>Western Europe</td>\n",
       "      <td>26.0</td>\n",
       "      <td>6.750</td>\n",
       "      <td>1.32792</td>\n",
       "      <td>1.29937</td>\n",
       "      <td>0.89186</td>\n",
       "      <td>0.61477</td>\n",
       "      <td>0.21843</td>\n",
       "      <td>0.28214</td>\n",
       "      <td>2.11569</td>\n",
       "      <td>2015</td>\n",
       "    </tr>\n",
       "    <tr>\n",
       "      <th>47</th>\n",
       "      <td>France</td>\n",
       "      <td>Western Europe</td>\n",
       "      <td>29.0</td>\n",
       "      <td>6.575</td>\n",
       "      <td>1.27778</td>\n",
       "      <td>1.26038</td>\n",
       "      <td>0.94579</td>\n",
       "      <td>0.55011</td>\n",
       "      <td>0.20646</td>\n",
       "      <td>0.12332</td>\n",
       "      <td>2.21126</td>\n",
       "      <td>2015</td>\n",
       "    </tr>\n",
       "    <tr>\n",
       "      <th>135</th>\n",
       "      <td>Spain</td>\n",
       "      <td>Western Europe</td>\n",
       "      <td>36.0</td>\n",
       "      <td>6.329</td>\n",
       "      <td>1.23011</td>\n",
       "      <td>1.31379</td>\n",
       "      <td>0.95562</td>\n",
       "      <td>0.45951</td>\n",
       "      <td>0.06398</td>\n",
       "      <td>0.18227</td>\n",
       "      <td>2.12367</td>\n",
       "      <td>2015</td>\n",
       "    </tr>\n",
       "    <tr>\n",
       "      <th>90</th>\n",
       "      <td>Malta</td>\n",
       "      <td>Western Europe</td>\n",
       "      <td>37.0</td>\n",
       "      <td>6.302</td>\n",
       "      <td>1.20740</td>\n",
       "      <td>1.30203</td>\n",
       "      <td>0.88721</td>\n",
       "      <td>0.60365</td>\n",
       "      <td>0.13586</td>\n",
       "      <td>0.51752</td>\n",
       "      <td>1.64880</td>\n",
       "      <td>2015</td>\n",
       "    </tr>\n",
       "    <tr>\n",
       "      <th>67</th>\n",
       "      <td>Italy</td>\n",
       "      <td>Western Europe</td>\n",
       "      <td>50.0</td>\n",
       "      <td>5.948</td>\n",
       "      <td>1.25114</td>\n",
       "      <td>1.19777</td>\n",
       "      <td>0.95446</td>\n",
       "      <td>0.26236</td>\n",
       "      <td>0.02901</td>\n",
       "      <td>0.22823</td>\n",
       "      <td>2.02518</td>\n",
       "      <td>2015</td>\n",
       "    </tr>\n",
       "    <tr>\n",
       "      <th>107</th>\n",
       "      <td>North Cyprus</td>\n",
       "      <td>Western Europe</td>\n",
       "      <td>66.0</td>\n",
       "      <td>5.695</td>\n",
       "      <td>1.20806</td>\n",
       "      <td>1.07008</td>\n",
       "      <td>0.92356</td>\n",
       "      <td>0.49027</td>\n",
       "      <td>0.14280</td>\n",
       "      <td>0.26169</td>\n",
       "      <td>1.59888</td>\n",
       "      <td>2015</td>\n",
       "    </tr>\n",
       "    <tr>\n",
       "      <th>36</th>\n",
       "      <td>Cyprus</td>\n",
       "      <td>Western Europe</td>\n",
       "      <td>67.0</td>\n",
       "      <td>5.689</td>\n",
       "      <td>1.20813</td>\n",
       "      <td>0.89318</td>\n",
       "      <td>0.92356</td>\n",
       "      <td>0.40672</td>\n",
       "      <td>0.06146</td>\n",
       "      <td>0.30638</td>\n",
       "      <td>1.88931</td>\n",
       "      <td>2015</td>\n",
       "    </tr>\n",
       "    <tr>\n",
       "      <th>117</th>\n",
       "      <td>Portugal</td>\n",
       "      <td>Western Europe</td>\n",
       "      <td>88.0</td>\n",
       "      <td>5.102</td>\n",
       "      <td>1.15991</td>\n",
       "      <td>1.13935</td>\n",
       "      <td>0.87519</td>\n",
       "      <td>0.51469</td>\n",
       "      <td>0.01078</td>\n",
       "      <td>0.13719</td>\n",
       "      <td>1.26462</td>\n",
       "      <td>2015</td>\n",
       "    </tr>\n",
       "    <tr>\n",
       "      <th>52</th>\n",
       "      <td>Greece</td>\n",
       "      <td>Western Europe</td>\n",
       "      <td>102.0</td>\n",
       "      <td>4.857</td>\n",
       "      <td>1.15406</td>\n",
       "      <td>0.92933</td>\n",
       "      <td>0.88213</td>\n",
       "      <td>0.07699</td>\n",
       "      <td>0.01397</td>\n",
       "      <td>0.00000</td>\n",
       "      <td>1.80101</td>\n",
       "      <td>2015</td>\n",
       "    </tr>\n",
       "  </tbody>\n",
       "</table>\n",
       "</div>"
      ],
      "text/plain": [
       "            Country          Region  Happiness Rank  Happiness Score  \\\n",
       "141     Switzerland  Western Europe             1.0            7.587   \n",
       "60          Iceland  Western Europe             2.0            7.561   \n",
       "38          Denmark  Western Europe             3.0            7.527   \n",
       "108          Norway  Western Europe             4.0            7.522   \n",
       "46          Finland  Western Europe             6.0            7.406   \n",
       "102     Netherlands  Western Europe             7.0            7.378   \n",
       "140          Sweden  Western Europe             8.0            7.364   \n",
       "7           Austria  Western Europe            13.0            7.200   \n",
       "84       Luxembourg  Western Europe            17.0            6.946   \n",
       "65          Ireland  Western Europe            18.0            6.940   \n",
       "12          Belgium  Western Europe            19.0            6.937   \n",
       "156  United Kingdom  Western Europe            21.0            6.867   \n",
       "50          Germany  Western Europe            26.0            6.750   \n",
       "47           France  Western Europe            29.0            6.575   \n",
       "135           Spain  Western Europe            36.0            6.329   \n",
       "90            Malta  Western Europe            37.0            6.302   \n",
       "67            Italy  Western Europe            50.0            5.948   \n",
       "107    North Cyprus  Western Europe            66.0            5.695   \n",
       "36           Cyprus  Western Europe            67.0            5.689   \n",
       "117        Portugal  Western Europe            88.0            5.102   \n",
       "52           Greece  Western Europe           102.0            4.857   \n",
       "\n",
       "     Economy (GDP per Capita)   Family  Health (Life Expectancy)  Freedom  \\\n",
       "141                   1.39651  1.34951                   0.94143  0.66557   \n",
       "60                    1.30232  1.40223                   0.94784  0.62877   \n",
       "38                    1.32548  1.36058                   0.87464  0.64938   \n",
       "108                   1.45900  1.33095                   0.88521  0.66973   \n",
       "46                    1.29025  1.31826                   0.88911  0.64169   \n",
       "102                   1.32944  1.28017                   0.89284  0.61576   \n",
       "140                   1.33171  1.28907                   0.91087  0.65980   \n",
       "7                     1.33723  1.29704                   0.89042  0.62433   \n",
       "84                    1.56391  1.21963                   0.91894  0.61583   \n",
       "65                    1.33596  1.36948                   0.89533  0.61777   \n",
       "12                    1.30782  1.28566                   0.89667  0.58450   \n",
       "156                   1.26637  1.28548                   0.90943  0.59625   \n",
       "50                    1.32792  1.29937                   0.89186  0.61477   \n",
       "47                    1.27778  1.26038                   0.94579  0.55011   \n",
       "135                   1.23011  1.31379                   0.95562  0.45951   \n",
       "90                    1.20740  1.30203                   0.88721  0.60365   \n",
       "67                    1.25114  1.19777                   0.95446  0.26236   \n",
       "107                   1.20806  1.07008                   0.92356  0.49027   \n",
       "36                    1.20813  0.89318                   0.92356  0.40672   \n",
       "117                   1.15991  1.13935                   0.87519  0.51469   \n",
       "52                    1.15406  0.92933                   0.88213  0.07699   \n",
       "\n",
       "     Trust (Government Corruption)  Generosity  Dystopia Residual  Year  \n",
       "141                        0.41978     0.29678            2.51738  2015  \n",
       "60                         0.14145     0.43630            2.70201  2015  \n",
       "38                         0.48357     0.34139            2.49204  2015  \n",
       "108                        0.36503     0.34699            2.46531  2015  \n",
       "46                         0.41372     0.23351            2.61955  2015  \n",
       "102                        0.31814     0.47610            2.46570  2015  \n",
       "140                        0.43844     0.36262            2.37119  2015  \n",
       "7                          0.18676     0.33088            2.53320  2015  \n",
       "84                         0.37798     0.28034            1.96961  2015  \n",
       "65                         0.28703     0.45901            1.97570  2015  \n",
       "12                         0.22540     0.22250            2.41484  2015  \n",
       "156                        0.32067     0.51912            1.96994  2015  \n",
       "50                         0.21843     0.28214            2.11569  2015  \n",
       "47                         0.20646     0.12332            2.21126  2015  \n",
       "135                        0.06398     0.18227            2.12367  2015  \n",
       "90                         0.13586     0.51752            1.64880  2015  \n",
       "67                         0.02901     0.22823            2.02518  2015  \n",
       "107                        0.14280     0.26169            1.59888  2015  \n",
       "36                         0.06146     0.30638            1.88931  2015  \n",
       "117                        0.01078     0.13719            1.26462  2015  \n",
       "52                         0.01397     0.00000            1.80101  2015  "
      ]
     },
     "execution_count": 14,
     "metadata": {},
     "output_type": "execute_result"
    }
   ],
   "source": [
    "# order to see which counries have a lower score in Western Europe\n",
    "data_c[(data_c['Region']== 'Western Europe') & (data_c['Year']==2015)]"
   ]
  },
  {
   "cell_type": "markdown",
   "metadata": {
    "hidden": true
   },
   "source": [
    "Prominent countries that score between 6-7 are Spain, Germany, United Kingdom, Ireland, and France. \n",
    "\n",
    "Below 6 are Italy, Cyprus, Greece, and Portugal. \n",
    "\n",
    "Tiers can be made based on happiness rank: 1st tier (top 8), 2nd tier (next 8), and 3rd tier (bottom 5)."
   ]
  },
  {
   "cell_type": "code",
   "execution_count": 15,
   "metadata": {
    "ExecuteTime": {
     "end_time": "2019-07-27T11:50:29.325117Z",
     "start_time": "2019-07-27T11:50:29.310126Z"
    },
    "hidden": true
   },
   "outputs": [],
   "source": [
    "# # Mean of the top 8 countries in Western Europe\n",
    "# top8 = data_c[(data_c['Region']== 'Western Europe') & (data_c['Year']==2015)].iloc[0:8]\n",
    "# top8.mean()\n",
    "\n",
    "# # Mean of the middle 8 \n",
    "# middle8 = data_c[(data_c['Region']=='Western Europe') & (data_c['Year']==2015)].iloc[8:16]\n",
    "# middle8.mean()\n",
    "\n",
    "# # Mean of the bottom 8\n",
    "# bottom8 = data_c[(data_c['Region']=='Western Europe') & (data_c['Year']==2015)].iloc[-5:]\n",
    "# bottom8.mean()\n",
    "\n",
    "# w_europe = pd.concat(:[top8, middle8, bottom8], axis=0).reset_index()"
   ]
  },
  {
   "cell_type": "markdown",
   "metadata": {},
   "source": [
    "# Visualization"
   ]
  },
  {
   "cell_type": "markdown",
   "metadata": {
    "ExecuteTime": {
     "end_time": "2019-05-22T22:13:26.729962Z",
     "start_time": "2019-05-22T22:13:26.721967Z"
    }
   },
   "source": [
    "## Bar Graph\n",
    "Rather than looking at data frames, we can look at bar graph representation of regions and years. "
   ]
  },
  {
   "cell_type": "code",
   "execution_count": 16,
   "metadata": {
    "ExecuteTime": {
     "end_time": "2019-07-27T11:50:30.184636Z",
     "start_time": "2019-07-27T11:50:29.330115Z"
    },
    "scrolled": false
   },
   "outputs": [
    {
     "data": {
      "text/plain": [
       "Text(0, 0.5, 'Happiness Rank')"
      ]
     },
     "execution_count": 16,
     "metadata": {},
     "output_type": "execute_result"
    },
    {
     "data": {
      "image/png": "[encoded data removed]",
      "text/plain": [
       "<Figure size 432x288 with 1 Axes>"
      ]
     },
     "metadata": {},
     "output_type": "display_data"
    }
   ],
   "source": [
    "sns.set()\n",
    "\n",
    "# data_c.groupby(['Region','Year']).agg({'Happiness Score': 'mean'}).plot(kind='bar')\n",
    "# plt.ylabel(\"Happiness Rank\")\n",
    "# groupby plotEx\n",
    "\n",
    "data_c.pivot_table(index='Region', columns='Year',values='Happiness Score', aggfunc='mean').plot(kind='bar')\n",
    "plt.ylabel(\"Happiness Rank\")"
   ]
  },
  {
   "cell_type": "markdown",
   "metadata": {},
   "source": [
    "This indicates that from year to year, the data is very consistent. "
   ]
  },
  {
   "cell_type": "markdown",
   "metadata": {},
   "source": [
    "## Violin Graph\n",
    "Let's now look at violin graphs, which are my favorite ways to look at statistics involving mean, median, outliers,and standard deviation. "
   ]
  },
  {
   "cell_type": "code",
   "execution_count": 17,
   "metadata": {
    "ExecuteTime": {
     "end_time": "2019-07-27T11:50:32.920173Z",
     "start_time": "2019-07-27T11:50:30.188632Z"
    },
    "code_folding": [],
    "scrolled": true
   },
   "outputs": [
    {
     "data": {
      "application/vnd.plotly.v1+json": {
       "config": {
        "linkText": "Export to plot.ly",
        "plotlyServerURL": "https://plot.ly",
        "showLink": false
       },
       "data": [
        {
         "meanline": {
          "visible": true
         },
         "name": "Western Europe",
         "type": "violin",
         "uid": "eb036ca6-9112-4c89-a086-098e3b12cfdf",
         "x": [
          "Western Europe",
          "Western Europe",
          "Western Europe",
          "Western Europe",
          "Western Europe",
          "Western Europe",
          "Western Europe",
          "Western Europe",
          "Western Europe",
          "Western Europe",
          "Western Europe",
          "Western Europe",
          "Western Europe",
          "Western Europe",
          "Western Europe",
          "Western Europe",
          "Western Europe",
          "Western Europe",
          "Western Europe",
          "Western Europe",
          "Western Europe",
          "Western Europe",
          "Western Europe",
          "Western Europe",
          "Western Europe",
          "Western Europe",
          "Western Europe",
          "Western Europe",
          "Western Europe",
          "Western Europe",
          "Western Europe",
          "Western Europe",
          "Western Europe",
          "Western Europe",
          "Western Europe",
          "Western Europe",
          "Western Europe",
          "Western Europe",
          "Western Europe",
          "Western Europe",
          "Western Europe",
          "Western Europe",
          "Western Europe",
          "Western Europe",
          "Western Europe",
          "Western Europe",
          "Western Europe",
          "Western Europe",
          "Western Europe",
          "Western Europe",
          "Western Europe",
          "Western Europe",
          "Western Europe",
          "Western Europe",
          "Western Europe",
          "Western Europe",
          "Western Europe",
          "Western Europe",
          "Western Europe",
          "Western Europe",
          "Western Europe",
          "Western Europe",
          "Western Europe"
         ],
         "y": [
          7.5870000000000015,
          7.561,
          7.527,
          7.522,
          7.4060000000000015,
          7.377999999999999,
          7.364,
          7.2,
          6.9460000000000015,
          6.94,
          6.937,
          6.867000000000001,
          6.75,
          6.575,
          6.329,
          6.3020000000000005,
          5.948,
          5.695,
          5.689,
          5.102,
          4.857,
          7.526,
          7.508999999999999,
          7.501,
          7.497999999999998,
          7.4129999999999985,
          7.338999999999999,
          7.291,
          7.119,
          6.994,
          6.9289999999999985,
          6.907,
          6.871,
          6.725,
          6.488,
          6.478,
          6.3610000000000015,
          5.977,
          5.771,
          5.546,
          5.122999999999998,
          5.033,
          7.537000179290769,
          7.52199983596802,
          7.50400018692017,
          7.49399995803833,
          7.468999862670901,
          7.3769998550415,
          7.28399991989136,
          7.00600004196167,
          6.977000236511231,
          6.9510002136230495,
          6.89099979400635,
          6.86299991607666,
          6.71400022506714,
          6.52699995040894,
          6.44199991226196,
          6.40299987792969,
          5.96400022506714,
          5.80999994277954,
          5.62099981307983,
          5.227000236511231,
          5.19500017166138
         ]
        },
        {
         "meanline": {
          "visible": true
         },
         "name": "North America",
         "type": "violin",
         "uid": "f430a391-02ab-4ba0-b076-9fc26292c792",
         "x": [
          "North America",
          "North America",
          "North America",
          "North America",
          "North America",
          "North America"
         ],
         "y": [
          7.427,
          7.119,
          7.404,
          7.104,
          7.31599998474121,
          6.993000030517581
         ]
        },
        {
         "meanline": {
          "visible": true
         },
         "name": "Australia and New Zealand",
         "type": "violin",
         "uid": "c72caa08-3612-481d-a2b6-7e98186dc42a",
         "x": [
          "Australia and New Zealand",
          "Australia and New Zealand",
          "Australia and New Zealand",
          "Australia and New Zealand",
          "Australia and New Zealand",
          "Australia and New Zealand"
         ],
         "y": [
          7.286,
          7.284,
          7.334,
          7.313,
          7.31400012969971,
          7.28399991989136
         ]
        },
        {
         "meanline": {
          "visible": true
         },
         "name": "Middle East and Northern Africa",
         "type": "violin",
         "uid": "2beb2092-430c-416d-a21c-e287f2294fa1",
         "x": [
          "Middle East and Northern Africa",
          "Middle East and Northern Africa",
          "Middle East and Northern Africa",
          "Middle East and Northern Africa",
          "Middle East and Northern Africa",
          "Middle East and Northern Africa",
          "Middle East and Northern Africa",
          "Middle East and Northern Africa",
          "Middle East and Northern Africa",
          "Middle East and Northern Africa",
          "Middle East and Northern Africa",
          "Middle East and Northern Africa",
          "Middle East and Northern Africa",
          "Middle East and Northern Africa",
          "Middle East and Northern Africa",
          "Middle East and Northern Africa",
          "Middle East and Northern Africa",
          "Middle East and Northern Africa",
          "Middle East and Northern Africa",
          "Middle East and Northern Africa",
          "Middle East and Northern Africa",
          "Middle East and Northern Africa",
          "Middle East and Northern Africa",
          "Middle East and Northern Africa",
          "Middle East and Northern Africa",
          "Middle East and Northern Africa",
          "Middle East and Northern Africa",
          "Middle East and Northern Africa",
          "Middle East and Northern Africa",
          "Middle East and Northern Africa",
          "Middle East and Northern Africa",
          "Middle East and Northern Africa",
          "Middle East and Northern Africa",
          "Middle East and Northern Africa",
          "Middle East and Northern Africa",
          "Middle East and Northern Africa",
          "Middle East and Northern Africa",
          "Middle East and Northern Africa",
          "Middle East and Northern Africa",
          "Middle East and Northern Africa",
          "Middle East and Northern Africa",
          "Middle East and Northern Africa",
          "Middle East and Northern Africa",
          "Middle East and Northern Africa",
          "Middle East and Northern Africa",
          "Middle East and Northern Africa",
          "Middle East and Northern Africa",
          "Middle East and Northern Africa",
          "Middle East and Northern Africa",
          "Middle East and Northern Africa",
          "Middle East and Northern Africa",
          "Middle East and Northern Africa",
          "Middle East and Northern Africa",
          "Middle East and Northern Africa",
          "Middle East and Northern Africa",
          "Middle East and Northern Africa",
          "Middle East and Northern Africa",
          "Middle East and Northern Africa"
         ],
         "y": [
          7.278,
          6.901,
          6.853,
          6.6110000000000015,
          6.4110000000000005,
          6.295,
          5.96,
          5.754,
          5.605,
          5.332000000000002,
          5.192,
          5.013,
          4.839,
          4.739,
          4.715,
          4.686,
          4.677,
          4.194,
          4.077,
          3.006,
          7.267,
          6.573,
          6.379,
          6.375,
          6.355,
          6.239,
          6.218,
          5.615,
          5.3889999999999985,
          5.303,
          5.151,
          5.129,
          5.045,
          4.813,
          4.754,
          4.575,
          4.362,
          3.724,
          3.069,
          7.212999820709231,
          6.6479997634887695,
          6.375,
          6.343999862670901,
          6.10500001907349,
          6.08699989318848,
          5.8720002174377415,
          5.525000095367429,
          5.5,
          5.33599996566772,
          5.2350001335144,
          5.22499990463257,
          4.80499982833862,
          4.77500009536743,
          4.7350001335144,
          4.69199991226196,
          4.49700021743774,
          3.59299993515015,
          3.46199989318848
         ]
        },
        {
         "meanline": {
          "visible": true
         },
         "name": "Latin America and Caribbean",
         "type": "violin",
         "uid": "672d25ec-e0dc-4146-8995-d5ae87c81197",
         "x": [
          "Latin America and Caribbean",
          "Latin America and Caribbean",
          "Latin America and Caribbean",
          "Latin America and Caribbean",
          "Latin America and Caribbean",
          "Latin America and Caribbean",
          "Latin America and Caribbean",
          "Latin America and Caribbean",
          "Latin America and Caribbean",
          "Latin America and Caribbean",
          "Latin America and Caribbean",
          "Latin America and Caribbean",
          "Latin America and Caribbean",
          "Latin America and Caribbean",
          "Latin America and Caribbean",
          "Latin America and Caribbean",
          "Latin America and Caribbean",
          "Latin America and Caribbean",
          "Latin America and Caribbean",
          "Latin America and Caribbean",
          "Latin America and Caribbean",
          "Latin America and Caribbean",
          "Latin America and Caribbean",
          "Latin America and Caribbean",
          "Latin America and Caribbean",
          "Latin America and Caribbean",
          "Latin America and Caribbean",
          "Latin America and Caribbean",
          "Latin America and Caribbean",
          "Latin America and Caribbean",
          "Latin America and Caribbean",
          "Latin America and Caribbean",
          "Latin America and Caribbean",
          "Latin America and Caribbean",
          "Latin America and Caribbean",
          "Latin America and Caribbean",
          "Latin America and Caribbean",
          "Latin America and Caribbean",
          "Latin America and Caribbean",
          "Latin America and Caribbean",
          "Latin America and Caribbean",
          "Latin America and Caribbean",
          "Latin America and Caribbean",
          "Latin America and Caribbean",
          "Latin America and Caribbean",
          "Latin America and Caribbean",
          "Latin America and Caribbean",
          "Latin America and Caribbean",
          "Latin America and Caribbean",
          "Latin America and Caribbean",
          "Latin America and Caribbean",
          "Latin America and Caribbean",
          "Latin America and Caribbean",
          "Latin America and Caribbean",
          "Latin America and Caribbean",
          "Latin America and Caribbean",
          "Latin America and Caribbean",
          "Latin America and Caribbean",
          "Latin America and Caribbean",
          "Latin America and Caribbean",
          "Latin America and Caribbean",
          "Latin America and Caribbean",
          "Latin America and Caribbean",
          "Latin America and Caribbean",
          "Latin America and Caribbean",
          "Latin America and Caribbean",
          "Latin America and Caribbean",
          "Latin America and Caribbean"
         ],
         "y": [
          7.226,
          7.187,
          6.983,
          6.81,
          6.7860000000000005,
          6.67,
          6.574,
          6.485,
          6.477,
          6.269,
          6.167999999999998,
          6.13,
          6.122999999999998,
          5.975,
          5.89,
          5.877999999999999,
          5.8279999999999985,
          5.824,
          5.709,
          4.885,
          4.788,
          4.518,
          7.0870000000000015,
          7.039,
          6.952000000000001,
          6.778,
          6.705,
          6.7010000000000005,
          6.65,
          6.545,
          6.481,
          6.324,
          6.269,
          6.167999999999998,
          6.084,
          6.068,
          5.992000000000001,
          5.976,
          5.956,
          5.822,
          5.7429999999999986,
          5.5379999999999985,
          5.51,
          5.155,
          4.871,
          4.0280000000000005,
          7.0789999961853,
          6.65199995040894,
          6.63500022888184,
          6.59899997711182,
          6.57800006866455,
          6.4539999961853,
          6.4539999961853,
          6.4520001411438,
          6.35699987411499,
          6.1680002212524405,
          6.07100009918213,
          6.00799989700317,
          6.0029997825622585,
          5.955999851226809,
          5.82299995422363,
          5.71500015258789,
          5.493000030517581,
          5.31099987030029,
          5.25,
          5.230000019073491,
          5.1810002326965305,
          3.6029999256134
         ]
        },
        {
         "meanline": {
          "visible": true
         },
         "name": "Southeastern Asia",
         "type": "violin",
         "uid": "128efc29-e574-4d90-a41c-b3b674d0c2f6",
         "x": [
          "Southeastern Asia",
          "Southeastern Asia",
          "Southeastern Asia",
          "Southeastern Asia",
          "Southeastern Asia",
          "Southeastern Asia",
          "Southeastern Asia",
          "Southeastern Asia",
          "Southeastern Asia",
          "Southeastern Asia",
          "Southeastern Asia",
          "Southeastern Asia",
          "Southeastern Asia",
          "Southeastern Asia",
          "Southeastern Asia",
          "Southeastern Asia",
          "Southeastern Asia",
          "Southeastern Asia",
          "Southeastern Asia",
          "Southeastern Asia",
          "Southeastern Asia",
          "Southeastern Asia",
          "Southeastern Asia",
          "Southeastern Asia",
          "Southeastern Asia",
          "Southeastern Asia"
         ],
         "y": [
          6.797999999999999,
          6.455,
          5.77,
          5.399,
          5.36,
          5.073,
          4.876,
          4.307,
          3.819,
          6.739,
          6.474,
          6.005,
          5.314,
          5.279,
          5.061,
          4.876,
          4.395,
          3.907,
          6.57200002670288,
          6.423999786376951,
          6.08400011062622,
          5.42999982833862,
          5.26200008392334,
          5.07399988174438,
          4.54500007629395,
          4.1680002212524405
         ]
        },
        {
         "meanline": {
          "visible": true
         },
         "name": "Central and Eastern Europe",
         "type": "violin",
         "uid": "744d6a6d-c5b8-434c-88cf-338435bfbc83",
         "x": [
          "Central and Eastern Europe",
          "Central and Eastern Europe",
          "Central and Eastern Europe",
          "Central and Eastern Europe",
          "Central and Eastern Europe",
          "Central and Eastern Europe",
          "Central and Eastern Europe",
          "Central and Eastern Europe",
          "Central and Eastern Europe",
          "Central and Eastern Europe",
          "Central and Eastern Europe",
          "Central and Eastern Europe",
          "Central and Eastern Europe",
          "Central and Eastern Europe",
          "Central and Eastern Europe",
          "Central and Eastern Europe",
          "Central and Eastern Europe",
          "Central and Eastern Europe",
          "Central and Eastern Europe",
          "Central and Eastern Europe",
          "Central and Eastern Europe",
          "Central and Eastern Europe",
          "Central and Eastern Europe",
          "Central and Eastern Europe",
          "Central and Eastern Europe",
          "Central and Eastern Europe",
          "Central and Eastern Europe",
          "Central and Eastern Europe",
          "Central and Eastern Europe",
          "Central and Eastern Europe",
          "Central and Eastern Europe",
          "Central and Eastern Europe",
          "Central and Eastern Europe",
          "Central and Eastern Europe",
          "Central and Eastern Europe",
          "Central and Eastern Europe",
          "Central and Eastern Europe",
          "Central and Eastern Europe",
          "Central and Eastern Europe",
          "Central and Eastern Europe",
          "Central and Eastern Europe",
          "Central and Eastern Europe",
          "Central and Eastern Europe",
          "Central and Eastern Europe",
          "Central and Eastern Europe",
          "Central and Eastern Europe",
          "Central and Eastern Europe",
          "Central and Eastern Europe",
          "Central and Eastern Europe",
          "Central and Eastern Europe",
          "Central and Eastern Europe",
          "Central and Eastern Europe",
          "Central and Eastern Europe",
          "Central and Eastern Europe",
          "Central and Eastern Europe",
          "Central and Eastern Europe",
          "Central and Eastern Europe",
          "Central and Eastern Europe",
          "Central and Eastern Europe",
          "Central and Eastern Europe",
          "Central and Eastern Europe",
          "Central and Eastern Europe",
          "Central and Eastern Europe",
          "Central and Eastern Europe",
          "Central and Eastern Europe",
          "Central and Eastern Europe",
          "Central and Eastern Europe",
          "Central and Eastern Europe",
          "Central and Eastern Europe",
          "Central and Eastern Europe",
          "Central and Eastern Europe",
          "Central and Eastern Europe",
          "Central and Eastern Europe",
          "Central and Eastern Europe",
          "Central and Eastern Europe",
          "Central and Eastern Europe",
          "Central and Eastern Europe",
          "Central and Eastern Europe",
          "Central and Eastern Europe",
          "Central and Eastern Europe",
          "Central and Eastern Europe",
          "Central and Eastern Europe",
          "Central and Eastern Europe",
          "Central and Eastern Europe",
          "Central and Eastern Europe",
          "Central and Eastern Europe",
          "Central and Eastern Europe"
         ],
         "y": [
          6.505,
          6.002999999999999,
          5.995,
          5.8889999999999985,
          5.855,
          5.848,
          5.832999999999998,
          5.813,
          5.791,
          5.759,
          5.716,
          5.589,
          5.547999999999999,
          5.4289999999999985,
          5.2860000000000005,
          5.2120000000000015,
          5.192,
          5.124,
          5.122999999999998,
          5.098,
          5.007,
          4.959,
          4.949,
          4.8,
          4.7860000000000005,
          4.681,
          4.35,
          4.297,
          4.218,
          6.596,
          6.0779999999999985,
          5.987,
          5.919,
          5.897,
          5.856,
          5.835,
          5.813,
          5.8020000000000005,
          5.768,
          5.658,
          5.56,
          5.528,
          5.517,
          5.488,
          5.401,
          5.291,
          5.185,
          5.1770000000000005,
          5.1629999999999985,
          5.1610000000000005,
          5.145,
          5.121,
          4.996,
          4.655,
          4.36,
          4.324,
          4.252,
          4.217,
          6.60900020599365,
          6.09800004959106,
          5.97300004959106,
          5.97100019454956,
          5.962999820709231,
          5.90199995040894,
          5.849999904632571,
          5.837999820709231,
          5.824999809265139,
          5.82200002670288,
          5.8189997673034695,
          5.75799989700317,
          5.61100006103516,
          5.5689997673034695,
          5.39499998092651,
          5.32399988174438,
          5.2930002212524405,
          5.27899980545044,
          5.23699998855591,
          5.2340002059936515,
          5.18200016021729,
          5.1750001907348615,
          5.04099988937378,
          5.0040001869201705,
          4.71400022506714,
          4.64400005340576,
          4.37599992752075,
          4.28599977493286,
          4.09600019454956
         ]
        },
        {
         "meanline": {
          "visible": true
         },
         "name": "Eastern Asia",
         "type": "violin",
         "uid": "eee32338-8012-46ca-8324-460a27f9ab9f",
         "x": [
          "Eastern Asia",
          "Eastern Asia",
          "Eastern Asia",
          "Eastern Asia",
          "Eastern Asia",
          "Eastern Asia",
          "Eastern Asia",
          "Eastern Asia",
          "Eastern Asia",
          "Eastern Asia",
          "Eastern Asia",
          "Eastern Asia",
          "Eastern Asia",
          "Eastern Asia",
          "Eastern Asia",
          "Eastern Asia",
          "Eastern Asia",
          "Eastern Asia"
         ],
         "y": [
          6.297999999999999,
          5.987,
          5.984,
          5.474,
          5.14,
          4.874,
          6.379,
          5.921,
          5.835,
          5.457999999999998,
          5.245,
          4.907,
          6.42199993133545,
          5.92000007629395,
          5.837999820709231,
          5.47200012207031,
          5.2729997634887695,
          4.95499992370605
         ]
        },
        {
         "meanline": {
          "visible": true
         },
         "name": "Sub-Saharan Africa",
         "type": "violin",
         "uid": "ac2e6e6d-6237-44e5-8011-fa9685885a57",
         "x": [
          "Sub-Saharan Africa",
          "Sub-Saharan Africa",
          "Sub-Saharan Africa",
          "Sub-Saharan Africa",
          "Sub-Saharan Africa",
          "Sub-Saharan Africa",
          "Sub-Saharan Africa",
          "Sub-Saharan Africa",
          "Sub-Saharan Africa",
          "Sub-Saharan Africa",
          "Sub-Saharan Africa",
          "Sub-Saharan Africa",
          "Sub-Saharan Africa",
          "Sub-Saharan Africa",
          "Sub-Saharan Africa",
          "Sub-Saharan Africa",
          "Sub-Saharan Africa",
          "Sub-Saharan Africa",
          "Sub-Saharan Africa",
          "Sub-Saharan Africa",
          "Sub-Saharan Africa",
          "Sub-Saharan Africa",
          "Sub-Saharan Africa",
          "Sub-Saharan Africa",
          "Sub-Saharan Africa",
          "Sub-Saharan Africa",
          "Sub-Saharan Africa",
          "Sub-Saharan Africa",
          "Sub-Saharan Africa",
          "Sub-Saharan Africa",
          "Sub-Saharan Africa",
          "Sub-Saharan Africa",
          "Sub-Saharan Africa",
          "Sub-Saharan Africa",
          "Sub-Saharan Africa",
          "Sub-Saharan Africa",
          "Sub-Saharan Africa",
          "Sub-Saharan Africa",
          "Sub-Saharan Africa",
          "Sub-Saharan Africa",
          "Sub-Saharan Africa",
          "Sub-Saharan Africa",
          "Sub-Saharan Africa",
          "Sub-Saharan Africa",
          "Sub-Saharan Africa",
          "Sub-Saharan Africa",
          "Sub-Saharan Africa",
          "Sub-Saharan Africa",
          "Sub-Saharan Africa",
          "Sub-Saharan Africa",
          "Sub-Saharan Africa",
          "Sub-Saharan Africa",
          "Sub-Saharan Africa",
          "Sub-Saharan Africa",
          "Sub-Saharan Africa",
          "Sub-Saharan Africa",
          "Sub-Saharan Africa",
          "Sub-Saharan Africa",
          "Sub-Saharan Africa",
          "Sub-Saharan Africa",
          "Sub-Saharan Africa",
          "Sub-Saharan Africa",
          "Sub-Saharan Africa",
          "Sub-Saharan Africa",
          "Sub-Saharan Africa",
          "Sub-Saharan Africa",
          "Sub-Saharan Africa",
          "Sub-Saharan Africa",
          "Sub-Saharan Africa",
          "Sub-Saharan Africa",
          "Sub-Saharan Africa",
          "Sub-Saharan Africa",
          "Sub-Saharan Africa",
          "Sub-Saharan Africa",
          "Sub-Saharan Africa",
          "Sub-Saharan Africa",
          "Sub-Saharan Africa",
          "Sub-Saharan Africa",
          "Sub-Saharan Africa",
          "Sub-Saharan Africa",
          "Sub-Saharan Africa",
          "Sub-Saharan Africa",
          "Sub-Saharan Africa",
          "Sub-Saharan Africa",
          "Sub-Saharan Africa",
          "Sub-Saharan Africa",
          "Sub-Saharan Africa",
          "Sub-Saharan Africa",
          "Sub-Saharan Africa",
          "Sub-Saharan Africa",
          "Sub-Saharan Africa",
          "Sub-Saharan Africa",
          "Sub-Saharan Africa",
          "Sub-Saharan Africa",
          "Sub-Saharan Africa",
          "Sub-Saharan Africa",
          "Sub-Saharan Africa",
          "Sub-Saharan Africa",
          "Sub-Saharan Africa",
          "Sub-Saharan Africa",
          "Sub-Saharan Africa",
          "Sub-Saharan Africa",
          "Sub-Saharan Africa",
          "Sub-Saharan Africa",
          "Sub-Saharan Africa",
          "Sub-Saharan Africa",
          "Sub-Saharan Africa",
          "Sub-Saharan Africa",
          "Sub-Saharan Africa",
          "Sub-Saharan Africa",
          "Sub-Saharan Africa",
          "Sub-Saharan Africa",
          "Sub-Saharan Africa",
          "Sub-Saharan Africa",
          "Sub-Saharan Africa",
          "Sub-Saharan Africa",
          "Sub-Saharan Africa"
         ],
         "y": [
          5.477,
          5.268,
          5.129,
          5.057,
          4.971,
          4.898,
          4.867,
          4.642,
          4.633,
          4.61,
          4.5710000000000015,
          4.55,
          4.517,
          4.512,
          4.507,
          4.436,
          4.419,
          4.369,
          4.332,
          4.292,
          4.252,
          4.033,
          3.995,
          3.989,
          3.956,
          3.931,
          3.904,
          3.896,
          3.845,
          3.781,
          3.681,
          3.678,
          3.667,
          3.656,
          3.655,
          3.587,
          3.465,
          3.34,
          2.905,
          2.839,
          5.648,
          5.44,
          5.057,
          4.875,
          4.795,
          4.635,
          4.574,
          4.513,
          4.508,
          4.459,
          4.356,
          4.276,
          4.272,
          4.2360000000000015,
          4.2189999999999985,
          4.2010000000000005,
          4.1930000000000005,
          4.1560000000000015,
          4.1389999999999985,
          4.121,
          4.073,
          3.974,
          3.956,
          3.916,
          3.866,
          3.856,
          3.832,
          3.763,
          3.739,
          3.739,
          3.695,
          3.666,
          3.622,
          3.607,
          3.515,
          3.484,
          3.303,
          2.905,
          5.62900018692017,
          5.151000022888179,
          5.07399988174438,
          4.8289999961853,
          4.70900011062622,
          4.69500017166138,
          4.57399988174438,
          4.55299997329712,
          4.5500001907348615,
          4.53499984741211,
          4.513999938964839,
          4.46500015258789,
          4.46000003814697,
          4.29199981689453,
          4.29099988937378,
          4.280000209808351,
          4.19000005722046,
          4.17999982833862,
          4.138999938964839,
          4.11999988555908,
          4.08099985122681,
          4.03200006484985,
          4.02799987792969,
          3.97000002861023,
          3.9360001087188703,
          3.875,
          3.80800008773804,
          3.79500007629395,
          3.7660000324249294,
          3.65700006484985,
          3.64400005340576,
          3.5910000801086404,
          3.532999992370609,
          3.50699996948242,
          3.4949998855590803,
          3.47099995613098,
          3.34899997711182,
          2.90499997138977,
          2.69300007820129
         ]
        },
        {
         "meanline": {
          "visible": true
         },
         "name": "Southern Asia",
         "type": "violin",
         "uid": "2cb25e29-8129-4b3a-8166-ad394e76fc78",
         "x": [
          "Southern Asia",
          "Southern Asia",
          "Southern Asia",
          "Southern Asia",
          "Southern Asia",
          "Southern Asia",
          "Southern Asia",
          "Southern Asia",
          "Southern Asia",
          "Southern Asia",
          "Southern Asia",
          "Southern Asia",
          "Southern Asia",
          "Southern Asia",
          "Southern Asia",
          "Southern Asia",
          "Southern Asia",
          "Southern Asia",
          "Southern Asia",
          "Southern Asia",
          "Southern Asia"
         ],
         "y": [
          5.252999999999999,
          5.194,
          4.694,
          4.565,
          4.5139999999999985,
          4.271,
          3.575,
          5.1960000000000015,
          5.1320000000000014,
          4.793,
          4.643,
          4.415,
          4.404,
          3.36,
          5.26900005340576,
          5.01100015640259,
          4.961999893188481,
          4.60799980163574,
          4.44000005722046,
          4.31500005722046,
          3.79399991035461
         ]
        }
       ],
       "layout": {
        "title": {
         "text": "Happiness Score Across Regions"
        },
        "yaxis": {
         "zeroline": false
        }
       }
      },
      "text/html": [
       "<div id=\"165f9916-f241-4404-80c1-a84fc3e24723\" style=\"height: 525px; width: 100%;\" class=\"plotly-graph-div\"></div><script type=\"text/javascript\">require([\"plotly\"], function(Plotly) { window.PLOTLYENV=window.PLOTLYENV || {};window.PLOTLYENV.BASE_URL=\"https://plot.ly\";\n",
       "if (document.getElementById(\"165f9916-f241-4404-80c1-a84fc3e24723\")) {\n",
       "    Plotly.newPlot(\"165f9916-f241-4404-80c1-a84fc3e24723\", [{\"meanline\": {\"visible\": true}, \"name\": \"Western Europe\", \"x\": [\"Western Europe\", \"Western Europe\", \"Western Europe\", \"Western Europe\", \"Western Europe\", \"Western Europe\", \"Western Europe\", \"Western Europe\", \"Western Europe\", \"Western Europe\", \"Western Europe\", \"Western Europe\", \"Western Europe\", \"Western Europe\", \"Western Europe\", \"Western Europe\", \"Western Europe\", \"Western Europe\", \"Western Europe\", \"Western Europe\", \"Western Europe\", \"Western Europe\", \"Western Europe\", \"Western Europe\", \"Western Europe\", \"Western Europe\", \"Western Europe\", \"Western Europe\", \"Western Europe\", \"Western Europe\", \"Western Europe\", \"Western Europe\", \"Western Europe\", \"Western Europe\", \"Western Europe\", \"Western Europe\", \"Western Europe\", \"Western Europe\", \"Western Europe\", \"Western Europe\", \"Western Europe\", \"Western Europe\", \"Western Europe\", \"Western Europe\", \"Western Europe\", \"Western Europe\", \"Western Europe\", \"Western Europe\", \"Western Europe\", \"Western Europe\", \"Western Europe\", \"Western Europe\", \"Western Europe\", \"Western Europe\", \"Western Europe\", \"Western Europe\", \"Western Europe\", \"Western Europe\", \"Western Europe\", \"Western Europe\", \"Western Europe\", \"Western Europe\", \"Western Europe\"], \"y\": [7.5870000000000015, 7.561, 7.527, 7.522, 7.4060000000000015, 7.377999999999999, 7.364, 7.2, 6.9460000000000015, 6.94, 6.937, 6.867000000000001, 6.75, 6.575, 6.329, 6.3020000000000005, 5.948, 5.695, 5.689, 5.102, 4.857, 7.526, 7.508999999999999, 7.501, 7.497999999999998, 7.4129999999999985, 7.338999999999999, 7.291, 7.119, 6.994, 6.9289999999999985, 6.907, 6.871, 6.725, 6.488, 6.478, 6.3610000000000015, 5.977, 5.771, 5.546, 5.122999999999998, 5.033, 7.537000179290769, 7.52199983596802, 7.50400018692017, 7.49399995803833, 7.468999862670901, 7.3769998550415, 7.28399991989136, 7.00600004196167, 6.977000236511231, 6.9510002136230495, 6.89099979400635, 6.86299991607666, 6.71400022506714, 6.52699995040894, 6.44199991226196, 6.40299987792969, 5.96400022506714, 5.80999994277954, 5.62099981307983, 5.227000236511231, 5.19500017166138], \"type\": \"violin\", \"uid\": \"aed614db-1617-4d4e-b86c-c8730b5da3e1\"}, {\"meanline\": {\"visible\": true}, \"name\": \"North America\", \"x\": [\"North America\", \"North America\", \"North America\", \"North America\", \"North America\", \"North America\"], \"y\": [7.427, 7.119, 7.404, 7.104, 7.31599998474121, 6.993000030517581], \"type\": \"violin\", \"uid\": \"d4d90dd6-134b-4af7-9951-09c9b7bf5d2e\"}, {\"meanline\": {\"visible\": true}, \"name\": \"Australia and New Zealand\", \"x\": [\"Australia and New Zealand\", \"Australia and New Zealand\", \"Australia and New Zealand\", \"Australia and New Zealand\", \"Australia and New Zealand\", \"Australia and New Zealand\"], \"y\": [7.286, 7.284, 7.334, 7.313, 7.31400012969971, 7.28399991989136], \"type\": \"violin\", \"uid\": \"9df7edfd-80f9-4397-ad01-72a3b486d049\"}, {\"meanline\": {\"visible\": true}, \"name\": \"Middle East and Northern Africa\", \"x\": [\"Middle East and Northern Africa\", \"Middle East and Northern Africa\", \"Middle East and Northern Africa\", \"Middle East and Northern Africa\", \"Middle East and Northern Africa\", \"Middle East and Northern Africa\", \"Middle East and Northern Africa\", \"Middle East and Northern Africa\", \"Middle East and Northern Africa\", \"Middle East and Northern Africa\", \"Middle East and Northern Africa\", \"Middle East and Northern Africa\", \"Middle East and Northern Africa\", \"Middle East and Northern Africa\", \"Middle East and Northern Africa\", \"Middle East and Northern Africa\", \"Middle East and Northern Africa\", \"Middle East and Northern Africa\", \"Middle East and Northern Africa\", \"Middle East and Northern Africa\", \"Middle East and Northern Africa\", \"Middle East and Northern Africa\", \"Middle East and Northern Africa\", \"Middle East and Northern Africa\", \"Middle East and Northern Africa\", \"Middle East and Northern Africa\", \"Middle East and Northern Africa\", \"Middle East and Northern Africa\", \"Middle East and Northern Africa\", \"Middle East and Northern Africa\", \"Middle East and Northern Africa\", \"Middle East and Northern Africa\", \"Middle East and Northern Africa\", \"Middle East and Northern Africa\", \"Middle East and Northern Africa\", \"Middle East and Northern Africa\", \"Middle East and Northern Africa\", \"Middle East and Northern Africa\", \"Middle East and Northern Africa\", \"Middle East and Northern Africa\", \"Middle East and Northern Africa\", \"Middle East and Northern Africa\", \"Middle East and Northern Africa\", \"Middle East and Northern Africa\", \"Middle East and Northern Africa\", \"Middle East and Northern Africa\", \"Middle East and Northern Africa\", \"Middle East and Northern Africa\", \"Middle East and Northern Africa\", \"Middle East and Northern Africa\", \"Middle East and Northern Africa\", \"Middle East and Northern Africa\", \"Middle East and Northern Africa\", \"Middle East and Northern Africa\", \"Middle East and Northern Africa\", \"Middle East and Northern Africa\", \"Middle East and Northern Africa\", \"Middle East and Northern Africa\"], \"y\": [7.278, 6.901, 6.853, 6.6110000000000015, 6.4110000000000005, 6.295, 5.96, 5.754, 5.605, 5.332000000000002, 5.192, 5.013, 4.839, 4.739, 4.715, 4.686, 4.677, 4.194, 4.077, 3.006, 7.267, 6.573, 6.379, 6.375, 6.355, 6.239, 6.218, 5.615, 5.3889999999999985, 5.303, 5.151, 5.129, 5.045, 4.813, 4.754, 4.575, 4.362, 3.724, 3.069, 7.212999820709231, 6.6479997634887695, 6.375, 6.343999862670901, 6.10500001907349, 6.08699989318848, 5.8720002174377415, 5.525000095367429, 5.5, 5.33599996566772, 5.2350001335144, 5.22499990463257, 4.80499982833862, 4.77500009536743, 4.7350001335144, 4.69199991226196, 4.49700021743774, 3.59299993515015, 3.46199989318848], \"type\": \"violin\", \"uid\": \"f8176c5d-a970-4f47-884e-c36a5e805dc8\"}, {\"meanline\": {\"visible\": true}, \"name\": \"Latin America and Caribbean\", \"x\": [\"Latin America and Caribbean\", \"Latin America and Caribbean\", \"Latin America and Caribbean\", \"Latin America and Caribbean\", \"Latin America and Caribbean\", \"Latin America and Caribbean\", \"Latin America and Caribbean\", \"Latin America and Caribbean\", \"Latin America and Caribbean\", \"Latin America and Caribbean\", \"Latin America and Caribbean\", \"Latin America and Caribbean\", \"Latin America and Caribbean\", \"Latin America and Caribbean\", \"Latin America and Caribbean\", \"Latin America and Caribbean\", \"Latin America and Caribbean\", \"Latin America and Caribbean\", \"Latin America and Caribbean\", \"Latin America and Caribbean\", \"Latin America and Caribbean\", \"Latin America and Caribbean\", \"Latin America and Caribbean\", \"Latin America and Caribbean\", \"Latin America and Caribbean\", \"Latin America and Caribbean\", \"Latin America and Caribbean\", \"Latin America and Caribbean\", \"Latin America and Caribbean\", \"Latin America and Caribbean\", \"Latin America and Caribbean\", \"Latin America and Caribbean\", \"Latin America and Caribbean\", \"Latin America and Caribbean\", \"Latin America and Caribbean\", \"Latin America and Caribbean\", \"Latin America and Caribbean\", \"Latin America and Caribbean\", \"Latin America and Caribbean\", \"Latin America and Caribbean\", \"Latin America and Caribbean\", \"Latin America and Caribbean\", \"Latin America and Caribbean\", \"Latin America and Caribbean\", \"Latin America and Caribbean\", \"Latin America and Caribbean\", \"Latin America and Caribbean\", \"Latin America and Caribbean\", \"Latin America and Caribbean\", \"Latin America and Caribbean\", \"Latin America and Caribbean\", \"Latin America and Caribbean\", \"Latin America and Caribbean\", \"Latin America and Caribbean\", \"Latin America and Caribbean\", \"Latin America and Caribbean\", \"Latin America and Caribbean\", \"Latin America and Caribbean\", \"Latin America and Caribbean\", \"Latin America and Caribbean\", \"Latin America and Caribbean\", \"Latin America and Caribbean\", \"Latin America and Caribbean\", \"Latin America and Caribbean\", \"Latin America and Caribbean\", \"Latin America and Caribbean\", \"Latin America and Caribbean\", \"Latin America and Caribbean\"], \"y\": [7.226, 7.187, 6.983, 6.81, 6.7860000000000005, 6.67, 6.574, 6.485, 6.477, 6.269, 6.167999999999998, 6.13, 6.122999999999998, 5.975, 5.89, 5.877999999999999, 5.8279999999999985, 5.824, 5.709, 4.885, 4.788, 4.518, 7.0870000000000015, 7.039, 6.952000000000001, 6.778, 6.705, 6.7010000000000005, 6.65, 6.545, 6.481, 6.324, 6.269, 6.167999999999998, 6.084, 6.068, 5.992000000000001, 5.976, 5.956, 5.822, 5.7429999999999986, 5.5379999999999985, 5.51, 5.155, 4.871, 4.0280000000000005, 7.0789999961853, 6.65199995040894, 6.63500022888184, 6.59899997711182, 6.57800006866455, 6.4539999961853, 6.4539999961853, 6.4520001411438, 6.35699987411499, 6.1680002212524405, 6.07100009918213, 6.00799989700317, 6.0029997825622585, 5.955999851226809, 5.82299995422363, 5.71500015258789, 5.493000030517581, 5.31099987030029, 5.25, 5.230000019073491, 5.1810002326965305, 3.6029999256134], \"type\": \"violin\", \"uid\": \"02a43314-44ff-42a5-9160-d46e85bbcac4\"}, {\"meanline\": {\"visible\": true}, \"name\": \"Southeastern Asia\", \"x\": [\"Southeastern Asia\", \"Southeastern Asia\", \"Southeastern Asia\", \"Southeastern Asia\", \"Southeastern Asia\", \"Southeastern Asia\", \"Southeastern Asia\", \"Southeastern Asia\", \"Southeastern Asia\", \"Southeastern Asia\", \"Southeastern Asia\", \"Southeastern Asia\", \"Southeastern Asia\", \"Southeastern Asia\", \"Southeastern Asia\", \"Southeastern Asia\", \"Southeastern Asia\", \"Southeastern Asia\", \"Southeastern Asia\", \"Southeastern Asia\", \"Southeastern Asia\", \"Southeastern Asia\", \"Southeastern Asia\", \"Southeastern Asia\", \"Southeastern Asia\", \"Southeastern Asia\"], \"y\": [6.797999999999999, 6.455, 5.77, 5.399, 5.36, 5.073, 4.876, 4.307, 3.819, 6.739, 6.474, 6.005, 5.314, 5.279, 5.061, 4.876, 4.395, 3.907, 6.57200002670288, 6.423999786376951, 6.08400011062622, 5.42999982833862, 5.26200008392334, 5.07399988174438, 4.54500007629395, 4.1680002212524405], \"type\": \"violin\", \"uid\": \"a2154c07-5955-4596-a27e-15cbc1591d55\"}, {\"meanline\": {\"visible\": true}, \"name\": \"Central and Eastern Europe\", \"x\": [\"Central and Eastern Europe\", \"Central and Eastern Europe\", \"Central and Eastern Europe\", \"Central and Eastern Europe\", \"Central and Eastern Europe\", \"Central and Eastern Europe\", \"Central and Eastern Europe\", \"Central and Eastern Europe\", \"Central and Eastern Europe\", \"Central and Eastern Europe\", \"Central and Eastern Europe\", \"Central and Eastern Europe\", \"Central and Eastern Europe\", \"Central and Eastern Europe\", \"Central and Eastern Europe\", \"Central and Eastern Europe\", \"Central and Eastern Europe\", \"Central and Eastern Europe\", \"Central and Eastern Europe\", \"Central and Eastern Europe\", \"Central and Eastern Europe\", \"Central and Eastern Europe\", \"Central and Eastern Europe\", \"Central and Eastern Europe\", \"Central and Eastern Europe\", \"Central and Eastern Europe\", \"Central and Eastern Europe\", \"Central and Eastern Europe\", \"Central and Eastern Europe\", \"Central and Eastern Europe\", \"Central and Eastern Europe\", \"Central and Eastern Europe\", \"Central and Eastern Europe\", \"Central and Eastern Europe\", \"Central and Eastern Europe\", \"Central and Eastern Europe\", \"Central and Eastern Europe\", \"Central and Eastern Europe\", \"Central and Eastern Europe\", \"Central and Eastern Europe\", \"Central and Eastern Europe\", \"Central and Eastern Europe\", \"Central and Eastern Europe\", \"Central and Eastern Europe\", \"Central and Eastern Europe\", \"Central and Eastern Europe\", \"Central and Eastern Europe\", \"Central and Eastern Europe\", \"Central and Eastern Europe\", \"Central and Eastern Europe\", \"Central and Eastern Europe\", \"Central and Eastern Europe\", \"Central and Eastern Europe\", \"Central and Eastern Europe\", \"Central and Eastern Europe\", \"Central and Eastern Europe\", \"Central and Eastern Europe\", \"Central and Eastern Europe\", \"Central and Eastern Europe\", \"Central and Eastern Europe\", \"Central and Eastern Europe\", \"Central and Eastern Europe\", \"Central and Eastern Europe\", \"Central and Eastern Europe\", \"Central and Eastern Europe\", \"Central and Eastern Europe\", \"Central and Eastern Europe\", \"Central and Eastern Europe\", \"Central and Eastern Europe\", \"Central and Eastern Europe\", \"Central and Eastern Europe\", \"Central and Eastern Europe\", \"Central and Eastern Europe\", \"Central and Eastern Europe\", \"Central and Eastern Europe\", \"Central and Eastern Europe\", \"Central and Eastern Europe\", \"Central and Eastern Europe\", \"Central and Eastern Europe\", \"Central and Eastern Europe\", \"Central and Eastern Europe\", \"Central and Eastern Europe\", \"Central and Eastern Europe\", \"Central and Eastern Europe\", \"Central and Eastern Europe\", \"Central and Eastern Europe\", \"Central and Eastern Europe\"], \"y\": [6.505, 6.002999999999999, 5.995, 5.8889999999999985, 5.855, 5.848, 5.832999999999998, 5.813, 5.791, 5.759, 5.716, 5.589, 5.547999999999999, 5.4289999999999985, 5.2860000000000005, 5.2120000000000015, 5.192, 5.124, 5.122999999999998, 5.098, 5.007, 4.959, 4.949, 4.8, 4.7860000000000005, 4.681, 4.35, 4.297, 4.218, 6.596, 6.0779999999999985, 5.987, 5.919, 5.897, 5.856, 5.835, 5.813, 5.8020000000000005, 5.768, 5.658, 5.56, 5.528, 5.517, 5.488, 5.401, 5.291, 5.185, 5.1770000000000005, 5.1629999999999985, 5.1610000000000005, 5.145, 5.121, 4.996, 4.655, 4.36, 4.324, 4.252, 4.217, 6.60900020599365, 6.09800004959106, 5.97300004959106, 5.97100019454956, 5.962999820709231, 5.90199995040894, 5.849999904632571, 5.837999820709231, 5.824999809265139, 5.82200002670288, 5.8189997673034695, 5.75799989700317, 5.61100006103516, 5.5689997673034695, 5.39499998092651, 5.32399988174438, 5.2930002212524405, 5.27899980545044, 5.23699998855591, 5.2340002059936515, 5.18200016021729, 5.1750001907348615, 5.04099988937378, 5.0040001869201705, 4.71400022506714, 4.64400005340576, 4.37599992752075, 4.28599977493286, 4.09600019454956], \"type\": \"violin\", \"uid\": \"66111656-6252-4b1b-af50-d09fd3dee60c\"}, {\"meanline\": {\"visible\": true}, \"name\": \"Eastern Asia\", \"x\": [\"Eastern Asia\", \"Eastern Asia\", \"Eastern Asia\", \"Eastern Asia\", \"Eastern Asia\", \"Eastern Asia\", \"Eastern Asia\", \"Eastern Asia\", \"Eastern Asia\", \"Eastern Asia\", \"Eastern Asia\", \"Eastern Asia\", \"Eastern Asia\", \"Eastern Asia\", \"Eastern Asia\", \"Eastern Asia\", \"Eastern Asia\", \"Eastern Asia\"], \"y\": [6.297999999999999, 5.987, 5.984, 5.474, 5.14, 4.874, 6.379, 5.921, 5.835, 5.457999999999998, 5.245, 4.907, 6.42199993133545, 5.92000007629395, 5.837999820709231, 5.47200012207031, 5.2729997634887695, 4.95499992370605], \"type\": \"violin\", \"uid\": \"d3fa1143-f63e-4b05-aa53-f0cf2ba2995d\"}, {\"meanline\": {\"visible\": true}, \"name\": \"Sub-Saharan Africa\", \"x\": [\"Sub-Saharan Africa\", \"Sub-Saharan Africa\", \"Sub-Saharan Africa\", \"Sub-Saharan Africa\", \"Sub-Saharan Africa\", \"Sub-Saharan Africa\", \"Sub-Saharan Africa\", \"Sub-Saharan Africa\", \"Sub-Saharan Africa\", \"Sub-Saharan Africa\", \"Sub-Saharan Africa\", \"Sub-Saharan Africa\", \"Sub-Saharan Africa\", \"Sub-Saharan Africa\", \"Sub-Saharan Africa\", \"Sub-Saharan Africa\", \"Sub-Saharan Africa\", \"Sub-Saharan Africa\", \"Sub-Saharan Africa\", \"Sub-Saharan Africa\", \"Sub-Saharan Africa\", \"Sub-Saharan Africa\", \"Sub-Saharan Africa\", \"Sub-Saharan Africa\", \"Sub-Saharan Africa\", \"Sub-Saharan Africa\", \"Sub-Saharan Africa\", \"Sub-Saharan Africa\", \"Sub-Saharan Africa\", \"Sub-Saharan Africa\", \"Sub-Saharan Africa\", \"Sub-Saharan Africa\", \"Sub-Saharan Africa\", \"Sub-Saharan Africa\", \"Sub-Saharan Africa\", \"Sub-Saharan Africa\", \"Sub-Saharan Africa\", \"Sub-Saharan Africa\", \"Sub-Saharan Africa\", \"Sub-Saharan Africa\", \"Sub-Saharan Africa\", \"Sub-Saharan Africa\", \"Sub-Saharan Africa\", \"Sub-Saharan Africa\", \"Sub-Saharan Africa\", \"Sub-Saharan Africa\", \"Sub-Saharan Africa\", \"Sub-Saharan Africa\", \"Sub-Saharan Africa\", \"Sub-Saharan Africa\", \"Sub-Saharan Africa\", \"Sub-Saharan Africa\", \"Sub-Saharan Africa\", \"Sub-Saharan Africa\", \"Sub-Saharan Africa\", \"Sub-Saharan Africa\", \"Sub-Saharan Africa\", \"Sub-Saharan Africa\", \"Sub-Saharan Africa\", \"Sub-Saharan Africa\", \"Sub-Saharan Africa\", \"Sub-Saharan Africa\", \"Sub-Saharan Africa\", \"Sub-Saharan Africa\", \"Sub-Saharan Africa\", \"Sub-Saharan Africa\", \"Sub-Saharan Africa\", \"Sub-Saharan Africa\", \"Sub-Saharan Africa\", \"Sub-Saharan Africa\", \"Sub-Saharan Africa\", \"Sub-Saharan Africa\", \"Sub-Saharan Africa\", \"Sub-Saharan Africa\", \"Sub-Saharan Africa\", \"Sub-Saharan Africa\", \"Sub-Saharan Africa\", \"Sub-Saharan Africa\", \"Sub-Saharan Africa\", \"Sub-Saharan Africa\", \"Sub-Saharan Africa\", \"Sub-Saharan Africa\", \"Sub-Saharan Africa\", \"Sub-Saharan Africa\", \"Sub-Saharan Africa\", \"Sub-Saharan Africa\", \"Sub-Saharan Africa\", \"Sub-Saharan Africa\", \"Sub-Saharan Africa\", \"Sub-Saharan Africa\", \"Sub-Saharan Africa\", \"Sub-Saharan Africa\", \"Sub-Saharan Africa\", \"Sub-Saharan Africa\", \"Sub-Saharan Africa\", \"Sub-Saharan Africa\", \"Sub-Saharan Africa\", \"Sub-Saharan Africa\", \"Sub-Saharan Africa\", \"Sub-Saharan Africa\", \"Sub-Saharan Africa\", \"Sub-Saharan Africa\", \"Sub-Saharan Africa\", \"Sub-Saharan Africa\", \"Sub-Saharan Africa\", \"Sub-Saharan Africa\", \"Sub-Saharan Africa\", \"Sub-Saharan Africa\", \"Sub-Saharan Africa\", \"Sub-Saharan Africa\", \"Sub-Saharan Africa\", \"Sub-Saharan Africa\", \"Sub-Saharan Africa\", \"Sub-Saharan Africa\", \"Sub-Saharan Africa\", \"Sub-Saharan Africa\", \"Sub-Saharan Africa\"], \"y\": [5.477, 5.268, 5.129, 5.057, 4.971, 4.898, 4.867, 4.642, 4.633, 4.61, 4.5710000000000015, 4.55, 4.517, 4.512, 4.507, 4.436, 4.419, 4.369, 4.332, 4.292, 4.252, 4.033, 3.995, 3.989, 3.956, 3.931, 3.904, 3.896, 3.845, 3.781, 3.681, 3.678, 3.667, 3.656, 3.655, 3.587, 3.465, 3.34, 2.905, 2.839, 5.648, 5.44, 5.057, 4.875, 4.795, 4.635, 4.574, 4.513, 4.508, 4.459, 4.356, 4.276, 4.272, 4.2360000000000015, 4.2189999999999985, 4.2010000000000005, 4.1930000000000005, 4.1560000000000015, 4.1389999999999985, 4.121, 4.073, 3.974, 3.956, 3.916, 3.866, 3.856, 3.832, 3.763, 3.739, 3.739, 3.695, 3.666, 3.622, 3.607, 3.515, 3.484, 3.303, 2.905, 5.62900018692017, 5.151000022888179, 5.07399988174438, 4.8289999961853, 4.70900011062622, 4.69500017166138, 4.57399988174438, 4.55299997329712, 4.5500001907348615, 4.53499984741211, 4.513999938964839, 4.46500015258789, 4.46000003814697, 4.29199981689453, 4.29099988937378, 4.280000209808351, 4.19000005722046, 4.17999982833862, 4.138999938964839, 4.11999988555908, 4.08099985122681, 4.03200006484985, 4.02799987792969, 3.97000002861023, 3.9360001087188703, 3.875, 3.80800008773804, 3.79500007629395, 3.7660000324249294, 3.65700006484985, 3.64400005340576, 3.5910000801086404, 3.532999992370609, 3.50699996948242, 3.4949998855590803, 3.47099995613098, 3.34899997711182, 2.90499997138977, 2.69300007820129], \"type\": \"violin\", \"uid\": \"c8f1e958-5654-44c1-830b-ccd9283e27fe\"}, {\"meanline\": {\"visible\": true}, \"name\": \"Southern Asia\", \"x\": [\"Southern Asia\", \"Southern Asia\", \"Southern Asia\", \"Southern Asia\", \"Southern Asia\", \"Southern Asia\", \"Southern Asia\", \"Southern Asia\", \"Southern Asia\", \"Southern Asia\", \"Southern Asia\", \"Southern Asia\", \"Southern Asia\", \"Southern Asia\", \"Southern Asia\", \"Southern Asia\", \"Southern Asia\", \"Southern Asia\", \"Southern Asia\", \"Southern Asia\", \"Southern Asia\"], \"y\": [5.252999999999999, 5.194, 4.694, 4.565, 4.5139999999999985, 4.271, 3.575, 5.1960000000000015, 5.1320000000000014, 4.793, 4.643, 4.415, 4.404, 3.36, 5.26900005340576, 5.01100015640259, 4.961999893188481, 4.60799980163574, 4.44000005722046, 4.31500005722046, 3.79399991035461], \"type\": \"violin\", \"uid\": \"6f15f48e-88a0-41b4-a9fc-c2a9a4050d93\"}], {\"title\": {\"text\": \"Happiness Score Across Regions\"}, \"yaxis\": {\"zeroline\": false}}, {\"showLink\": false, \"linkText\": \"Export to plot.ly\", \"plotlyServerURL\": \"https://plot.ly\"}); \n",
       "}\n",
       "});</script><script type=\"text/javascript\">window.addEventListener(\"resize\", function(){if (document.getElementById(\"165f9916-f241-4404-80c1-a84fc3e24723\")) {window._Plotly.Plots.resize(document.getElementById(\"165f9916-f241-4404-80c1-a84fc3e24723\"));};})</script>"
      ],
      "text/vnd.plotly.v1+html": [
       "<div id=\"165f9916-f241-4404-80c1-a84fc3e24723\" style=\"height: 525px; width: 100%;\" class=\"plotly-graph-div\"></div><script type=\"text/javascript\">require([\"plotly\"], function(Plotly) { window.PLOTLYENV=window.PLOTLYENV || {};window.PLOTLYENV.BASE_URL=\"https://plot.ly\";\n",
       "if (document.getElementById(\"165f9916-f241-4404-80c1-a84fc3e24723\")) {\n",
       "    Plotly.newPlot(\"165f9916-f241-4404-80c1-a84fc3e24723\", [{\"meanline\": {\"visible\": true}, \"name\": \"Western Europe\", \"x\": [\"Western Europe\", \"Western Europe\", \"Western Europe\", \"Western Europe\", \"Western Europe\", \"Western Europe\", \"Western Europe\", \"Western Europe\", \"Western Europe\", \"Western Europe\", \"Western Europe\", \"Western Europe\", \"Western Europe\", \"Western Europe\", \"Western Europe\", \"Western Europe\", \"Western Europe\", \"Western Europe\", \"Western Europe\", \"Western Europe\", \"Western Europe\", \"Western Europe\", \"Western Europe\", \"Western Europe\", \"Western Europe\", \"Western Europe\", \"Western Europe\", \"Western Europe\", \"Western Europe\", \"Western Europe\", \"Western Europe\", \"Western Europe\", \"Western Europe\", \"Western Europe\", \"Western Europe\", \"Western Europe\", \"Western Europe\", \"Western Europe\", \"Western Europe\", \"Western Europe\", \"Western Europe\", \"Western Europe\", \"Western Europe\", \"Western Europe\", \"Western Europe\", \"Western Europe\", \"Western Europe\", \"Western Europe\", \"Western Europe\", \"Western Europe\", \"Western Europe\", \"Western Europe\", \"Western Europe\", \"Western Europe\", \"Western Europe\", \"Western Europe\", \"Western Europe\", \"Western Europe\", \"Western Europe\", \"Western Europe\", \"Western Europe\", \"Western Europe\", \"Western Europe\"], \"y\": [7.5870000000000015, 7.561, 7.527, 7.522, 7.4060000000000015, 7.377999999999999, 7.364, 7.2, 6.9460000000000015, 6.94, 6.937, 6.867000000000001, 6.75, 6.575, 6.329, 6.3020000000000005, 5.948, 5.695, 5.689, 5.102, 4.857, 7.526, 7.508999999999999, 7.501, 7.497999999999998, 7.4129999999999985, 7.338999999999999, 7.291, 7.119, 6.994, 6.9289999999999985, 6.907, 6.871, 6.725, 6.488, 6.478, 6.3610000000000015, 5.977, 5.771, 5.546, 5.122999999999998, 5.033, 7.537000179290769, 7.52199983596802, 7.50400018692017, 7.49399995803833, 7.468999862670901, 7.3769998550415, 7.28399991989136, 7.00600004196167, 6.977000236511231, 6.9510002136230495, 6.89099979400635, 6.86299991607666, 6.71400022506714, 6.52699995040894, 6.44199991226196, 6.40299987792969, 5.96400022506714, 5.80999994277954, 5.62099981307983, 5.227000236511231, 5.19500017166138], \"type\": \"violin\", \"uid\": \"aed614db-1617-4d4e-b86c-c8730b5da3e1\"}, {\"meanline\": {\"visible\": true}, \"name\": \"North America\", \"x\": [\"North America\", \"North America\", \"North America\", \"North America\", \"North America\", \"North America\"], \"y\": [7.427, 7.119, 7.404, 7.104, 7.31599998474121, 6.993000030517581], \"type\": \"violin\", \"uid\": \"d4d90dd6-134b-4af7-9951-09c9b7bf5d2e\"}, {\"meanline\": {\"visible\": true}, \"name\": \"Australia and New Zealand\", \"x\": [\"Australia and New Zealand\", \"Australia and New Zealand\", \"Australia and New Zealand\", \"Australia and New Zealand\", \"Australia and New Zealand\", \"Australia and New Zealand\"], \"y\": [7.286, 7.284, 7.334, 7.313, 7.31400012969971, 7.28399991989136], \"type\": \"violin\", \"uid\": \"9df7edfd-80f9-4397-ad01-72a3b486d049\"}, {\"meanline\": {\"visible\": true}, \"name\": \"Middle East and Northern Africa\", \"x\": [\"Middle East and Northern Africa\", \"Middle East and Northern Africa\", \"Middle East and Northern Africa\", \"Middle East and Northern Africa\", \"Middle East and Northern Africa\", \"Middle East and Northern Africa\", \"Middle East and Northern Africa\", \"Middle East and Northern Africa\", \"Middle East and Northern Africa\", \"Middle East and Northern Africa\", \"Middle East and Northern Africa\", \"Middle East and Northern Africa\", \"Middle East and Northern Africa\", \"Middle East and Northern Africa\", \"Middle East and Northern Africa\", \"Middle East and Northern Africa\", \"Middle East and Northern Africa\", \"Middle East and Northern Africa\", \"Middle East and Northern Africa\", \"Middle East and Northern Africa\", \"Middle East and Northern Africa\", \"Middle East and Northern Africa\", \"Middle East and Northern Africa\", \"Middle East and Northern Africa\", \"Middle East and Northern Africa\", \"Middle East and Northern Africa\", \"Middle East and Northern Africa\", \"Middle East and Northern Africa\", \"Middle East and Northern Africa\", \"Middle East and Northern Africa\", \"Middle East and Northern Africa\", \"Middle East and Northern Africa\", \"Middle East and Northern Africa\", \"Middle East and Northern Africa\", \"Middle East and Northern Africa\", \"Middle East and Northern Africa\", \"Middle East and Northern Africa\", \"Middle East and Northern Africa\", \"Middle East and Northern Africa\", \"Middle East and Northern Africa\", \"Middle East and Northern Africa\", \"Middle East and Northern Africa\", \"Middle East and Northern Africa\", \"Middle East and Northern Africa\", \"Middle East and Northern Africa\", \"Middle East and Northern Africa\", \"Middle East and Northern Africa\", \"Middle East and Northern Africa\", \"Middle East and Northern Africa\", \"Middle East and Northern Africa\", \"Middle East and Northern Africa\", \"Middle East and Northern Africa\", \"Middle East and Northern Africa\", \"Middle East and Northern Africa\", \"Middle East and Northern Africa\", \"Middle East and Northern Africa\", \"Middle East and Northern Africa\", \"Middle East and Northern Africa\"], \"y\": [7.278, 6.901, 6.853, 6.6110000000000015, 6.4110000000000005, 6.295, 5.96, 5.754, 5.605, 5.332000000000002, 5.192, 5.013, 4.839, 4.739, 4.715, 4.686, 4.677, 4.194, 4.077, 3.006, 7.267, 6.573, 6.379, 6.375, 6.355, 6.239, 6.218, 5.615, 5.3889999999999985, 5.303, 5.151, 5.129, 5.045, 4.813, 4.754, 4.575, 4.362, 3.724, 3.069, 7.212999820709231, 6.6479997634887695, 6.375, 6.343999862670901, 6.10500001907349, 6.08699989318848, 5.8720002174377415, 5.525000095367429, 5.5, 5.33599996566772, 5.2350001335144, 5.22499990463257, 4.80499982833862, 4.77500009536743, 4.7350001335144, 4.69199991226196, 4.49700021743774, 3.59299993515015, 3.46199989318848], \"type\": \"violin\", \"uid\": \"f8176c5d-a970-4f47-884e-c36a5e805dc8\"}, {\"meanline\": {\"visible\": true}, \"name\": \"Latin America and Caribbean\", \"x\": [\"Latin America and Caribbean\", \"Latin America and Caribbean\", \"Latin America and Caribbean\", \"Latin America and Caribbean\", \"Latin America and Caribbean\", \"Latin America and Caribbean\", \"Latin America and Caribbean\", \"Latin America and Caribbean\", \"Latin America and Caribbean\", \"Latin America and Caribbean\", \"Latin America and Caribbean\", \"Latin America and Caribbean\", \"Latin America and Caribbean\", \"Latin America and Caribbean\", \"Latin America and Caribbean\", \"Latin America and Caribbean\", \"Latin America and Caribbean\", \"Latin America and Caribbean\", \"Latin America and Caribbean\", \"Latin America and Caribbean\", \"Latin America and Caribbean\", \"Latin America and Caribbean\", \"Latin America and Caribbean\", \"Latin America and Caribbean\", \"Latin America and Caribbean\", \"Latin America and Caribbean\", \"Latin America and Caribbean\", \"Latin America and Caribbean\", \"Latin America and Caribbean\", \"Latin America and Caribbean\", \"Latin America and Caribbean\", \"Latin America and Caribbean\", \"Latin America and Caribbean\", \"Latin America and Caribbean\", \"Latin America and Caribbean\", \"Latin America and Caribbean\", \"Latin America and Caribbean\", \"Latin America and Caribbean\", \"Latin America and Caribbean\", \"Latin America and Caribbean\", \"Latin America and Caribbean\", \"Latin America and Caribbean\", \"Latin America and Caribbean\", \"Latin America and Caribbean\", \"Latin America and Caribbean\", \"Latin America and Caribbean\", \"Latin America and Caribbean\", \"Latin America and Caribbean\", \"Latin America and Caribbean\", \"Latin America and Caribbean\", \"Latin America and Caribbean\", \"Latin America and Caribbean\", \"Latin America and Caribbean\", \"Latin America and Caribbean\", \"Latin America and Caribbean\", \"Latin America and Caribbean\", \"Latin America and Caribbean\", \"Latin America and Caribbean\", \"Latin America and Caribbean\", \"Latin America and Caribbean\", \"Latin America and Caribbean\", \"Latin America and Caribbean\", \"Latin America and Caribbean\", \"Latin America and Caribbean\", \"Latin America and Caribbean\", \"Latin America and Caribbean\", \"Latin America and Caribbean\", \"Latin America and Caribbean\"], \"y\": [7.226, 7.187, 6.983, 6.81, 6.7860000000000005, 6.67, 6.574, 6.485, 6.477, 6.269, 6.167999999999998, 6.13, 6.122999999999998, 5.975, 5.89, 5.877999999999999, 5.8279999999999985, 5.824, 5.709, 4.885, 4.788, 4.518, 7.0870000000000015, 7.039, 6.952000000000001, 6.778, 6.705, 6.7010000000000005, 6.65, 6.545, 6.481, 6.324, 6.269, 6.167999999999998, 6.084, 6.068, 5.992000000000001, 5.976, 5.956, 5.822, 5.7429999999999986, 5.5379999999999985, 5.51, 5.155, 4.871, 4.0280000000000005, 7.0789999961853, 6.65199995040894, 6.63500022888184, 6.59899997711182, 6.57800006866455, 6.4539999961853, 6.4539999961853, 6.4520001411438, 6.35699987411499, 6.1680002212524405, 6.07100009918213, 6.00799989700317, 6.0029997825622585, 5.955999851226809, 5.82299995422363, 5.71500015258789, 5.493000030517581, 5.31099987030029, 5.25, 5.230000019073491, 5.1810002326965305, 3.6029999256134], \"type\": \"violin\", \"uid\": \"02a43314-44ff-42a5-9160-d46e85bbcac4\"}, {\"meanline\": {\"visible\": true}, \"name\": \"Southeastern Asia\", \"x\": [\"Southeastern Asia\", \"Southeastern Asia\", \"Southeastern Asia\", \"Southeastern Asia\", \"Southeastern Asia\", \"Southeastern Asia\", \"Southeastern Asia\", \"Southeastern Asia\", \"Southeastern Asia\", \"Southeastern Asia\", \"Southeastern Asia\", \"Southeastern Asia\", \"Southeastern Asia\", \"Southeastern Asia\", \"Southeastern Asia\", \"Southeastern Asia\", \"Southeastern Asia\", \"Southeastern Asia\", \"Southeastern Asia\", \"Southeastern Asia\", \"Southeastern Asia\", \"Southeastern Asia\", \"Southeastern Asia\", \"Southeastern Asia\", \"Southeastern Asia\", \"Southeastern Asia\"], \"y\": [6.797999999999999, 6.455, 5.77, 5.399, 5.36, 5.073, 4.876, 4.307, 3.819, 6.739, 6.474, 6.005, 5.314, 5.279, 5.061, 4.876, 4.395, 3.907, 6.57200002670288, 6.423999786376951, 6.08400011062622, 5.42999982833862, 5.26200008392334, 5.07399988174438, 4.54500007629395, 4.1680002212524405], \"type\": \"violin\", \"uid\": \"a2154c07-5955-4596-a27e-15cbc1591d55\"}, {\"meanline\": {\"visible\": true}, \"name\": \"Central and Eastern Europe\", \"x\": [\"Central and Eastern Europe\", \"Central and Eastern Europe\", \"Central and Eastern Europe\", \"Central and Eastern Europe\", \"Central and Eastern Europe\", \"Central and Eastern Europe\", \"Central and Eastern Europe\", \"Central and Eastern Europe\", \"Central and Eastern Europe\", \"Central and Eastern Europe\", \"Central and Eastern Europe\", \"Central and Eastern Europe\", \"Central and Eastern Europe\", \"Central and Eastern Europe\", \"Central and Eastern Europe\", \"Central and Eastern Europe\", \"Central and Eastern Europe\", \"Central and Eastern Europe\", \"Central and Eastern Europe\", \"Central and Eastern Europe\", \"Central and Eastern Europe\", \"Central and Eastern Europe\", \"Central and Eastern Europe\", \"Central and Eastern Europe\", \"Central and Eastern Europe\", \"Central and Eastern Europe\", \"Central and Eastern Europe\", \"Central and Eastern Europe\", \"Central and Eastern Europe\", \"Central and Eastern Europe\", \"Central and Eastern Europe\", \"Central and Eastern Europe\", \"Central and Eastern Europe\", \"Central and Eastern Europe\", \"Central and Eastern Europe\", \"Central and Eastern Europe\", \"Central and Eastern Europe\", \"Central and Eastern Europe\", \"Central and Eastern Europe\", \"Central and Eastern Europe\", \"Central and Eastern Europe\", \"Central and Eastern Europe\", \"Central and Eastern Europe\", \"Central and Eastern Europe\", \"Central and Eastern Europe\", \"Central and Eastern Europe\", \"Central and Eastern Europe\", \"Central and Eastern Europe\", \"Central and Eastern Europe\", \"Central and Eastern Europe\", \"Central and Eastern Europe\", \"Central and Eastern Europe\", \"Central and Eastern Europe\", \"Central and Eastern Europe\", \"Central and Eastern Europe\", \"Central and Eastern Europe\", \"Central and Eastern Europe\", \"Central and Eastern Europe\", \"Central and Eastern Europe\", \"Central and Eastern Europe\", \"Central and Eastern Europe\", \"Central and Eastern Europe\", \"Central and Eastern Europe\", \"Central and Eastern Europe\", \"Central and Eastern Europe\", \"Central and Eastern Europe\", \"Central and Eastern Europe\", \"Central and Eastern Europe\", \"Central and Eastern Europe\", \"Central and Eastern Europe\", \"Central and Eastern Europe\", \"Central and Eastern Europe\", \"Central and Eastern Europe\", \"Central and Eastern Europe\", \"Central and Eastern Europe\", \"Central and Eastern Europe\", \"Central and Eastern Europe\", \"Central and Eastern Europe\", \"Central and Eastern Europe\", \"Central and Eastern Europe\", \"Central and Eastern Europe\", \"Central and Eastern Europe\", \"Central and Eastern Europe\", \"Central and Eastern Europe\", \"Central and Eastern Europe\", \"Central and Eastern Europe\", \"Central and Eastern Europe\"], \"y\": [6.505, 6.002999999999999, 5.995, 5.8889999999999985, 5.855, 5.848, 5.832999999999998, 5.813, 5.791, 5.759, 5.716, 5.589, 5.547999999999999, 5.4289999999999985, 5.2860000000000005, 5.2120000000000015, 5.192, 5.124, 5.122999999999998, 5.098, 5.007, 4.959, 4.949, 4.8, 4.7860000000000005, 4.681, 4.35, 4.297, 4.218, 6.596, 6.0779999999999985, 5.987, 5.919, 5.897, 5.856, 5.835, 5.813, 5.8020000000000005, 5.768, 5.658, 5.56, 5.528, 5.517, 5.488, 5.401, 5.291, 5.185, 5.1770000000000005, 5.1629999999999985, 5.1610000000000005, 5.145, 5.121, 4.996, 4.655, 4.36, 4.324, 4.252, 4.217, 6.60900020599365, 6.09800004959106, 5.97300004959106, 5.97100019454956, 5.962999820709231, 5.90199995040894, 5.849999904632571, 5.837999820709231, 5.824999809265139, 5.82200002670288, 5.8189997673034695, 5.75799989700317, 5.61100006103516, 5.5689997673034695, 5.39499998092651, 5.32399988174438, 5.2930002212524405, 5.27899980545044, 5.23699998855591, 5.2340002059936515, 5.18200016021729, 5.1750001907348615, 5.04099988937378, 5.0040001869201705, 4.71400022506714, 4.64400005340576, 4.37599992752075, 4.28599977493286, 4.09600019454956], \"type\": \"violin\", \"uid\": \"66111656-6252-4b1b-af50-d09fd3dee60c\"}, {\"meanline\": {\"visible\": true}, \"name\": \"Eastern Asia\", \"x\": [\"Eastern Asia\", \"Eastern Asia\", \"Eastern Asia\", \"Eastern Asia\", \"Eastern Asia\", \"Eastern Asia\", \"Eastern Asia\", \"Eastern Asia\", \"Eastern Asia\", \"Eastern Asia\", \"Eastern Asia\", \"Eastern Asia\", \"Eastern Asia\", \"Eastern Asia\", \"Eastern Asia\", \"Eastern Asia\", \"Eastern Asia\", \"Eastern Asia\"], \"y\": [6.297999999999999, 5.987, 5.984, 5.474, 5.14, 4.874, 6.379, 5.921, 5.835, 5.457999999999998, 5.245, 4.907, 6.42199993133545, 5.92000007629395, 5.837999820709231, 5.47200012207031, 5.2729997634887695, 4.95499992370605], \"type\": \"violin\", \"uid\": \"d3fa1143-f63e-4b05-aa53-f0cf2ba2995d\"}, {\"meanline\": {\"visible\": true}, \"name\": \"Sub-Saharan Africa\", \"x\": [\"Sub-Saharan Africa\", \"Sub-Saharan Africa\", \"Sub-Saharan Africa\", \"Sub-Saharan Africa\", \"Sub-Saharan Africa\", \"Sub-Saharan Africa\", \"Sub-Saharan Africa\", \"Sub-Saharan Africa\", \"Sub-Saharan Africa\", \"Sub-Saharan Africa\", \"Sub-Saharan Africa\", \"Sub-Saharan Africa\", \"Sub-Saharan Africa\", \"Sub-Saharan Africa\", \"Sub-Saharan Africa\", \"Sub-Saharan Africa\", \"Sub-Saharan Africa\", \"Sub-Saharan Africa\", \"Sub-Saharan Africa\", \"Sub-Saharan Africa\", \"Sub-Saharan Africa\", \"Sub-Saharan Africa\", \"Sub-Saharan Africa\", \"Sub-Saharan Africa\", \"Sub-Saharan Africa\", \"Sub-Saharan Africa\", \"Sub-Saharan Africa\", \"Sub-Saharan Africa\", \"Sub-Saharan Africa\", \"Sub-Saharan Africa\", \"Sub-Saharan Africa\", \"Sub-Saharan Africa\", \"Sub-Saharan Africa\", \"Sub-Saharan Africa\", \"Sub-Saharan Africa\", \"Sub-Saharan Africa\", \"Sub-Saharan Africa\", \"Sub-Saharan Africa\", \"Sub-Saharan Africa\", \"Sub-Saharan Africa\", \"Sub-Saharan Africa\", \"Sub-Saharan Africa\", \"Sub-Saharan Africa\", \"Sub-Saharan Africa\", \"Sub-Saharan Africa\", \"Sub-Saharan Africa\", \"Sub-Saharan Africa\", \"Sub-Saharan Africa\", \"Sub-Saharan Africa\", \"Sub-Saharan Africa\", \"Sub-Saharan Africa\", \"Sub-Saharan Africa\", \"Sub-Saharan Africa\", \"Sub-Saharan Africa\", \"Sub-Saharan Africa\", \"Sub-Saharan Africa\", \"Sub-Saharan Africa\", \"Sub-Saharan Africa\", \"Sub-Saharan Africa\", \"Sub-Saharan Africa\", \"Sub-Saharan Africa\", \"Sub-Saharan Africa\", \"Sub-Saharan Africa\", \"Sub-Saharan Africa\", \"Sub-Saharan Africa\", \"Sub-Saharan Africa\", \"Sub-Saharan Africa\", \"Sub-Saharan Africa\", \"Sub-Saharan Africa\", \"Sub-Saharan Africa\", \"Sub-Saharan Africa\", \"Sub-Saharan Africa\", \"Sub-Saharan Africa\", \"Sub-Saharan Africa\", \"Sub-Saharan Africa\", \"Sub-Saharan Africa\", \"Sub-Saharan Africa\", \"Sub-Saharan Africa\", \"Sub-Saharan Africa\", \"Sub-Saharan Africa\", \"Sub-Saharan Africa\", \"Sub-Saharan Africa\", \"Sub-Saharan Africa\", \"Sub-Saharan Africa\", \"Sub-Saharan Africa\", \"Sub-Saharan Africa\", \"Sub-Saharan Africa\", \"Sub-Saharan Africa\", \"Sub-Saharan Africa\", \"Sub-Saharan Africa\", \"Sub-Saharan Africa\", \"Sub-Saharan Africa\", \"Sub-Saharan Africa\", \"Sub-Saharan Africa\", \"Sub-Saharan Africa\", \"Sub-Saharan Africa\", \"Sub-Saharan Africa\", \"Sub-Saharan Africa\", \"Sub-Saharan Africa\", \"Sub-Saharan Africa\", \"Sub-Saharan Africa\", \"Sub-Saharan Africa\", \"Sub-Saharan Africa\", \"Sub-Saharan Africa\", \"Sub-Saharan Africa\", \"Sub-Saharan Africa\", \"Sub-Saharan Africa\", \"Sub-Saharan Africa\", \"Sub-Saharan Africa\", \"Sub-Saharan Africa\", \"Sub-Saharan Africa\", \"Sub-Saharan Africa\", \"Sub-Saharan Africa\", \"Sub-Saharan Africa\", \"Sub-Saharan Africa\", \"Sub-Saharan Africa\", \"Sub-Saharan Africa\"], \"y\": [5.477, 5.268, 5.129, 5.057, 4.971, 4.898, 4.867, 4.642, 4.633, 4.61, 4.5710000000000015, 4.55, 4.517, 4.512, 4.507, 4.436, 4.419, 4.369, 4.332, 4.292, 4.252, 4.033, 3.995, 3.989, 3.956, 3.931, 3.904, 3.896, 3.845, 3.781, 3.681, 3.678, 3.667, 3.656, 3.655, 3.587, 3.465, 3.34, 2.905, 2.839, 5.648, 5.44, 5.057, 4.875, 4.795, 4.635, 4.574, 4.513, 4.508, 4.459, 4.356, 4.276, 4.272, 4.2360000000000015, 4.2189999999999985, 4.2010000000000005, 4.1930000000000005, 4.1560000000000015, 4.1389999999999985, 4.121, 4.073, 3.974, 3.956, 3.916, 3.866, 3.856, 3.832, 3.763, 3.739, 3.739, 3.695, 3.666, 3.622, 3.607, 3.515, 3.484, 3.303, 2.905, 5.62900018692017, 5.151000022888179, 5.07399988174438, 4.8289999961853, 4.70900011062622, 4.69500017166138, 4.57399988174438, 4.55299997329712, 4.5500001907348615, 4.53499984741211, 4.513999938964839, 4.46500015258789, 4.46000003814697, 4.29199981689453, 4.29099988937378, 4.280000209808351, 4.19000005722046, 4.17999982833862, 4.138999938964839, 4.11999988555908, 4.08099985122681, 4.03200006484985, 4.02799987792969, 3.97000002861023, 3.9360001087188703, 3.875, 3.80800008773804, 3.79500007629395, 3.7660000324249294, 3.65700006484985, 3.64400005340576, 3.5910000801086404, 3.532999992370609, 3.50699996948242, 3.4949998855590803, 3.47099995613098, 3.34899997711182, 2.90499997138977, 2.69300007820129], \"type\": \"violin\", \"uid\": \"c8f1e958-5654-44c1-830b-ccd9283e27fe\"}, {\"meanline\": {\"visible\": true}, \"name\": \"Southern Asia\", \"x\": [\"Southern Asia\", \"Southern Asia\", \"Southern Asia\", \"Southern Asia\", \"Southern Asia\", \"Southern Asia\", \"Southern Asia\", \"Southern Asia\", \"Southern Asia\", \"Southern Asia\", \"Southern Asia\", \"Southern Asia\", \"Southern Asia\", \"Southern Asia\", \"Southern Asia\", \"Southern Asia\", \"Southern Asia\", \"Southern Asia\", \"Southern Asia\", \"Southern Asia\", \"Southern Asia\"], \"y\": [5.252999999999999, 5.194, 4.694, 4.565, 4.5139999999999985, 4.271, 3.575, 5.1960000000000015, 5.1320000000000014, 4.793, 4.643, 4.415, 4.404, 3.36, 5.26900005340576, 5.01100015640259, 4.961999893188481, 4.60799980163574, 4.44000005722046, 4.31500005722046, 3.79399991035461], \"type\": \"violin\", \"uid\": \"6f15f48e-88a0-41b4-a9fc-c2a9a4050d93\"}], {\"title\": {\"text\": \"Happiness Score Across Regions\"}, \"yaxis\": {\"zeroline\": false}}, {\"showLink\": false, \"linkText\": \"Export to plot.ly\", \"plotlyServerURL\": \"https://plot.ly\"}); \n",
       "}\n",
       "});</script><script type=\"text/javascript\">window.addEventListener(\"resize\", function(){if (document.getElementById(\"165f9916-f241-4404-80c1-a84fc3e24723\")) {window._Plotly.Plots.resize(document.getElementById(\"165f9916-f241-4404-80c1-a84fc3e24723\"));};})</script>"
      ]
     },
     "metadata": {},
     "output_type": "display_data"
    }
   ],
   "source": [
    "# violin plot\n",
    "# kde = kernel density estimation, width of violin \n",
    "\n",
    "data = []\n",
    "for i in data_c['Region'].unique():\n",
    "    trace = {\n",
    "            \"type\": 'violin',\n",
    "            \"x\": data_c.loc[(data_c['Region'] == i), 'Region'],\n",
    "            \"y\": data_c.loc[(data_c['Region'] == i), 'Happiness Score'],\n",
    "            \"name\": i,\n",
    "            \"meanline\": {\n",
    "                \"visible\": True\n",
    "            }\n",
    "        }\n",
    "    data.append(trace)\n",
    "    \n",
    "            \n",
    "fig = {\n",
    "    \"data\": data,\n",
    "    \"layout\" : {\n",
    "        \"title\": \"\",\n",
    "        \"yaxis\": {\n",
    "            \"zeroline\": False,\n",
    "        }\n",
    "    }\n",
    "}\n",
    "\n",
    "fig['layout'].update(title= 'Happiness Score Across Regions');\n",
    "iplot(fig)"
   ]
  },
  {
   "cell_type": "markdown",
   "metadata": {},
   "source": [
    "The violin graph is a fantastic visualization tool - once you get used to it - because it illustrates not only the usual quartiles, median/mean, and max/min (like a box plot) but also the kernel density estimator represented by the width of the 'violin'. The width - kde - indicates the density of distribution. Typically most things are distributed around the mean, giving most graphs a violin shape. \n",
    "\n"
   ]
  },
  {
   "cell_type": "markdown",
   "metadata": {},
   "source": [
    "With the violin graph, it's immediately clear that even countries with very high peaks like Western Europe, Middle East & Northern Africa, and Southeastern Asia tend to have incredibly low peaks as well. But it also easily highlights what's the norm. For instance, looking at the violin width indicates that the vast majority for Western Europe will score 7 or higher on happiness.  "
   ]
  },
  {
   "cell_type": "markdown",
   "metadata": {},
   "source": [
    "## Scatterplot \n",
    "One thing worth looking at is the correlation between the happiness score variables like life expectancy and economy. A simple scatter plot reflect this. "
   ]
  },
  {
   "cell_type": "code",
   "execution_count": 18,
   "metadata": {
    "ExecuteTime": {
     "end_time": "2019-07-27T11:50:36.796624Z",
     "start_time": "2019-07-27T11:50:32.933166Z"
    }
   },
   "outputs": [
    {
     "data": {
      "text/plain": [
       "<seaborn.axisgrid.PairGrid at 0x2e23e5cd438>"
      ]
     },
     "execution_count": 18,
     "metadata": {},
     "output_type": "execute_result"
    },
    {
     "data": {
      "image/png": "[encoded data removed]",
      "text/plain": [
       "<Figure size 360x2160 with 6 Axes>"
      ]
     },
     "metadata": {},
     "output_type": "display_data"
    }
   ],
   "source": [
    "sns.pairplot(data=data_c[data_c['Year']==2017],kind='reg',height=5, x_vars=['Happiness Score'], y_vars=['Economy (GDP per Capita)', 'Family', 'Health (Life Expectancy)', 'Freedom', 'Generosity','Trust (Government Corruption)']) "
   ]
  },
  {
   "cell_type": "markdown",
   "metadata": {},
   "source": [
    "Based on the criteria for what 'happiness' entails, it's obvious there will always be a positive correlation. What isn't so clear is that some variables between countries have greater impact than others. If we look at generosity and government trust for instance, these do not weigh heavily as family, economy, health, and freedom. "
   ]
  },
  {
   "cell_type": "code",
   "execution_count": 19,
   "metadata": {
    "ExecuteTime": {
     "end_time": "2019-07-27T11:50:36.832589Z",
     "start_time": "2019-07-27T11:50:36.801606Z"
    }
   },
   "outputs": [
    {
     "data": {
      "text/plain": [
       "Happiness Score                  1.000000\n",
       "Economy (GDP per Capita)         0.812469\n",
       "Health (Life Expectancy)         0.781951\n",
       "Family                           0.752737\n",
       "Freedom                          0.570137\n",
       "Dystopia Residual                0.475355\n",
       "Trust (Government Corruption)    0.429080\n",
       "Generosity                       0.155256\n",
       "Happiness Rank                  -0.992774\n",
       "Year                                  NaN\n",
       "Name: Happiness Score, dtype: float64"
      ]
     },
     "execution_count": 19,
     "metadata": {},
     "output_type": "execute_result"
    }
   ],
   "source": [
    "data_c[data_c['Year']==2017].corr(method=\"pearson\", min_periods=20)[\"Happiness Score\"].sort_values(ascending=False)"
   ]
  },
  {
   "cell_type": "markdown",
   "metadata": {},
   "source": [
    "But it's interesting that the correlation will change greatly depending on the region. For instance, let's look at Western Europe. "
   ]
  },
  {
   "cell_type": "code",
   "execution_count": 20,
   "metadata": {
    "ExecuteTime": {
     "end_time": "2019-07-27T11:50:36.866570Z",
     "start_time": "2019-07-27T11:50:36.835587Z"
    }
   },
   "outputs": [
    {
     "data": {
      "text/plain": [
       "Happiness Score                  1.000000\n",
       "Trust (Government Corruption)    0.833500\n",
       "Freedom                          0.796336\n",
       "Dystopia Residual                0.734505\n",
       "Economy (GDP per Capita)         0.596955\n",
       "Generosity                       0.595061\n",
       "Family                           0.501688\n",
       "Year                             0.007457\n",
       "Health (Life Expectancy)        -0.024186\n",
       "Happiness Rank                  -0.988021\n",
       "Name: Happiness Score, dtype: float64"
      ]
     },
     "execution_count": 20,
     "metadata": {},
     "output_type": "execute_result"
    }
   ],
   "source": [
    "data_c[data_c['Region']=='Western Europe'].corr(method=\"pearson\", min_periods=20)[\"Happiness Score\"].sort_values(ascending=False)"
   ]
  },
  {
   "cell_type": "markdown",
   "metadata": {},
   "source": [
    "Perhaps this is because even poorly ranked countries in Western Europe region also tend to do relatively well in health and economy. My conjecture is once you get to a certain threshold, other things start to get prioritized and valued, such as trust and freedom. "
   ]
  },
  {
   "cell_type": "markdown",
   "metadata": {},
   "source": [
    "In fact, economy, health, and family are in their own tier in terms of impacting the happiness score. This is because a factor like lack of trust is fairly ubiquitous but there are still enormous gaps in economy and health between first world countries and third world counterparts. "
   ]
  },
  {
   "cell_type": "markdown",
   "metadata": {},
   "source": [
    "## Bubble Plot \n",
    "\n",
    "A bubble plot can show three variables rather than the tyical 2 of a scatterplot and how these variables correlate with one another. One of the variable I'll be using is the happiness rank, so that we can see how the rank - as measured by the size of the bubble - correlates with the economy and life expectancy. "
   ]
  },
  {
   "cell_type": "code",
   "execution_count": 21,
   "metadata": {
    "ExecuteTime": {
     "end_time": "2019-07-27T11:50:40.037149Z",
     "start_time": "2019-07-27T11:50:36.870566Z"
    },
    "scrolled": false
   },
   "outputs": [
    {
     "data": {
      "application/vnd.plotly.v1+json": {
       "config": {
        "linkText": "Export to plot.ly",
        "plotlyServerURL": "https://plot.ly",
        "showLink": false
       },
       "data": [
        {
         "marker": {
          "size": [
           1
          ],
          "sizemode": "area",
          "sizeref": 0.10625
         },
         "mode": "markers",
         "name": "Switzerland",
         "text": [
          "Switzerland"
         ],
         "type": "scatter",
         "uid": "3a6b222e-78ae-4937-8fff-ef8fba6e7ba6",
         "x": [
          0.66557
         ],
         "y": [
          0.41978
         ]
        },
        {
         "marker": {
          "size": [
           2
          ],
          "sizemode": "area",
          "sizeref": 0.10625
         },
         "mode": "markers",
         "name": "Iceland",
         "text": [
          "Iceland"
         ],
         "type": "scatter",
         "uid": "9fbfb4cb-3f2b-49bb-ae5e-5ebcea885be8",
         "x": [
          0.6287699999999999
         ],
         "y": [
          0.14145
         ]
        },
        {
         "marker": {
          "size": [
           3
          ],
          "sizemode": "area",
          "sizeref": 0.10625
         },
         "mode": "markers",
         "name": "Denmark",
         "text": [
          "Denmark"
         ],
         "type": "scatter",
         "uid": "5a35180e-2587-41fa-8f0d-2498e41dbb2c",
         "x": [
          0.6493800000000001
         ],
         "y": [
          0.48357
         ]
        },
        {
         "marker": {
          "size": [
           4
          ],
          "sizemode": "area",
          "sizeref": 0.10625
         },
         "mode": "markers",
         "name": "Norway",
         "text": [
          "Norway"
         ],
         "type": "scatter",
         "uid": "0618431f-8f21-46f2-8622-935b2c06710a",
         "x": [
          0.66973
         ],
         "y": [
          0.36503
         ]
        },
        {
         "marker": {
          "size": [
           6
          ],
          "sizemode": "area",
          "sizeref": 0.10625
         },
         "mode": "markers",
         "name": "Finland",
         "text": [
          "Finland"
         ],
         "type": "scatter",
         "uid": "e9b95a5c-66b7-44f6-b56b-46d6343172b4",
         "x": [
          0.64169
         ],
         "y": [
          0.41372
         ]
        },
        {
         "marker": {
          "size": [
           7
          ],
          "sizemode": "area",
          "sizeref": 0.10625
         },
         "mode": "markers",
         "name": "Netherlands",
         "text": [
          "Netherlands"
         ],
         "type": "scatter",
         "uid": "94c5984a-23c3-4d6a-a926-fa516ac24e27",
         "x": [
          0.6157600000000001
         ],
         "y": [
          0.31814000000000003
         ]
        },
        {
         "marker": {
          "size": [
           8
          ],
          "sizemode": "area",
          "sizeref": 0.10625
         },
         "mode": "markers",
         "name": "Sweden",
         "text": [
          "Sweden"
         ],
         "type": "scatter",
         "uid": "b8b34a4a-fe9d-445b-b235-66fe1c1c180e",
         "x": [
          0.6598
         ],
         "y": [
          0.43844
         ]
        },
        {
         "marker": {
          "size": [
           13
          ],
          "sizemode": "area",
          "sizeref": 0.10625
         },
         "mode": "markers",
         "name": "Austria",
         "text": [
          "Austria"
         ],
         "type": "scatter",
         "uid": "a6f735ac-8792-4067-a6d4-e17a392b068f",
         "x": [
          0.62433
         ],
         "y": [
          0.18676
         ]
        },
        {
         "marker": {
          "size": [
           17
          ],
          "sizemode": "area",
          "sizeref": 0.10625
         },
         "mode": "markers",
         "name": "Luxembourg",
         "text": [
          "Luxembourg"
         ],
         "type": "scatter",
         "uid": "948c9cdf-7112-4139-98c7-cd13e03257a7",
         "x": [
          0.61583
         ],
         "y": [
          0.37798
         ]
        },
        {
         "marker": {
          "size": [
           18
          ],
          "sizemode": "area",
          "sizeref": 0.10625
         },
         "mode": "markers",
         "name": "Ireland",
         "text": [
          "Ireland"
         ],
         "type": "scatter",
         "uid": "f1f9cdd9-fd47-49fc-a169-b7bd2e7bfa85",
         "x": [
          0.6177699999999999
         ],
         "y": [
          0.28703
         ]
        },
        {
         "marker": {
          "size": [
           19
          ],
          "sizemode": "area",
          "sizeref": 0.10625
         },
         "mode": "markers",
         "name": "Belgium",
         "text": [
          "Belgium"
         ],
         "type": "scatter",
         "uid": "2b31959d-d038-4faf-baac-05995f7c1272",
         "x": [
          0.5845
         ],
         "y": [
          0.2254
         ]
        },
        {
         "marker": {
          "size": [
           21
          ],
          "sizemode": "area",
          "sizeref": 0.10625
         },
         "mode": "markers",
         "name": "United Kingdom",
         "text": [
          "United Kingdom"
         ],
         "type": "scatter",
         "uid": "9bbfb73b-4f22-480c-8858-6babc12e3ec8",
         "x": [
          0.59625
         ],
         "y": [
          0.32067
         ]
        },
        {
         "marker": {
          "size": [
           26
          ],
          "sizemode": "area",
          "sizeref": 0.10625
         },
         "mode": "markers",
         "name": "Germany",
         "text": [
          "Germany"
         ],
         "type": "scatter",
         "uid": "31686336-346a-48f2-941d-88a2355b2e3b",
         "x": [
          0.6147699999999999
         ],
         "y": [
          0.21843
         ]
        },
        {
         "marker": {
          "size": [
           29
          ],
          "sizemode": "area",
          "sizeref": 0.10625
         },
         "mode": "markers",
         "name": "France",
         "text": [
          "France"
         ],
         "type": "scatter",
         "uid": "ddfe2db1-fdad-46f2-90d4-59d8de955584",
         "x": [
          0.55011
         ],
         "y": [
          0.20646
         ]
        },
        {
         "marker": {
          "size": [
           36
          ],
          "sizemode": "area",
          "sizeref": 0.10625
         },
         "mode": "markers",
         "name": "Spain",
         "text": [
          "Spain"
         ],
         "type": "scatter",
         "uid": "38f2d160-7941-47d2-8fd5-d3d1bfd6a796",
         "x": [
          0.45951
         ],
         "y": [
          0.06398
         ]
        },
        {
         "marker": {
          "size": [
           37
          ],
          "sizemode": "area",
          "sizeref": 0.10625
         },
         "mode": "markers",
         "name": "Malta",
         "text": [
          "Malta"
         ],
         "type": "scatter",
         "uid": "25c815ba-8896-4266-83e1-2e050e041d89",
         "x": [
          0.60365
         ],
         "y": [
          0.13585999999999998
         ]
        },
        {
         "marker": {
          "size": [
           50
          ],
          "sizemode": "area",
          "sizeref": 0.10625
         },
         "mode": "markers",
         "name": "Italy",
         "text": [
          "Italy"
         ],
         "type": "scatter",
         "uid": "fa336dfe-945f-4ee4-ada2-2d91b4589f1d",
         "x": [
          0.26236
         ],
         "y": [
          0.02901
         ]
        },
        {
         "marker": {
          "size": [
           66
          ],
          "sizemode": "area",
          "sizeref": 0.10625
         },
         "mode": "markers",
         "name": "North Cyprus",
         "text": [
          "North Cyprus"
         ],
         "type": "scatter",
         "uid": "f92ab419-0a14-4f07-84db-5ad7a4b963cd",
         "x": [
          0.49027
         ],
         "y": [
          0.1428
         ]
        },
        {
         "marker": {
          "size": [
           67
          ],
          "sizemode": "area",
          "sizeref": 0.10625
         },
         "mode": "markers",
         "name": "Cyprus",
         "text": [
          "Cyprus"
         ],
         "type": "scatter",
         "uid": "a0c92f12-8c1c-4095-9994-449bf130d557",
         "x": [
          0.40672
         ],
         "y": [
          0.06146
         ]
        },
        {
         "marker": {
          "size": [
           88
          ],
          "sizemode": "area",
          "sizeref": 0.10625
         },
         "mode": "markers",
         "name": "Portugal",
         "text": [
          "Portugal"
         ],
         "type": "scatter",
         "uid": "0440f928-8335-479a-8bc5-6be6b42f0e93",
         "x": [
          0.51469
         ],
         "y": [
          0.01078
         ]
        },
        {
         "marker": {
          "size": [
           102
          ],
          "sizemode": "area",
          "sizeref": 0.10625
         },
         "mode": "markers",
         "name": "Greece",
         "text": [
          "Greece"
         ],
         "type": "scatter",
         "uid": "9b82f338-b2bc-45ec-b0f7-a1110832ee9f",
         "x": [
          0.07699
         ],
         "y": [
          0.013969999999999998
         ]
        }
       ],
       "frames": [
        {
         "data": [
          {
           "marker": {
            "size": [
             1
            ],
            "sizemode": "area",
            "sizeref": 0.10625
           },
           "mode": "markers",
           "name": "Switzerland",
           "text": [
            "Switzerland"
           ],
           "type": "scatter",
           "x": [
            0.66557
           ],
           "y": [
            0.41978
           ]
          },
          {
           "marker": {
            "size": [
             2
            ],
            "sizemode": "area",
            "sizeref": 0.10625
           },
           "mode": "markers",
           "name": "Iceland",
           "text": [
            "Iceland"
           ],
           "type": "scatter",
           "x": [
            0.6287699999999999
           ],
           "y": [
            0.14145
           ]
          },
          {
           "marker": {
            "size": [
             3
            ],
            "sizemode": "area",
            "sizeref": 0.10625
           },
           "mode": "markers",
           "name": "Denmark",
           "text": [
            "Denmark"
           ],
           "type": "scatter",
           "x": [
            0.6493800000000001
           ],
           "y": [
            0.48357
           ]
          },
          {
           "marker": {
            "size": [
             4
            ],
            "sizemode": "area",
            "sizeref": 0.10625
           },
           "mode": "markers",
           "name": "Norway",
           "text": [
            "Norway"
           ],
           "type": "scatter",
           "x": [
            0.66973
           ],
           "y": [
            0.36503
           ]
          },
          {
           "marker": {
            "size": [
             6
            ],
            "sizemode": "area",
            "sizeref": 0.10625
           },
           "mode": "markers",
           "name": "Finland",
           "text": [
            "Finland"
           ],
           "type": "scatter",
           "x": [
            0.64169
           ],
           "y": [
            0.41372
           ]
          },
          {
           "marker": {
            "size": [
             7
            ],
            "sizemode": "area",
            "sizeref": 0.10625
           },
           "mode": "markers",
           "name": "Netherlands",
           "text": [
            "Netherlands"
           ],
           "type": "scatter",
           "x": [
            0.6157600000000001
           ],
           "y": [
            0.31814000000000003
           ]
          },
          {
           "marker": {
            "size": [
             8
            ],
            "sizemode": "area",
            "sizeref": 0.10625
           },
           "mode": "markers",
           "name": "Sweden",
           "text": [
            "Sweden"
           ],
           "type": "scatter",
           "x": [
            0.6598
           ],
           "y": [
            0.43844
           ]
          },
          {
           "marker": {
            "size": [
             13
            ],
            "sizemode": "area",
            "sizeref": 0.10625
           },
           "mode": "markers",
           "name": "Austria",
           "text": [
            "Austria"
           ],
           "type": "scatter",
           "x": [
            0.62433
           ],
           "y": [
            0.18676
           ]
          },
          {
           "marker": {
            "size": [
             17
            ],
            "sizemode": "area",
            "sizeref": 0.10625
           },
           "mode": "markers",
           "name": "Luxembourg",
           "text": [
            "Luxembourg"
           ],
           "type": "scatter",
           "x": [
            0.61583
           ],
           "y": [
            0.37798
           ]
          },
          {
           "marker": {
            "size": [
             18
            ],
            "sizemode": "area",
            "sizeref": 0.10625
           },
           "mode": "markers",
           "name": "Ireland",
           "text": [
            "Ireland"
           ],
           "type": "scatter",
           "x": [
            0.6177699999999999
           ],
           "y": [
            0.28703
           ]
          },
          {
           "marker": {
            "size": [
             19
            ],
            "sizemode": "area",
            "sizeref": 0.10625
           },
           "mode": "markers",
           "name": "Belgium",
           "text": [
            "Belgium"
           ],
           "type": "scatter",
           "x": [
            0.5845
           ],
           "y": [
            0.2254
           ]
          },
          {
           "marker": {
            "size": [
             21
            ],
            "sizemode": "area",
            "sizeref": 0.10625
           },
           "mode": "markers",
           "name": "United Kingdom",
           "text": [
            "United Kingdom"
           ],
           "type": "scatter",
           "x": [
            0.59625
           ],
           "y": [
            0.32067
           ]
          },
          {
           "marker": {
            "size": [
             26
            ],
            "sizemode": "area",
            "sizeref": 0.10625
           },
           "mode": "markers",
           "name": "Germany",
           "text": [
            "Germany"
           ],
           "type": "scatter",
           "x": [
            0.6147699999999999
           ],
           "y": [
            0.21843
           ]
          },
          {
           "marker": {
            "size": [
             29
            ],
            "sizemode": "area",
            "sizeref": 0.10625
           },
           "mode": "markers",
           "name": "France",
           "text": [
            "France"
           ],
           "type": "scatter",
           "x": [
            0.55011
           ],
           "y": [
            0.20646
           ]
          },
          {
           "marker": {
            "size": [
             36
            ],
            "sizemode": "area",
            "sizeref": 0.10625
           },
           "mode": "markers",
           "name": "Spain",
           "text": [
            "Spain"
           ],
           "type": "scatter",
           "x": [
            0.45951
           ],
           "y": [
            0.06398
           ]
          },
          {
           "marker": {
            "size": [
             37
            ],
            "sizemode": "area",
            "sizeref": 0.10625
           },
           "mode": "markers",
           "name": "Malta",
           "text": [
            "Malta"
           ],
           "type": "scatter",
           "x": [
            0.60365
           ],
           "y": [
            0.13585999999999998
           ]
          },
          {
           "marker": {
            "size": [
             50
            ],
            "sizemode": "area",
            "sizeref": 0.10625
           },
           "mode": "markers",
           "name": "Italy",
           "text": [
            "Italy"
           ],
           "type": "scatter",
           "x": [
            0.26236
           ],
           "y": [
            0.02901
           ]
          },
          {
           "marker": {
            "size": [
             66
            ],
            "sizemode": "area",
            "sizeref": 0.10625
           },
           "mode": "markers",
           "name": "North Cyprus",
           "text": [
            "North Cyprus"
           ],
           "type": "scatter",
           "x": [
            0.49027
           ],
           "y": [
            0.1428
           ]
          },
          {
           "marker": {
            "size": [
             67
            ],
            "sizemode": "area",
            "sizeref": 0.10625
           },
           "mode": "markers",
           "name": "Cyprus",
           "text": [
            "Cyprus"
           ],
           "type": "scatter",
           "x": [
            0.40672
           ],
           "y": [
            0.06146
           ]
          },
          {
           "marker": {
            "size": [
             88
            ],
            "sizemode": "area",
            "sizeref": 0.10625
           },
           "mode": "markers",
           "name": "Portugal",
           "text": [
            "Portugal"
           ],
           "type": "scatter",
           "x": [
            0.51469
           ],
           "y": [
            0.01078
           ]
          },
          {
           "marker": {
            "size": [
             102
            ],
            "sizemode": "area",
            "sizeref": 0.10625
           },
           "mode": "markers",
           "name": "Greece",
           "text": [
            "Greece"
           ],
           "type": "scatter",
           "x": [
            0.07699
           ],
           "y": [
            0.013969999999999998
           ]
          }
         ],
         "name": "2015"
        },
        {
         "data": [
          {
           "marker": {
            "size": [
             2
            ],
            "sizemode": "area",
            "sizeref": 0.10625
           },
           "mode": "markers",
           "name": "Switzerland",
           "text": [
            "Switzerland"
           ],
           "type": "scatter",
           "x": [
            0.58557
           ],
           "y": [
            0.41203
           ]
          },
          {
           "marker": {
            "size": [
             3
            ],
            "sizemode": "area",
            "sizeref": 0.10625
           },
           "mode": "markers",
           "name": "Iceland",
           "text": [
            "Iceland"
           ],
           "type": "scatter",
           "x": [
            0.56624
           ],
           "y": [
            0.14975
           ]
          },
          {
           "marker": {
            "size": [
             1
            ],
            "sizemode": "area",
            "sizeref": 0.10625
           },
           "mode": "markers",
           "name": "Denmark",
           "text": [
            "Denmark"
           ],
           "type": "scatter",
           "x": [
            0.5794100000000001
           ],
           "y": [
            0.44453
           ]
          },
          {
           "marker": {
            "size": [
             4
            ],
            "sizemode": "area",
            "sizeref": 0.10625
           },
           "mode": "markers",
           "name": "Norway",
           "text": [
            "Norway"
           ],
           "type": "scatter",
           "x": [
            0.59609
           ],
           "y": [
            0.35776
           ]
          },
          {
           "marker": {
            "size": [
             5
            ],
            "sizemode": "area",
            "sizeref": 0.10625
           },
           "mode": "markers",
           "name": "Finland",
           "text": [
            "Finland"
           ],
           "type": "scatter",
           "x": [
            0.57104
           ],
           "y": [
            0.41004
           ]
          },
          {
           "marker": {
            "size": [
             7
            ],
            "sizemode": "area",
            "sizeref": 0.10625
           },
           "mode": "markers",
           "name": "Netherlands",
           "text": [
            "Netherlands"
           ],
           "type": "scatter",
           "x": [
            0.55211
           ],
           "y": [
            0.29927
           ]
          },
          {
           "marker": {
            "size": [
             10
            ],
            "sizemode": "area",
            "sizeref": 0.10625
           },
           "mode": "markers",
           "name": "Sweden",
           "text": [
            "Sweden"
           ],
           "type": "scatter",
           "x": [
            0.58218
           ],
           "y": [
            0.40867
           ]
          },
          {
           "marker": {
            "size": [
             12
            ],
            "sizemode": "area",
            "sizeref": 0.10625
           },
           "mode": "markers",
           "name": "Austria",
           "text": [
            "Austria"
           ],
           "type": "scatter",
           "x": [
            0.54355
           ],
           "y": [
            0.21348000000000006
           ]
          },
          {
           "marker": {
            "size": [
             20
            ],
            "sizemode": "area",
            "sizeref": 0.10625
           },
           "mode": "markers",
           "name": "Luxembourg",
           "text": [
            "Luxembourg"
           ],
           "type": "scatter",
           "x": [
            0.5487
           ],
           "y": [
            0.35329
           ]
          },
          {
           "marker": {
            "size": [
             19
            ],
            "sizemode": "area",
            "sizeref": 0.10625
           },
           "mode": "markers",
           "name": "Ireland",
           "text": [
            "Ireland"
           ],
           "type": "scatter",
           "x": [
            0.54008
           ],
           "y": [
            0.29754
           ]
          },
          {
           "marker": {
            "size": [
             18
            ],
            "sizemode": "area",
            "sizeref": 0.10625
           },
           "mode": "markers",
           "name": "Belgium",
           "text": [
            "Belgium"
           ],
           "type": "scatter",
           "x": [
            0.51354
           ],
           "y": [
            0.26248
           ]
          },
          {
           "marker": {
            "size": [
             23
            ],
            "sizemode": "area",
            "sizeref": 0.10625
           },
           "mode": "markers",
           "name": "United Kingdom",
           "text": [
            "United Kingdom"
           ],
           "type": "scatter",
           "x": [
            0.50036
           ],
           "y": [
            0.27399
           ]
          },
          {
           "marker": {
            "size": [
             16
            ],
            "sizemode": "area",
            "sizeref": 0.10625
           },
           "mode": "markers",
           "name": "Germany",
           "text": [
            "Germany"
           ],
           "type": "scatter",
           "x": [
            0.53466
           ],
           "y": [
            0.28551
           ]
          },
          {
           "marker": {
            "size": [
             32
            ],
            "sizemode": "area",
            "sizeref": 0.10625
           },
           "mode": "markers",
           "name": "France",
           "text": [
            "France"
           ],
           "type": "scatter",
           "x": [
            0.46562
           ],
           "y": [
            0.17808
           ]
          },
          {
           "marker": {
            "size": [
             37
            ],
            "sizemode": "area",
            "sizeref": 0.10625
           },
           "mode": "markers",
           "name": "Spain",
           "text": [
            "Spain"
           ],
           "type": "scatter",
           "x": [
            0.37545
           ],
           "y": [
            0.061370000000000015
           ]
          },
          {
           "marker": {
            "size": [
             30
            ],
            "sizemode": "area",
            "sizeref": 0.10625
           },
           "mode": "markers",
           "name": "Malta",
           "text": [
            "Malta"
           ],
           "type": "scatter",
           "x": [
            0.54994
           ],
           "y": [
            0.17554
           ]
          },
          {
           "marker": {
            "size": [
             50
            ],
            "sizemode": "area",
            "sizeref": 0.10625
           },
           "mode": "markers",
           "name": "Italy",
           "text": [
            "Italy"
           ],
           "type": "scatter",
           "x": [
            0.18827
           ],
           "y": [
            0.02556
           ]
          },
          {
           "marker": {
            "size": [
             62
            ],
            "sizemode": "area",
            "sizeref": 0.10625
           },
           "mode": "markers",
           "name": "North Cyprus",
           "text": [
            "North Cyprus"
           ],
           "type": "scatter",
           "x": [
            0.43596
           ],
           "y": [
            0.16577999999999998
           ]
          },
          {
           "marker": {
            "size": [
             69
            ],
            "sizemode": "area",
            "sizeref": 0.10625
           },
           "mode": "markers",
           "name": "Cyprus",
           "text": [
            "Cyprus"
           ],
           "type": "scatter",
           "x": [
            0.29507
           ],
           "y": [
            0.052279999999999986
           ]
          },
          {
           "marker": {
            "size": [
             94
            ],
            "sizemode": "area",
            "sizeref": 0.10625
           },
           "mode": "markers",
           "name": "Portugal",
           "text": [
            "Portugal"
           ],
           "type": "scatter",
           "x": [
            0.44727
           ],
           "y": [
            0.01521
           ]
          },
          {
           "marker": {
            "size": [
             99
            ],
            "sizemode": "area",
            "sizeref": 0.10625
           },
           "mode": "markers",
           "name": "Greece",
           "text": [
            "Greece"
           ],
           "type": "scatter",
           "x": [
            0.058220000000000015
           ],
           "y": [
            0.04127
           ]
          }
         ],
         "name": "2016"
        },
        {
         "data": [
          {
           "marker": {
            "size": [
             4
            ],
            "sizemode": "area",
            "sizeref": 0.10625
           },
           "mode": "markers",
           "name": "Switzerland",
           "text": [
            "Switzerland"
           ],
           "type": "scatter",
           "x": [
            0.620070576667786
           ],
           "y": [
            0.3670072853565221
           ]
          },
          {
           "marker": {
            "size": [
             3
            ],
            "sizemode": "area",
            "sizeref": 0.10625
           },
           "mode": "markers",
           "name": "Iceland",
           "text": [
            "Iceland"
           ],
           "type": "scatter",
           "x": [
            0.6271626353263849
           ],
           "y": [
            0.15352655947208402
           ]
          },
          {
           "marker": {
            "size": [
             2
            ],
            "sizemode": "area",
            "sizeref": 0.10625
           },
           "mode": "markers",
           "name": "Denmark",
           "text": [
            "Denmark"
           ],
           "type": "scatter",
           "x": [
            0.626006722450256
           ],
           "y": [
            0.40077006816864
           ]
          },
          {
           "marker": {
            "size": [
             1
            ],
            "sizemode": "area",
            "sizeref": 0.10625
           },
           "mode": "markers",
           "name": "Norway",
           "text": [
            "Norway"
           ],
           "type": "scatter",
           "x": [
            0.635422587394714
           ],
           "y": [
            0.31596383452415505
           ]
          },
          {
           "marker": {
            "size": [
             5
            ],
            "sizemode": "area",
            "sizeref": 0.10625
           },
           "mode": "markers",
           "name": "Finland",
           "text": [
            "Finland"
           ],
           "type": "scatter",
           "x": [
            0.6179508566856379
           ],
           "y": [
            0.38261154294014
           ]
          },
          {
           "marker": {
            "size": [
             6
            ],
            "sizemode": "area",
            "sizeref": 0.10625
           },
           "mode": "markers",
           "name": "Netherlands",
           "text": [
            "Netherlands"
           ],
           "type": "scatter",
           "x": [
            0.5853844881057739
           ],
           "y": [
            0.282661825418472
           ]
          },
          {
           "marker": {
            "size": [
             9
            ],
            "sizemode": "area",
            "sizeref": 0.10625
           },
           "mode": "markers",
           "name": "Sweden",
           "text": [
            "Sweden"
           ],
           "type": "scatter",
           "x": [
            0.612924098968506
           ],
           "y": [
            0.384398728609085
           ]
          },
          {
           "marker": {
            "size": [
             13
            ],
            "sizemode": "area",
            "sizeref": 0.10625
           },
           "mode": "markers",
           "name": "Austria",
           "text": [
            "Austria"
           ],
           "type": "scatter",
           "x": [
            0.567766189575195
           ],
           "y": [
            0.22106036543846105
           ]
          },
          {
           "marker": {
            "size": [
             18
            ],
            "sizemode": "area",
            "sizeref": 0.10625
           },
           "mode": "markers",
           "name": "Luxembourg",
           "text": [
            "Luxembourg"
           ],
           "type": "scatter",
           "x": [
            0.59662789106369
           ],
           "y": [
            0.31883442401886
           ]
          },
          {
           "marker": {
            "size": [
             15
            ],
            "sizemode": "area",
            "sizeref": 0.10625
           },
           "mode": "markers",
           "name": "Ireland",
           "text": [
            "Ireland"
           ],
           "type": "scatter",
           "x": [
            0.5731103420257571
           ],
           "y": [
            0.2983881533145901
           ]
          },
          {
           "marker": {
            "size": [
             17
            ],
            "sizemode": "area",
            "sizeref": 0.10625
           },
           "mode": "markers",
           "name": "Belgium",
           "text": [
            "Belgium"
           ],
           "type": "scatter",
           "x": [
            0.5397707223892211
           ],
           "y": [
            0.251343131065369
           ]
          },
          {
           "marker": {
            "size": [
             19
            ],
            "sizemode": "area",
            "sizeref": 0.10625
           },
           "mode": "markers",
           "name": "United Kingdom",
           "text": [
            "United Kingdom"
           ],
           "type": "scatter",
           "x": [
            0.508190035820007
           ],
           "y": [
            0.265428066253662
           ]
          },
          {
           "marker": {
            "size": [
             16
            ],
            "sizemode": "area",
            "sizeref": 0.10625
           },
           "mode": "markers",
           "name": "Germany",
           "text": [
            "Germany"
           ],
           "type": "scatter",
           "x": [
            0.562511384487152
           ],
           "y": [
            0.276731938123703
           ]
          },
          {
           "marker": {
            "size": [
             31
            ],
            "sizemode": "area",
            "sizeref": 0.10625
           },
           "mode": "markers",
           "name": "France",
           "text": [
            "France"
           ],
           "type": "scatter",
           "x": [
            0.470222115516663
           ],
           "y": [
            0.172502428293228
           ]
          },
          {
           "marker": {
            "size": [
             34
            ],
            "sizemode": "area",
            "sizeref": 0.10625
           },
           "mode": "markers",
           "name": "Spain",
           "text": [
            "Spain"
           ],
           "type": "scatter",
           "x": [
            0.408781230449677
           ],
           "y": [
            0.0709140971302986
           ]
          },
          {
           "marker": {
            "size": [
             27
            ],
            "sizemode": "area",
            "sizeref": 0.10625
           },
           "mode": "markers",
           "name": "Malta",
           "text": [
            "Malta"
           ],
           "type": "scatter",
           "x": [
            0.588767051696777
           ],
           "y": [
            0.153066068887711
           ]
          },
          {
           "marker": {
            "size": [
             48
            ],
            "sizemode": "area",
            "sizeref": 0.10625
           },
           "mode": "markers",
           "name": "Italy",
           "text": [
            "Italy"
           ],
           "type": "scatter",
           "x": [
            0.256450712680817
           ],
           "y": [
            0.0280280914157629
           ]
          },
          {
           "marker": {
            "size": [
             61
            ],
            "sizemode": "area",
            "sizeref": 0.10625
           },
           "mode": "markers",
           "name": "North Cyprus",
           "text": [
            "North Cyprus"
           ],
           "type": "scatter",
           "x": [
            0.471203625202179
           ],
           "y": [
            0.155353352427483
           ]
          },
          {
           "marker": {
            "size": [
             65
            ],
            "sizemode": "area",
            "sizeref": 0.10625
           },
           "mode": "markers",
           "name": "Cyprus",
           "text": [
            "Cyprus"
           ],
           "type": "scatter",
           "x": [
            0.35511153936386103
           ],
           "y": [
            0.0412379764020443
           ]
          },
          {
           "marker": {
            "size": [
             89
            ],
            "sizemode": "area",
            "sizeref": 0.10625
           },
           "mode": "markers",
           "name": "Portugal",
           "text": [
            "Portugal"
           ],
           "type": "scatter",
           "x": [
            0.498465299606323
           ],
           "y": [
            0.0158694516867399
           ]
          },
          {
           "marker": {
            "size": [
             87
            ],
            "sizemode": "area",
            "sizeref": 0.10625
           },
           "mode": "markers",
           "name": "Greece",
           "text": [
            "Greece"
           ],
           "type": "scatter",
           "x": [
            0.0957312509417534
           ],
           "y": [
            0.04328977689147
           ]
          }
         ],
         "name": "2017"
        }
       ],
       "layout": {
        "height": 750,
        "hovermode": "closest",
        "margin": {
         "b": 50,
         "pad": 5,
         "t": 50
        },
        "showlegend": true,
        "sliders": [
         {
          "active": 0,
          "currentvalue": {
           "font": {
            "size": 20
           },
           "prefix": "Year:",
           "visible": true,
           "xanchor": "right"
          },
          "len": 0.9,
          "pad": {
           "b": 10,
           "t": 50
          },
          "steps": [
           {
            "args": [
             [
              2015
             ],
             {
              "frame": {
               "duration": 300,
               "redraw": false
              },
              "mode": "immediate",
              "transition": {
               "duration": 300
              }
             }
            ],
            "label": "2015",
            "method": "animate"
           },
           {
            "args": [
             [
              2016
             ],
             {
              "frame": {
               "duration": 300,
               "redraw": false
              },
              "mode": "immediate",
              "transition": {
               "duration": 300
              }
             }
            ],
            "label": "2016",
            "method": "animate"
           },
           {
            "args": [
             [
              2017
             ],
             {
              "frame": {
               "duration": 300,
               "redraw": false
              },
              "mode": "immediate",
              "transition": {
               "duration": 300
              }
             }
            ],
            "label": "2017",
            "method": "animate"
           }
          ],
          "transition": {
           "duration": 300,
           "easing": "cubic-in-out"
          },
          "x": 0.1,
          "xanchor": "left",
          "y": 0,
          "yanchor": "top"
         }
        ],
        "title": {
         "text": "Bubble Plot"
        },
        "updatemenus": [
         {
          "buttons": [
           {
            "args": [
             null,
             {
              "frame": {
               "duration": 500,
               "redraw": false
              },
              "fromcurrent": true,
              "transition": {
               "duration": 300,
               "easing": "quadratic-in-out"
              }
             }
            ],
            "label": "Play",
            "method": "animate"
           },
           {
            "args": [
             [
              null
             ],
             {
              "frame": {
               "duration": 0,
               "redraw": false
              },
              "mode": "immediate",
              "transition": {
               "duration": 0
              }
             }
            ],
            "label": "Pause",
            "method": "animate"
           }
          ],
          "direction": "left",
          "pad": {
           "r": 10,
           "t": 87
          },
          "showactive": false,
          "type": "buttons",
          "x": 0.1,
          "xanchor": "right",
          "y": 0,
          "yanchor": "top"
         }
        ],
        "xaxis": {
         "autorange": false,
         "range": [
          0.040754000000000005,
          0.937622
         ],
         "title": {
          "text": "Freedom"
         }
        },
        "yaxis": {
         "autorange": false,
         "range": [
          -1.9083598019748018,
          -0.3281622759916604
         ],
         "title": {
          "text": "Trust"
         },
         "type": "log"
        }
       }
      },
      "text/html": [
       "<div id=\"202c8af9-0aaa-433f-a684-ce8b8b19f335\" style=\"height: 750px; width: 100%;\" class=\"plotly-graph-div\"></div><script type=\"text/javascript\">require([\"plotly\"], function(Plotly) { window.PLOTLYENV=window.PLOTLYENV || {};window.PLOTLYENV.BASE_URL=\"https://plot.ly\";\n",
       "    if (document.getElementById(\"202c8af9-0aaa-433f-a684-ce8b8b19f335\")) {\n",
       "        Plotly.plot(\n",
       "            '202c8af9-0aaa-433f-a684-ce8b8b19f335',\n",
       "            [{\"marker\": {\"size\": [1.0], \"sizemode\": \"area\", \"sizeref\": 0.10625}, \"mode\": \"markers\", \"name\": \"Switzerland\", \"text\": [\"Switzerland\"], \"x\": [0.66557], \"y\": [0.41978], \"type\": \"scatter\", \"uid\": \"78c30aa1-62f9-42b9-94d4-1f24b0ba3c34\"}, {\"marker\": {\"size\": [2.0], \"sizemode\": \"area\", \"sizeref\": 0.10625}, \"mode\": \"markers\", \"name\": \"Iceland\", \"text\": [\"Iceland\"], \"x\": [0.6287699999999999], \"y\": [0.14145], \"type\": \"scatter\", \"uid\": \"7fee329b-a651-4749-842d-c56adb6f4a72\"}, {\"marker\": {\"size\": [3.0], \"sizemode\": \"area\", \"sizeref\": 0.10625}, \"mode\": \"markers\", \"name\": \"Denmark\", \"text\": [\"Denmark\"], \"x\": [0.6493800000000001], \"y\": [0.48357], \"type\": \"scatter\", \"uid\": \"e08dba58-a680-498b-99db-a33f8a64e087\"}, {\"marker\": {\"size\": [4.0], \"sizemode\": \"area\", \"sizeref\": 0.10625}, \"mode\": \"markers\", \"name\": \"Norway\", \"text\": [\"Norway\"], \"x\": [0.66973], \"y\": [0.36503], \"type\": \"scatter\", \"uid\": \"b673f9d5-bd8f-45e8-8a38-3af078dc4ae8\"}, {\"marker\": {\"size\": [6.0], \"sizemode\": \"area\", \"sizeref\": 0.10625}, \"mode\": \"markers\", \"name\": \"Finland\", \"text\": [\"Finland\"], \"x\": [0.64169], \"y\": [0.41372], \"type\": \"scatter\", \"uid\": \"332a3caa-560e-4cdf-bae0-a7aa770c9066\"}, {\"marker\": {\"size\": [7.0], \"sizemode\": \"area\", \"sizeref\": 0.10625}, \"mode\": \"markers\", \"name\": \"Netherlands\", \"text\": [\"Netherlands\"], \"x\": [0.6157600000000001], \"y\": [0.31814000000000003], \"type\": \"scatter\", \"uid\": \"d9229dd6-73a4-4f2b-b296-420c81a32d87\"}, {\"marker\": {\"size\": [8.0], \"sizemode\": \"area\", \"sizeref\": 0.10625}, \"mode\": \"markers\", \"name\": \"Sweden\", \"text\": [\"Sweden\"], \"x\": [0.6598], \"y\": [0.43844], \"type\": \"scatter\", \"uid\": \"9029acfe-0a15-4ed5-80e7-190834884ce4\"}, {\"marker\": {\"size\": [13.0], \"sizemode\": \"area\", \"sizeref\": 0.10625}, \"mode\": \"markers\", \"name\": \"Austria\", \"text\": [\"Austria\"], \"x\": [0.62433], \"y\": [0.18676], \"type\": \"scatter\", \"uid\": \"a1d45b51-0e90-40cf-85f7-5ed030bb2c10\"}, {\"marker\": {\"size\": [17.0], \"sizemode\": \"area\", \"sizeref\": 0.10625}, \"mode\": \"markers\", \"name\": \"Luxembourg\", \"text\": [\"Luxembourg\"], \"x\": [0.61583], \"y\": [0.37798], \"type\": \"scatter\", \"uid\": \"a9b44f3d-16dc-40f1-a2a8-b859534bed0c\"}, {\"marker\": {\"size\": [18.0], \"sizemode\": \"area\", \"sizeref\": 0.10625}, \"mode\": \"markers\", \"name\": \"Ireland\", \"text\": [\"Ireland\"], \"x\": [0.6177699999999999], \"y\": [0.28703], \"type\": \"scatter\", \"uid\": \"4a2a653f-d003-46f9-8e01-b42162be65b2\"}, {\"marker\": {\"size\": [19.0], \"sizemode\": \"area\", \"sizeref\": 0.10625}, \"mode\": \"markers\", \"name\": \"Belgium\", \"text\": [\"Belgium\"], \"x\": [0.5845], \"y\": [0.2254], \"type\": \"scatter\", \"uid\": \"8c8a8094-4c3e-4017-8647-440ce05e77ae\"}, {\"marker\": {\"size\": [21.0], \"sizemode\": \"area\", \"sizeref\": 0.10625}, \"mode\": \"markers\", \"name\": \"United Kingdom\", \"text\": [\"United Kingdom\"], \"x\": [0.59625], \"y\": [0.32067], \"type\": \"scatter\", \"uid\": \"bb721e80-59f8-4cbb-b4f2-9d1ace3d6928\"}, {\"marker\": {\"size\": [26.0], \"sizemode\": \"area\", \"sizeref\": 0.10625}, \"mode\": \"markers\", \"name\": \"Germany\", \"text\": [\"Germany\"], \"x\": [0.6147699999999999], \"y\": [0.21843], \"type\": \"scatter\", \"uid\": \"883a8c82-052e-4bd5-84b4-6e1cff22a5c1\"}, {\"marker\": {\"size\": [29.0], \"sizemode\": \"area\", \"sizeref\": 0.10625}, \"mode\": \"markers\", \"name\": \"France\", \"text\": [\"France\"], \"x\": [0.55011], \"y\": [0.20646], \"type\": \"scatter\", \"uid\": \"324c2a3a-6ebf-49ec-9f5d-fc70dfcc9249\"}, {\"marker\": {\"size\": [36.0], \"sizemode\": \"area\", \"sizeref\": 0.10625}, \"mode\": \"markers\", \"name\": \"Spain\", \"text\": [\"Spain\"], \"x\": [0.45951], \"y\": [0.06398], \"type\": \"scatter\", \"uid\": \"f4c5af28-55a2-4909-83dc-120514a896aa\"}, {\"marker\": {\"size\": [37.0], \"sizemode\": \"area\", \"sizeref\": 0.10625}, \"mode\": \"markers\", \"name\": \"Malta\", \"text\": [\"Malta\"], \"x\": [0.60365], \"y\": [0.13585999999999998], \"type\": \"scatter\", \"uid\": \"7c58fcb3-9f71-4f60-aa95-f5af7cd79c7f\"}, {\"marker\": {\"size\": [50.0], \"sizemode\": \"area\", \"sizeref\": 0.10625}, \"mode\": \"markers\", \"name\": \"Italy\", \"text\": [\"Italy\"], \"x\": [0.26236], \"y\": [0.02901], \"type\": \"scatter\", \"uid\": \"1c617753-e690-413e-a928-33224d399759\"}, {\"marker\": {\"size\": [66.0], \"sizemode\": \"area\", \"sizeref\": 0.10625}, \"mode\": \"markers\", \"name\": \"North Cyprus\", \"text\": [\"North Cyprus\"], \"x\": [0.49027], \"y\": [0.1428], \"type\": \"scatter\", \"uid\": \"251900bc-b28e-45e5-8e2d-38a0750da2db\"}, {\"marker\": {\"size\": [67.0], \"sizemode\": \"area\", \"sizeref\": 0.10625}, \"mode\": \"markers\", \"name\": \"Cyprus\", \"text\": [\"Cyprus\"], \"x\": [0.40672], \"y\": [0.06146], \"type\": \"scatter\", \"uid\": \"fffb8409-3a0d-46cc-b248-a56fe60f837e\"}, {\"marker\": {\"size\": [88.0], \"sizemode\": \"area\", \"sizeref\": 0.10625}, \"mode\": \"markers\", \"name\": \"Portugal\", \"text\": [\"Portugal\"], \"x\": [0.51469], \"y\": [0.01078], \"type\": \"scatter\", \"uid\": \"20a3c5c9-d752-4d27-a259-8a3a493c6108\"}, {\"marker\": {\"size\": [102.0], \"sizemode\": \"area\", \"sizeref\": 0.10625}, \"mode\": \"markers\", \"name\": \"Greece\", \"text\": [\"Greece\"], \"x\": [0.07699], \"y\": [0.013969999999999998], \"type\": \"scatter\", \"uid\": \"f0ac9511-1ed8-44f7-8626-4212b00107a0\"}],\n",
       "            {\"height\": 750, \"hovermode\": \"closest\", \"margin\": {\"b\": 50, \"pad\": 5, \"t\": 50}, \"showlegend\": true, \"sliders\": [{\"active\": 0, \"currentvalue\": {\"font\": {\"size\": 20}, \"prefix\": \"Year:\", \"visible\": true, \"xanchor\": \"right\"}, \"len\": 0.9, \"pad\": {\"b\": 10, \"t\": 50}, \"steps\": [{\"args\": [[2015], {\"frame\": {\"duration\": 300, \"redraw\": false}, \"mode\": \"immediate\", \"transition\": {\"duration\": 300}}], \"label\": \"2015\", \"method\": \"animate\"}, {\"args\": [[2016], {\"frame\": {\"duration\": 300, \"redraw\": false}, \"mode\": \"immediate\", \"transition\": {\"duration\": 300}}], \"label\": \"2016\", \"method\": \"animate\"}, {\"args\": [[2017], {\"frame\": {\"duration\": 300, \"redraw\": false}, \"mode\": \"immediate\", \"transition\": {\"duration\": 300}}], \"label\": \"2017\", \"method\": \"animate\"}], \"transition\": {\"duration\": 300, \"easing\": \"cubic-in-out\"}, \"x\": 0.1, \"xanchor\": \"left\", \"y\": 0, \"yanchor\": \"top\"}], \"title\": {\"text\": \"Bubble Plot\"}, \"updatemenus\": [{\"buttons\": [{\"args\": [null, {\"frame\": {\"duration\": 500, \"redraw\": false}, \"fromcurrent\": true, \"transition\": {\"duration\": 300, \"easing\": \"quadratic-in-out\"}}], \"label\": \"Play\", \"method\": \"animate\"}, {\"args\": [[null], {\"frame\": {\"duration\": 0, \"redraw\": false}, \"mode\": \"immediate\", \"transition\": {\"duration\": 0}}], \"label\": \"Pause\", \"method\": \"animate\"}], \"direction\": \"left\", \"pad\": {\"r\": 10, \"t\": 87}, \"showactive\": false, \"type\": \"buttons\", \"x\": 0.1, \"xanchor\": \"right\", \"y\": 0, \"yanchor\": \"top\"}], \"xaxis\": {\"autorange\": false, \"range\": [0.040754000000000005, 0.937622], \"title\": {\"text\": \"Freedom\"}}, \"yaxis\": {\"autorange\": false, \"range\": [-1.9083598019748018, -0.3281622759916604], \"title\": {\"text\": \"Trust\"}, \"type\": \"log\"}},\n",
       "            {\"showLink\": false, \"linkText\": \"Export to plot.ly\", \"plotlyServerURL\": \"https://plot.ly\"}\n",
       "        ).then(function () {return Plotly.addFrames('202c8af9-0aaa-433f-a684-ce8b8b19f335',[{\"data\": [{\"marker\": {\"size\": [1.0], \"sizemode\": \"area\", \"sizeref\": 0.10625}, \"mode\": \"markers\", \"name\": \"Switzerland\", \"text\": [\"Switzerland\"], \"x\": [0.66557], \"y\": [0.41978], \"type\": \"scatter\"}, {\"marker\": {\"size\": [2.0], \"sizemode\": \"area\", \"sizeref\": 0.10625}, \"mode\": \"markers\", \"name\": \"Iceland\", \"text\": [\"Iceland\"], \"x\": [0.6287699999999999], \"y\": [0.14145], \"type\": \"scatter\"}, {\"marker\": {\"size\": [3.0], \"sizemode\": \"area\", \"sizeref\": 0.10625}, \"mode\": \"markers\", \"name\": \"Denmark\", \"text\": [\"Denmark\"], \"x\": [0.6493800000000001], \"y\": [0.48357], \"type\": \"scatter\"}, {\"marker\": {\"size\": [4.0], \"sizemode\": \"area\", \"sizeref\": 0.10625}, \"mode\": \"markers\", \"name\": \"Norway\", \"text\": [\"Norway\"], \"x\": [0.66973], \"y\": [0.36503], \"type\": \"scatter\"}, {\"marker\": {\"size\": [6.0], \"sizemode\": \"area\", \"sizeref\": 0.10625}, \"mode\": \"markers\", \"name\": \"Finland\", \"text\": [\"Finland\"], \"x\": [0.64169], \"y\": [0.41372], \"type\": \"scatter\"}, {\"marker\": {\"size\": [7.0], \"sizemode\": \"area\", \"sizeref\": 0.10625}, \"mode\": \"markers\", \"name\": \"Netherlands\", \"text\": [\"Netherlands\"], \"x\": [0.6157600000000001], \"y\": [0.31814000000000003], \"type\": \"scatter\"}, {\"marker\": {\"size\": [8.0], \"sizemode\": \"area\", \"sizeref\": 0.10625}, \"mode\": \"markers\", \"name\": \"Sweden\", \"text\": [\"Sweden\"], \"x\": [0.6598], \"y\": [0.43844], \"type\": \"scatter\"}, {\"marker\": {\"size\": [13.0], \"sizemode\": \"area\", \"sizeref\": 0.10625}, \"mode\": \"markers\", \"name\": \"Austria\", \"text\": [\"Austria\"], \"x\": [0.62433], \"y\": [0.18676], \"type\": \"scatter\"}, {\"marker\": {\"size\": [17.0], \"sizemode\": \"area\", \"sizeref\": 0.10625}, \"mode\": \"markers\", \"name\": \"Luxembourg\", \"text\": [\"Luxembourg\"], \"x\": [0.61583], \"y\": [0.37798], \"type\": \"scatter\"}, {\"marker\": {\"size\": [18.0], \"sizemode\": \"area\", \"sizeref\": 0.10625}, \"mode\": \"markers\", \"name\": \"Ireland\", \"text\": [\"Ireland\"], \"x\": [0.6177699999999999], \"y\": [0.28703], \"type\": \"scatter\"}, {\"marker\": {\"size\": [19.0], \"sizemode\": \"area\", \"sizeref\": 0.10625}, \"mode\": \"markers\", \"name\": \"Belgium\", \"text\": [\"Belgium\"], \"x\": [0.5845], \"y\": [0.2254], \"type\": \"scatter\"}, {\"marker\": {\"size\": [21.0], \"sizemode\": \"area\", \"sizeref\": 0.10625}, \"mode\": \"markers\", \"name\": \"United Kingdom\", \"text\": [\"United Kingdom\"], \"x\": [0.59625], \"y\": [0.32067], \"type\": \"scatter\"}, {\"marker\": {\"size\": [26.0], \"sizemode\": \"area\", \"sizeref\": 0.10625}, \"mode\": \"markers\", \"name\": \"Germany\", \"text\": [\"Germany\"], \"x\": [0.6147699999999999], \"y\": [0.21843], \"type\": \"scatter\"}, {\"marker\": {\"size\": [29.0], \"sizemode\": \"area\", \"sizeref\": 0.10625}, \"mode\": \"markers\", \"name\": \"France\", \"text\": [\"France\"], \"x\": [0.55011], \"y\": [0.20646], \"type\": \"scatter\"}, {\"marker\": {\"size\": [36.0], \"sizemode\": \"area\", \"sizeref\": 0.10625}, \"mode\": \"markers\", \"name\": \"Spain\", \"text\": [\"Spain\"], \"x\": [0.45951], \"y\": [0.06398], \"type\": \"scatter\"}, {\"marker\": {\"size\": [37.0], \"sizemode\": \"area\", \"sizeref\": 0.10625}, \"mode\": \"markers\", \"name\": \"Malta\", \"text\": [\"Malta\"], \"x\": [0.60365], \"y\": [0.13585999999999998], \"type\": \"scatter\"}, {\"marker\": {\"size\": [50.0], \"sizemode\": \"area\", \"sizeref\": 0.10625}, \"mode\": \"markers\", \"name\": \"Italy\", \"text\": [\"Italy\"], \"x\": [0.26236], \"y\": [0.02901], \"type\": \"scatter\"}, {\"marker\": {\"size\": [66.0], \"sizemode\": \"area\", \"sizeref\": 0.10625}, \"mode\": \"markers\", \"name\": \"North Cyprus\", \"text\": [\"North Cyprus\"], \"x\": [0.49027], \"y\": [0.1428], \"type\": \"scatter\"}, {\"marker\": {\"size\": [67.0], \"sizemode\": \"area\", \"sizeref\": 0.10625}, \"mode\": \"markers\", \"name\": \"Cyprus\", \"text\": [\"Cyprus\"], \"x\": [0.40672], \"y\": [0.06146], \"type\": \"scatter\"}, {\"marker\": {\"size\": [88.0], \"sizemode\": \"area\", \"sizeref\": 0.10625}, \"mode\": \"markers\", \"name\": \"Portugal\", \"text\": [\"Portugal\"], \"x\": [0.51469], \"y\": [0.01078], \"type\": \"scatter\"}, {\"marker\": {\"size\": [102.0], \"sizemode\": \"area\", \"sizeref\": 0.10625}, \"mode\": \"markers\", \"name\": \"Greece\", \"text\": [\"Greece\"], \"x\": [0.07699], \"y\": [0.013969999999999998], \"type\": \"scatter\"}], \"name\": \"2015\"}, {\"data\": [{\"marker\": {\"size\": [2.0], \"sizemode\": \"area\", \"sizeref\": 0.10625}, \"mode\": \"markers\", \"name\": \"Switzerland\", \"text\": [\"Switzerland\"], \"x\": [0.58557], \"y\": [0.41203], \"type\": \"scatter\"}, {\"marker\": {\"size\": [3.0], \"sizemode\": \"area\", \"sizeref\": 0.10625}, \"mode\": \"markers\", \"name\": \"Iceland\", \"text\": [\"Iceland\"], \"x\": [0.56624], \"y\": [0.14975], \"type\": \"scatter\"}, {\"marker\": {\"size\": [1.0], \"sizemode\": \"area\", \"sizeref\": 0.10625}, \"mode\": \"markers\", \"name\": \"Denmark\", \"text\": [\"Denmark\"], \"x\": [0.5794100000000001], \"y\": [0.44453], \"type\": \"scatter\"}, {\"marker\": {\"size\": [4.0], \"sizemode\": \"area\", \"sizeref\": 0.10625}, \"mode\": \"markers\", \"name\": \"Norway\", \"text\": [\"Norway\"], \"x\": [0.59609], \"y\": [0.35776], \"type\": \"scatter\"}, {\"marker\": {\"size\": [5.0], \"sizemode\": \"area\", \"sizeref\": 0.10625}, \"mode\": \"markers\", \"name\": \"Finland\", \"text\": [\"Finland\"], \"x\": [0.57104], \"y\": [0.41004], \"type\": \"scatter\"}, {\"marker\": {\"size\": [7.0], \"sizemode\": \"area\", \"sizeref\": 0.10625}, \"mode\": \"markers\", \"name\": \"Netherlands\", \"text\": [\"Netherlands\"], \"x\": [0.55211], \"y\": [0.29927], \"type\": \"scatter\"}, {\"marker\": {\"size\": [10.0], \"sizemode\": \"area\", \"sizeref\": 0.10625}, \"mode\": \"markers\", \"name\": \"Sweden\", \"text\": [\"Sweden\"], \"x\": [0.58218], \"y\": [0.40867], \"type\": \"scatter\"}, {\"marker\": {\"size\": [12.0], \"sizemode\": \"area\", \"sizeref\": 0.10625}, \"mode\": \"markers\", \"name\": \"Austria\", \"text\": [\"Austria\"], \"x\": [0.54355], \"y\": [0.21348000000000006], \"type\": \"scatter\"}, {\"marker\": {\"size\": [20.0], \"sizemode\": \"area\", \"sizeref\": 0.10625}, \"mode\": \"markers\", \"name\": \"Luxembourg\", \"text\": [\"Luxembourg\"], \"x\": [0.5487], \"y\": [0.35329], \"type\": \"scatter\"}, {\"marker\": {\"size\": [19.0], \"sizemode\": \"area\", \"sizeref\": 0.10625}, \"mode\": \"markers\", \"name\": \"Ireland\", \"text\": [\"Ireland\"], \"x\": [0.54008], \"y\": [0.29754], \"type\": \"scatter\"}, {\"marker\": {\"size\": [18.0], \"sizemode\": \"area\", \"sizeref\": 0.10625}, \"mode\": \"markers\", \"name\": \"Belgium\", \"text\": [\"Belgium\"], \"x\": [0.51354], \"y\": [0.26248], \"type\": \"scatter\"}, {\"marker\": {\"size\": [23.0], \"sizemode\": \"area\", \"sizeref\": 0.10625}, \"mode\": \"markers\", \"name\": \"United Kingdom\", \"text\": [\"United Kingdom\"], \"x\": [0.50036], \"y\": [0.27399], \"type\": \"scatter\"}, {\"marker\": {\"size\": [16.0], \"sizemode\": \"area\", \"sizeref\": 0.10625}, \"mode\": \"markers\", \"name\": \"Germany\", \"text\": [\"Germany\"], \"x\": [0.53466], \"y\": [0.28551], \"type\": \"scatter\"}, {\"marker\": {\"size\": [32.0], \"sizemode\": \"area\", \"sizeref\": 0.10625}, \"mode\": \"markers\", \"name\": \"France\", \"text\": [\"France\"], \"x\": [0.46562], \"y\": [0.17808], \"type\": \"scatter\"}, {\"marker\": {\"size\": [37.0], \"sizemode\": \"area\", \"sizeref\": 0.10625}, \"mode\": \"markers\", \"name\": \"Spain\", \"text\": [\"Spain\"], \"x\": [0.37545], \"y\": [0.061370000000000015], \"type\": \"scatter\"}, {\"marker\": {\"size\": [30.0], \"sizemode\": \"area\", \"sizeref\": 0.10625}, \"mode\": \"markers\", \"name\": \"Malta\", \"text\": [\"Malta\"], \"x\": [0.54994], \"y\": [0.17554], \"type\": \"scatter\"}, {\"marker\": {\"size\": [50.0], \"sizemode\": \"area\", \"sizeref\": 0.10625}, \"mode\": \"markers\", \"name\": \"Italy\", \"text\": [\"Italy\"], \"x\": [0.18827], \"y\": [0.02556], \"type\": \"scatter\"}, {\"marker\": {\"size\": [62.0], \"sizemode\": \"area\", \"sizeref\": 0.10625}, \"mode\": \"markers\", \"name\": \"North Cyprus\", \"text\": [\"North Cyprus\"], \"x\": [0.43596], \"y\": [0.16577999999999998], \"type\": \"scatter\"}, {\"marker\": {\"size\": [69.0], \"sizemode\": \"area\", \"sizeref\": 0.10625}, \"mode\": \"markers\", \"name\": \"Cyprus\", \"text\": [\"Cyprus\"], \"x\": [0.29507], \"y\": [0.052279999999999986], \"type\": \"scatter\"}, {\"marker\": {\"size\": [94.0], \"sizemode\": \"area\", \"sizeref\": 0.10625}, \"mode\": \"markers\", \"name\": \"Portugal\", \"text\": [\"Portugal\"], \"x\": [0.44727], \"y\": [0.01521], \"type\": \"scatter\"}, {\"marker\": {\"size\": [99.0], \"sizemode\": \"area\", \"sizeref\": 0.10625}, \"mode\": \"markers\", \"name\": \"Greece\", \"text\": [\"Greece\"], \"x\": [0.058220000000000015], \"y\": [0.04127], \"type\": \"scatter\"}], \"name\": \"2016\"}, {\"data\": [{\"marker\": {\"size\": [4.0], \"sizemode\": \"area\", \"sizeref\": 0.10625}, \"mode\": \"markers\", \"name\": \"Switzerland\", \"text\": [\"Switzerland\"], \"x\": [0.620070576667786], \"y\": [0.3670072853565221], \"type\": \"scatter\"}, {\"marker\": {\"size\": [3.0], \"sizemode\": \"area\", \"sizeref\": 0.10625}, \"mode\": \"markers\", \"name\": \"Iceland\", \"text\": [\"Iceland\"], \"x\": [0.6271626353263849], \"y\": [0.15352655947208402], \"type\": \"scatter\"}, {\"marker\": {\"size\": [2.0], \"sizemode\": \"area\", \"sizeref\": 0.10625}, \"mode\": \"markers\", \"name\": \"Denmark\", \"text\": [\"Denmark\"], \"x\": [0.626006722450256], \"y\": [0.40077006816864], \"type\": \"scatter\"}, {\"marker\": {\"size\": [1.0], \"sizemode\": \"area\", \"sizeref\": 0.10625}, \"mode\": \"markers\", \"name\": \"Norway\", \"text\": [\"Norway\"], \"x\": [0.635422587394714], \"y\": [0.31596383452415505], \"type\": \"scatter\"}, {\"marker\": {\"size\": [5.0], \"sizemode\": \"area\", \"sizeref\": 0.10625}, \"mode\": \"markers\", \"name\": \"Finland\", \"text\": [\"Finland\"], \"x\": [0.6179508566856379], \"y\": [0.38261154294014], \"type\": \"scatter\"}, {\"marker\": {\"size\": [6.0], \"sizemode\": \"area\", \"sizeref\": 0.10625}, \"mode\": \"markers\", \"name\": \"Netherlands\", \"text\": [\"Netherlands\"], \"x\": [0.5853844881057739], \"y\": [0.282661825418472], \"type\": \"scatter\"}, {\"marker\": {\"size\": [9.0], \"sizemode\": \"area\", \"sizeref\": 0.10625}, \"mode\": \"markers\", \"name\": \"Sweden\", \"text\": [\"Sweden\"], \"x\": [0.612924098968506], \"y\": [0.384398728609085], \"type\": \"scatter\"}, {\"marker\": {\"size\": [13.0], \"sizemode\": \"area\", \"sizeref\": 0.10625}, \"mode\": \"markers\", \"name\": \"Austria\", \"text\": [\"Austria\"], \"x\": [0.567766189575195], \"y\": [0.22106036543846105], \"type\": \"scatter\"}, {\"marker\": {\"size\": [18.0], \"sizemode\": \"area\", \"sizeref\": 0.10625}, \"mode\": \"markers\", \"name\": \"Luxembourg\", \"text\": [\"Luxembourg\"], \"x\": [0.59662789106369], \"y\": [0.31883442401886], \"type\": \"scatter\"}, {\"marker\": {\"size\": [15.0], \"sizemode\": \"area\", \"sizeref\": 0.10625}, \"mode\": \"markers\", \"name\": \"Ireland\", \"text\": [\"Ireland\"], \"x\": [0.5731103420257571], \"y\": [0.2983881533145901], \"type\": \"scatter\"}, {\"marker\": {\"size\": [17.0], \"sizemode\": \"area\", \"sizeref\": 0.10625}, \"mode\": \"markers\", \"name\": \"Belgium\", \"text\": [\"Belgium\"], \"x\": [0.5397707223892211], \"y\": [0.251343131065369], \"type\": \"scatter\"}, {\"marker\": {\"size\": [19.0], \"sizemode\": \"area\", \"sizeref\": 0.10625}, \"mode\": \"markers\", \"name\": \"United Kingdom\", \"text\": [\"United Kingdom\"], \"x\": [0.508190035820007], \"y\": [0.265428066253662], \"type\": \"scatter\"}, {\"marker\": {\"size\": [16.0], \"sizemode\": \"area\", \"sizeref\": 0.10625}, \"mode\": \"markers\", \"name\": \"Germany\", \"text\": [\"Germany\"], \"x\": [0.562511384487152], \"y\": [0.276731938123703], \"type\": \"scatter\"}, {\"marker\": {\"size\": [31.0], \"sizemode\": \"area\", \"sizeref\": 0.10625}, \"mode\": \"markers\", \"name\": \"France\", \"text\": [\"France\"], \"x\": [0.470222115516663], \"y\": [0.172502428293228], \"type\": \"scatter\"}, {\"marker\": {\"size\": [34.0], \"sizemode\": \"area\", \"sizeref\": 0.10625}, \"mode\": \"markers\", \"name\": \"Spain\", \"text\": [\"Spain\"], \"x\": [0.408781230449677], \"y\": [0.0709140971302986], \"type\": \"scatter\"}, {\"marker\": {\"size\": [27.0], \"sizemode\": \"area\", \"sizeref\": 0.10625}, \"mode\": \"markers\", \"name\": \"Malta\", \"text\": [\"Malta\"], \"x\": [0.588767051696777], \"y\": [0.153066068887711], \"type\": \"scatter\"}, {\"marker\": {\"size\": [48.0], \"sizemode\": \"area\", \"sizeref\": 0.10625}, \"mode\": \"markers\", \"name\": \"Italy\", \"text\": [\"Italy\"], \"x\": [0.256450712680817], \"y\": [0.0280280914157629], \"type\": \"scatter\"}, {\"marker\": {\"size\": [61.0], \"sizemode\": \"area\", \"sizeref\": 0.10625}, \"mode\": \"markers\", \"name\": \"North Cyprus\", \"text\": [\"North Cyprus\"], \"x\": [0.471203625202179], \"y\": [0.155353352427483], \"type\": \"scatter\"}, {\"marker\": {\"size\": [65.0], \"sizemode\": \"area\", \"sizeref\": 0.10625}, \"mode\": \"markers\", \"name\": \"Cyprus\", \"text\": [\"Cyprus\"], \"x\": [0.35511153936386103], \"y\": [0.0412379764020443], \"type\": \"scatter\"}, {\"marker\": {\"size\": [89.0], \"sizemode\": \"area\", \"sizeref\": 0.10625}, \"mode\": \"markers\", \"name\": \"Portugal\", \"text\": [\"Portugal\"], \"x\": [0.498465299606323], \"y\": [0.0158694516867399], \"type\": \"scatter\"}, {\"marker\": {\"size\": [87.0], \"sizemode\": \"area\", \"sizeref\": 0.10625}, \"mode\": \"markers\", \"name\": \"Greece\", \"text\": [\"Greece\"], \"x\": [0.0957312509417534], \"y\": [0.04328977689147], \"type\": \"scatter\"}], \"name\": \"2017\"}]);}).then(function(){Plotly.animate('202c8af9-0aaa-433f-a684-ce8b8b19f335');})\n",
       "    }\n",
       "        });</script><script type=\"text/javascript\">window.addEventListener(\"resize\", function(){if (document.getElementById(\"202c8af9-0aaa-433f-a684-ce8b8b19f335\")) {window._Plotly.Plots.resize(document.getElementById(\"202c8af9-0aaa-433f-a684-ce8b8b19f335\"));};})</script>"
      ],
      "text/vnd.plotly.v1+html": [
       "<div id=\"202c8af9-0aaa-433f-a684-ce8b8b19f335\" style=\"height: 750px; width: 100%;\" class=\"plotly-graph-div\"></div><script type=\"text/javascript\">require([\"plotly\"], function(Plotly) { window.PLOTLYENV=window.PLOTLYENV || {};window.PLOTLYENV.BASE_URL=\"https://plot.ly\";\n",
       "    if (document.getElementById(\"202c8af9-0aaa-433f-a684-ce8b8b19f335\")) {\n",
       "        Plotly.plot(\n",
       "            '202c8af9-0aaa-433f-a684-ce8b8b19f335',\n",
       "            [{\"marker\": {\"size\": [1.0], \"sizemode\": \"area\", \"sizeref\": 0.10625}, \"mode\": \"markers\", \"name\": \"Switzerland\", \"text\": [\"Switzerland\"], \"x\": [0.66557], \"y\": [0.41978], \"type\": \"scatter\", \"uid\": \"78c30aa1-62f9-42b9-94d4-1f24b0ba3c34\"}, {\"marker\": {\"size\": [2.0], \"sizemode\": \"area\", \"sizeref\": 0.10625}, \"mode\": \"markers\", \"name\": \"Iceland\", \"text\": [\"Iceland\"], \"x\": [0.6287699999999999], \"y\": [0.14145], \"type\": \"scatter\", \"uid\": \"7fee329b-a651-4749-842d-c56adb6f4a72\"}, {\"marker\": {\"size\": [3.0], \"sizemode\": \"area\", \"sizeref\": 0.10625}, \"mode\": \"markers\", \"name\": \"Denmark\", \"text\": [\"Denmark\"], \"x\": [0.6493800000000001], \"y\": [0.48357], \"type\": \"scatter\", \"uid\": \"e08dba58-a680-498b-99db-a33f8a64e087\"}, {\"marker\": {\"size\": [4.0], \"sizemode\": \"area\", \"sizeref\": 0.10625}, \"mode\": \"markers\", \"name\": \"Norway\", \"text\": [\"Norway\"], \"x\": [0.66973], \"y\": [0.36503], \"type\": \"scatter\", \"uid\": \"b673f9d5-bd8f-45e8-8a38-3af078dc4ae8\"}, {\"marker\": {\"size\": [6.0], \"sizemode\": \"area\", \"sizeref\": 0.10625}, \"mode\": \"markers\", \"name\": \"Finland\", \"text\": [\"Finland\"], \"x\": [0.64169], \"y\": [0.41372], \"type\": \"scatter\", \"uid\": \"332a3caa-560e-4cdf-bae0-a7aa770c9066\"}, {\"marker\": {\"size\": [7.0], \"sizemode\": \"area\", \"sizeref\": 0.10625}, \"mode\": \"markers\", \"name\": \"Netherlands\", \"text\": [\"Netherlands\"], \"x\": [0.6157600000000001], \"y\": [0.31814000000000003], \"type\": \"scatter\", \"uid\": \"d9229dd6-73a4-4f2b-b296-420c81a32d87\"}, {\"marker\": {\"size\": [8.0], \"sizemode\": \"area\", \"sizeref\": 0.10625}, \"mode\": \"markers\", \"name\": \"Sweden\", \"text\": [\"Sweden\"], \"x\": [0.6598], \"y\": [0.43844], \"type\": \"scatter\", \"uid\": \"9029acfe-0a15-4ed5-80e7-190834884ce4\"}, {\"marker\": {\"size\": [13.0], \"sizemode\": \"area\", \"sizeref\": 0.10625}, \"mode\": \"markers\", \"name\": \"Austria\", \"text\": [\"Austria\"], \"x\": [0.62433], \"y\": [0.18676], \"type\": \"scatter\", \"uid\": \"a1d45b51-0e90-40cf-85f7-5ed030bb2c10\"}, {\"marker\": {\"size\": [17.0], \"sizemode\": \"area\", \"sizeref\": 0.10625}, \"mode\": \"markers\", \"name\": \"Luxembourg\", \"text\": [\"Luxembourg\"], \"x\": [0.61583], \"y\": [0.37798], \"type\": \"scatter\", \"uid\": \"a9b44f3d-16dc-40f1-a2a8-b859534bed0c\"}, {\"marker\": {\"size\": [18.0], \"sizemode\": \"area\", \"sizeref\": 0.10625}, \"mode\": \"markers\", \"name\": \"Ireland\", \"text\": [\"Ireland\"], \"x\": [0.6177699999999999], \"y\": [0.28703], \"type\": \"scatter\", \"uid\": \"4a2a653f-d003-46f9-8e01-b42162be65b2\"}, {\"marker\": {\"size\": [19.0], \"sizemode\": \"area\", \"sizeref\": 0.10625}, \"mode\": \"markers\", \"name\": \"Belgium\", \"text\": [\"Belgium\"], \"x\": [0.5845], \"y\": [0.2254], \"type\": \"scatter\", \"uid\": \"8c8a8094-4c3e-4017-8647-440ce05e77ae\"}, {\"marker\": {\"size\": [21.0], \"sizemode\": \"area\", \"sizeref\": 0.10625}, \"mode\": \"markers\", \"name\": \"United Kingdom\", \"text\": [\"United Kingdom\"], \"x\": [0.59625], \"y\": [0.32067], \"type\": \"scatter\", \"uid\": \"bb721e80-59f8-4cbb-b4f2-9d1ace3d6928\"}, {\"marker\": {\"size\": [26.0], \"sizemode\": \"area\", \"sizeref\": 0.10625}, \"mode\": \"markers\", \"name\": \"Germany\", \"text\": [\"Germany\"], \"x\": [0.6147699999999999], \"y\": [0.21843], \"type\": \"scatter\", \"uid\": \"883a8c82-052e-4bd5-84b4-6e1cff22a5c1\"}, {\"marker\": {\"size\": [29.0], \"sizemode\": \"area\", \"sizeref\": 0.10625}, \"mode\": \"markers\", \"name\": \"France\", \"text\": [\"France\"], \"x\": [0.55011], \"y\": [0.20646], \"type\": \"scatter\", \"uid\": \"324c2a3a-6ebf-49ec-9f5d-fc70dfcc9249\"}, {\"marker\": {\"size\": [36.0], \"sizemode\": \"area\", \"sizeref\": 0.10625}, \"mode\": \"markers\", \"name\": \"Spain\", \"text\": [\"Spain\"], \"x\": [0.45951], \"y\": [0.06398], \"type\": \"scatter\", \"uid\": \"f4c5af28-55a2-4909-83dc-120514a896aa\"}, {\"marker\": {\"size\": [37.0], \"sizemode\": \"area\", \"sizeref\": 0.10625}, \"mode\": \"markers\", \"name\": \"Malta\", \"text\": [\"Malta\"], \"x\": [0.60365], \"y\": [0.13585999999999998], \"type\": \"scatter\", \"uid\": \"7c58fcb3-9f71-4f60-aa95-f5af7cd79c7f\"}, {\"marker\": {\"size\": [50.0], \"sizemode\": \"area\", \"sizeref\": 0.10625}, \"mode\": \"markers\", \"name\": \"Italy\", \"text\": [\"Italy\"], \"x\": [0.26236], \"y\": [0.02901], \"type\": \"scatter\", \"uid\": \"1c617753-e690-413e-a928-33224d399759\"}, {\"marker\": {\"size\": [66.0], \"sizemode\": \"area\", \"sizeref\": 0.10625}, \"mode\": \"markers\", \"name\": \"North Cyprus\", \"text\": [\"North Cyprus\"], \"x\": [0.49027], \"y\": [0.1428], \"type\": \"scatter\", \"uid\": \"251900bc-b28e-45e5-8e2d-38a0750da2db\"}, {\"marker\": {\"size\": [67.0], \"sizemode\": \"area\", \"sizeref\": 0.10625}, \"mode\": \"markers\", \"name\": \"Cyprus\", \"text\": [\"Cyprus\"], \"x\": [0.40672], \"y\": [0.06146], \"type\": \"scatter\", \"uid\": \"fffb8409-3a0d-46cc-b248-a56fe60f837e\"}, {\"marker\": {\"size\": [88.0], \"sizemode\": \"area\", \"sizeref\": 0.10625}, \"mode\": \"markers\", \"name\": \"Portugal\", \"text\": [\"Portugal\"], \"x\": [0.51469], \"y\": [0.01078], \"type\": \"scatter\", \"uid\": \"20a3c5c9-d752-4d27-a259-8a3a493c6108\"}, {\"marker\": {\"size\": [102.0], \"sizemode\": \"area\", \"sizeref\": 0.10625}, \"mode\": \"markers\", \"name\": \"Greece\", \"text\": [\"Greece\"], \"x\": [0.07699], \"y\": [0.013969999999999998], \"type\": \"scatter\", \"uid\": \"f0ac9511-1ed8-44f7-8626-4212b00107a0\"}],\n",
       "            {\"height\": 750, \"hovermode\": \"closest\", \"margin\": {\"b\": 50, \"pad\": 5, \"t\": 50}, \"showlegend\": true, \"sliders\": [{\"active\": 0, \"currentvalue\": {\"font\": {\"size\": 20}, \"prefix\": \"Year:\", \"visible\": true, \"xanchor\": \"right\"}, \"len\": 0.9, \"pad\": {\"b\": 10, \"t\": 50}, \"steps\": [{\"args\": [[2015], {\"frame\": {\"duration\": 300, \"redraw\": false}, \"mode\": \"immediate\", \"transition\": {\"duration\": 300}}], \"label\": \"2015\", \"method\": \"animate\"}, {\"args\": [[2016], {\"frame\": {\"duration\": 300, \"redraw\": false}, \"mode\": \"immediate\", \"transition\": {\"duration\": 300}}], \"label\": \"2016\", \"method\": \"animate\"}, {\"args\": [[2017], {\"frame\": {\"duration\": 300, \"redraw\": false}, \"mode\": \"immediate\", \"transition\": {\"duration\": 300}}], \"label\": \"2017\", \"method\": \"animate\"}], \"transition\": {\"duration\": 300, \"easing\": \"cubic-in-out\"}, \"x\": 0.1, \"xanchor\": \"left\", \"y\": 0, \"yanchor\": \"top\"}], \"title\": {\"text\": \"Bubble Plot\"}, \"updatemenus\": [{\"buttons\": [{\"args\": [null, {\"frame\": {\"duration\": 500, \"redraw\": false}, \"fromcurrent\": true, \"transition\": {\"duration\": 300, \"easing\": \"quadratic-in-out\"}}], \"label\": \"Play\", \"method\": \"animate\"}, {\"args\": [[null], {\"frame\": {\"duration\": 0, \"redraw\": false}, \"mode\": \"immediate\", \"transition\": {\"duration\": 0}}], \"label\": \"Pause\", \"method\": \"animate\"}], \"direction\": \"left\", \"pad\": {\"r\": 10, \"t\": 87}, \"showactive\": false, \"type\": \"buttons\", \"x\": 0.1, \"xanchor\": \"right\", \"y\": 0, \"yanchor\": \"top\"}], \"xaxis\": {\"autorange\": false, \"range\": [0.040754000000000005, 0.937622], \"title\": {\"text\": \"Freedom\"}}, \"yaxis\": {\"autorange\": false, \"range\": [-1.9083598019748018, -0.3281622759916604], \"title\": {\"text\": \"Trust\"}, \"type\": \"log\"}},\n",
       "            {\"showLink\": false, \"linkText\": \"Export to plot.ly\", \"plotlyServerURL\": \"https://plot.ly\"}\n",
       "        ).then(function () {return Plotly.addFrames('202c8af9-0aaa-433f-a684-ce8b8b19f335',[{\"data\": [{\"marker\": {\"size\": [1.0], \"sizemode\": \"area\", \"sizeref\": 0.10625}, \"mode\": \"markers\", \"name\": \"Switzerland\", \"text\": [\"Switzerland\"], \"x\": [0.66557], \"y\": [0.41978], \"type\": \"scatter\"}, {\"marker\": {\"size\": [2.0], \"sizemode\": \"area\", \"sizeref\": 0.10625}, \"mode\": \"markers\", \"name\": \"Iceland\", \"text\": [\"Iceland\"], \"x\": [0.6287699999999999], \"y\": [0.14145], \"type\": \"scatter\"}, {\"marker\": {\"size\": [3.0], \"sizemode\": \"area\", \"sizeref\": 0.10625}, \"mode\": \"markers\", \"name\": \"Denmark\", \"text\": [\"Denmark\"], \"x\": [0.6493800000000001], \"y\": [0.48357], \"type\": \"scatter\"}, {\"marker\": {\"size\": [4.0], \"sizemode\": \"area\", \"sizeref\": 0.10625}, \"mode\": \"markers\", \"name\": \"Norway\", \"text\": [\"Norway\"], \"x\": [0.66973], \"y\": [0.36503], \"type\": \"scatter\"}, {\"marker\": {\"size\": [6.0], \"sizemode\": \"area\", \"sizeref\": 0.10625}, \"mode\": \"markers\", \"name\": \"Finland\", \"text\": [\"Finland\"], \"x\": [0.64169], \"y\": [0.41372], \"type\": \"scatter\"}, {\"marker\": {\"size\": [7.0], \"sizemode\": \"area\", \"sizeref\": 0.10625}, \"mode\": \"markers\", \"name\": \"Netherlands\", \"text\": [\"Netherlands\"], \"x\": [0.6157600000000001], \"y\": [0.31814000000000003], \"type\": \"scatter\"}, {\"marker\": {\"size\": [8.0], \"sizemode\": \"area\", \"sizeref\": 0.10625}, \"mode\": \"markers\", \"name\": \"Sweden\", \"text\": [\"Sweden\"], \"x\": [0.6598], \"y\": [0.43844], \"type\": \"scatter\"}, {\"marker\": {\"size\": [13.0], \"sizemode\": \"area\", \"sizeref\": 0.10625}, \"mode\": \"markers\", \"name\": \"Austria\", \"text\": [\"Austria\"], \"x\": [0.62433], \"y\": [0.18676], \"type\": \"scatter\"}, {\"marker\": {\"size\": [17.0], \"sizemode\": \"area\", \"sizeref\": 0.10625}, \"mode\": \"markers\", \"name\": \"Luxembourg\", \"text\": [\"Luxembourg\"], \"x\": [0.61583], \"y\": [0.37798], \"type\": \"scatter\"}, {\"marker\": {\"size\": [18.0], \"sizemode\": \"area\", \"sizeref\": 0.10625}, \"mode\": \"markers\", \"name\": \"Ireland\", \"text\": [\"Ireland\"], \"x\": [0.6177699999999999], \"y\": [0.28703], \"type\": \"scatter\"}, {\"marker\": {\"size\": [19.0], \"sizemode\": \"area\", \"sizeref\": 0.10625}, \"mode\": \"markers\", \"name\": \"Belgium\", \"text\": [\"Belgium\"], \"x\": [0.5845], \"y\": [0.2254], \"type\": \"scatter\"}, {\"marker\": {\"size\": [21.0], \"sizemode\": \"area\", \"sizeref\": 0.10625}, \"mode\": \"markers\", \"name\": \"United Kingdom\", \"text\": [\"United Kingdom\"], \"x\": [0.59625], \"y\": [0.32067], \"type\": \"scatter\"}, {\"marker\": {\"size\": [26.0], \"sizemode\": \"area\", \"sizeref\": 0.10625}, \"mode\": \"markers\", \"name\": \"Germany\", \"text\": [\"Germany\"], \"x\": [0.6147699999999999], \"y\": [0.21843], \"type\": \"scatter\"}, {\"marker\": {\"size\": [29.0], \"sizemode\": \"area\", \"sizeref\": 0.10625}, \"mode\": \"markers\", \"name\": \"France\", \"text\": [\"France\"], \"x\": [0.55011], \"y\": [0.20646], \"type\": \"scatter\"}, {\"marker\": {\"size\": [36.0], \"sizemode\": \"area\", \"sizeref\": 0.10625}, \"mode\": \"markers\", \"name\": \"Spain\", \"text\": [\"Spain\"], \"x\": [0.45951], \"y\": [0.06398], \"type\": \"scatter\"}, {\"marker\": {\"size\": [37.0], \"sizemode\": \"area\", \"sizeref\": 0.10625}, \"mode\": \"markers\", \"name\": \"Malta\", \"text\": [\"Malta\"], \"x\": [0.60365], \"y\": [0.13585999999999998], \"type\": \"scatter\"}, {\"marker\": {\"size\": [50.0], \"sizemode\": \"area\", \"sizeref\": 0.10625}, \"mode\": \"markers\", \"name\": \"Italy\", \"text\": [\"Italy\"], \"x\": [0.26236], \"y\": [0.02901], \"type\": \"scatter\"}, {\"marker\": {\"size\": [66.0], \"sizemode\": \"area\", \"sizeref\": 0.10625}, \"mode\": \"markers\", \"name\": \"North Cyprus\", \"text\": [\"North Cyprus\"], \"x\": [0.49027], \"y\": [0.1428], \"type\": \"scatter\"}, {\"marker\": {\"size\": [67.0], \"sizemode\": \"area\", \"sizeref\": 0.10625}, \"mode\": \"markers\", \"name\": \"Cyprus\", \"text\": [\"Cyprus\"], \"x\": [0.40672], \"y\": [0.06146], \"type\": \"scatter\"}, {\"marker\": {\"size\": [88.0], \"sizemode\": \"area\", \"sizeref\": 0.10625}, \"mode\": \"markers\", \"name\": \"Portugal\", \"text\": [\"Portugal\"], \"x\": [0.51469], \"y\": [0.01078], \"type\": \"scatter\"}, {\"marker\": {\"size\": [102.0], \"sizemode\": \"area\", \"sizeref\": 0.10625}, \"mode\": \"markers\", \"name\": \"Greece\", \"text\": [\"Greece\"], \"x\": [0.07699], \"y\": [0.013969999999999998], \"type\": \"scatter\"}], \"name\": \"2015\"}, {\"data\": [{\"marker\": {\"size\": [2.0], \"sizemode\": \"area\", \"sizeref\": 0.10625}, \"mode\": \"markers\", \"name\": \"Switzerland\", \"text\": [\"Switzerland\"], \"x\": [0.58557], \"y\": [0.41203], \"type\": \"scatter\"}, {\"marker\": {\"size\": [3.0], \"sizemode\": \"area\", \"sizeref\": 0.10625}, \"mode\": \"markers\", \"name\": \"Iceland\", \"text\": [\"Iceland\"], \"x\": [0.56624], \"y\": [0.14975], \"type\": \"scatter\"}, {\"marker\": {\"size\": [1.0], \"sizemode\": \"area\", \"sizeref\": 0.10625}, \"mode\": \"markers\", \"name\": \"Denmark\", \"text\": [\"Denmark\"], \"x\": [0.5794100000000001], \"y\": [0.44453], \"type\": \"scatter\"}, {\"marker\": {\"size\": [4.0], \"sizemode\": \"area\", \"sizeref\": 0.10625}, \"mode\": \"markers\", \"name\": \"Norway\", \"text\": [\"Norway\"], \"x\": [0.59609], \"y\": [0.35776], \"type\": \"scatter\"}, {\"marker\": {\"size\": [5.0], \"sizemode\": \"area\", \"sizeref\": 0.10625}, \"mode\": \"markers\", \"name\": \"Finland\", \"text\": [\"Finland\"], \"x\": [0.57104], \"y\": [0.41004], \"type\": \"scatter\"}, {\"marker\": {\"size\": [7.0], \"sizemode\": \"area\", \"sizeref\": 0.10625}, \"mode\": \"markers\", \"name\": \"Netherlands\", \"text\": [\"Netherlands\"], \"x\": [0.55211], \"y\": [0.29927], \"type\": \"scatter\"}, {\"marker\": {\"size\": [10.0], \"sizemode\": \"area\", \"sizeref\": 0.10625}, \"mode\": \"markers\", \"name\": \"Sweden\", \"text\": [\"Sweden\"], \"x\": [0.58218], \"y\": [0.40867], \"type\": \"scatter\"}, {\"marker\": {\"size\": [12.0], \"sizemode\": \"area\", \"sizeref\": 0.10625}, \"mode\": \"markers\", \"name\": \"Austria\", \"text\": [\"Austria\"], \"x\": [0.54355], \"y\": [0.21348000000000006], \"type\": \"scatter\"}, {\"marker\": {\"size\": [20.0], \"sizemode\": \"area\", \"sizeref\": 0.10625}, \"mode\": \"markers\", \"name\": \"Luxembourg\", \"text\": [\"Luxembourg\"], \"x\": [0.5487], \"y\": [0.35329], \"type\": \"scatter\"}, {\"marker\": {\"size\": [19.0], \"sizemode\": \"area\", \"sizeref\": 0.10625}, \"mode\": \"markers\", \"name\": \"Ireland\", \"text\": [\"Ireland\"], \"x\": [0.54008], \"y\": [0.29754], \"type\": \"scatter\"}, {\"marker\": {\"size\": [18.0], \"sizemode\": \"area\", \"sizeref\": 0.10625}, \"mode\": \"markers\", \"name\": \"Belgium\", \"text\": [\"Belgium\"], \"x\": [0.51354], \"y\": [0.26248], \"type\": \"scatter\"}, {\"marker\": {\"size\": [23.0], \"sizemode\": \"area\", \"sizeref\": 0.10625}, \"mode\": \"markers\", \"name\": \"United Kingdom\", \"text\": [\"United Kingdom\"], \"x\": [0.50036], \"y\": [0.27399], \"type\": \"scatter\"}, {\"marker\": {\"size\": [16.0], \"sizemode\": \"area\", \"sizeref\": 0.10625}, \"mode\": \"markers\", \"name\": \"Germany\", \"text\": [\"Germany\"], \"x\": [0.53466], \"y\": [0.28551], \"type\": \"scatter\"}, {\"marker\": {\"size\": [32.0], \"sizemode\": \"area\", \"sizeref\": 0.10625}, \"mode\": \"markers\", \"name\": \"France\", \"text\": [\"France\"], \"x\": [0.46562], \"y\": [0.17808], \"type\": \"scatter\"}, {\"marker\": {\"size\": [37.0], \"sizemode\": \"area\", \"sizeref\": 0.10625}, \"mode\": \"markers\", \"name\": \"Spain\", \"text\": [\"Spain\"], \"x\": [0.37545], \"y\": [0.061370000000000015], \"type\": \"scatter\"}, {\"marker\": {\"size\": [30.0], \"sizemode\": \"area\", \"sizeref\": 0.10625}, \"mode\": \"markers\", \"name\": \"Malta\", \"text\": [\"Malta\"], \"x\": [0.54994], \"y\": [0.17554], \"type\": \"scatter\"}, {\"marker\": {\"size\": [50.0], \"sizemode\": \"area\", \"sizeref\": 0.10625}, \"mode\": \"markers\", \"name\": \"Italy\", \"text\": [\"Italy\"], \"x\": [0.18827], \"y\": [0.02556], \"type\": \"scatter\"}, {\"marker\": {\"size\": [62.0], \"sizemode\": \"area\", \"sizeref\": 0.10625}, \"mode\": \"markers\", \"name\": \"North Cyprus\", \"text\": [\"North Cyprus\"], \"x\": [0.43596], \"y\": [0.16577999999999998], \"type\": \"scatter\"}, {\"marker\": {\"size\": [69.0], \"sizemode\": \"area\", \"sizeref\": 0.10625}, \"mode\": \"markers\", \"name\": \"Cyprus\", \"text\": [\"Cyprus\"], \"x\": [0.29507], \"y\": [0.052279999999999986], \"type\": \"scatter\"}, {\"marker\": {\"size\": [94.0], \"sizemode\": \"area\", \"sizeref\": 0.10625}, \"mode\": \"markers\", \"name\": \"Portugal\", \"text\": [\"Portugal\"], \"x\": [0.44727], \"y\": [0.01521], \"type\": \"scatter\"}, {\"marker\": {\"size\": [99.0], \"sizemode\": \"area\", \"sizeref\": 0.10625}, \"mode\": \"markers\", \"name\": \"Greece\", \"text\": [\"Greece\"], \"x\": [0.058220000000000015], \"y\": [0.04127], \"type\": \"scatter\"}], \"name\": \"2016\"}, {\"data\": [{\"marker\": {\"size\": [4.0], \"sizemode\": \"area\", \"sizeref\": 0.10625}, \"mode\": \"markers\", \"name\": \"Switzerland\", \"text\": [\"Switzerland\"], \"x\": [0.620070576667786], \"y\": [0.3670072853565221], \"type\": \"scatter\"}, {\"marker\": {\"size\": [3.0], \"sizemode\": \"area\", \"sizeref\": 0.10625}, \"mode\": \"markers\", \"name\": \"Iceland\", \"text\": [\"Iceland\"], \"x\": [0.6271626353263849], \"y\": [0.15352655947208402], \"type\": \"scatter\"}, {\"marker\": {\"size\": [2.0], \"sizemode\": \"area\", \"sizeref\": 0.10625}, \"mode\": \"markers\", \"name\": \"Denmark\", \"text\": [\"Denmark\"], \"x\": [0.626006722450256], \"y\": [0.40077006816864], \"type\": \"scatter\"}, {\"marker\": {\"size\": [1.0], \"sizemode\": \"area\", \"sizeref\": 0.10625}, \"mode\": \"markers\", \"name\": \"Norway\", \"text\": [\"Norway\"], \"x\": [0.635422587394714], \"y\": [0.31596383452415505], \"type\": \"scatter\"}, {\"marker\": {\"size\": [5.0], \"sizemode\": \"area\", \"sizeref\": 0.10625}, \"mode\": \"markers\", \"name\": \"Finland\", \"text\": [\"Finland\"], \"x\": [0.6179508566856379], \"y\": [0.38261154294014], \"type\": \"scatter\"}, {\"marker\": {\"size\": [6.0], \"sizemode\": \"area\", \"sizeref\": 0.10625}, \"mode\": \"markers\", \"name\": \"Netherlands\", \"text\": [\"Netherlands\"], \"x\": [0.5853844881057739], \"y\": [0.282661825418472], \"type\": \"scatter\"}, {\"marker\": {\"size\": [9.0], \"sizemode\": \"area\", \"sizeref\": 0.10625}, \"mode\": \"markers\", \"name\": \"Sweden\", \"text\": [\"Sweden\"], \"x\": [0.612924098968506], \"y\": [0.384398728609085], \"type\": \"scatter\"}, {\"marker\": {\"size\": [13.0], \"sizemode\": \"area\", \"sizeref\": 0.10625}, \"mode\": \"markers\", \"name\": \"Austria\", \"text\": [\"Austria\"], \"x\": [0.567766189575195], \"y\": [0.22106036543846105], \"type\": \"scatter\"}, {\"marker\": {\"size\": [18.0], \"sizemode\": \"area\", \"sizeref\": 0.10625}, \"mode\": \"markers\", \"name\": \"Luxembourg\", \"text\": [\"Luxembourg\"], \"x\": [0.59662789106369], \"y\": [0.31883442401886], \"type\": \"scatter\"}, {\"marker\": {\"size\": [15.0], \"sizemode\": \"area\", \"sizeref\": 0.10625}, \"mode\": \"markers\", \"name\": \"Ireland\", \"text\": [\"Ireland\"], \"x\": [0.5731103420257571], \"y\": [0.2983881533145901], \"type\": \"scatter\"}, {\"marker\": {\"size\": [17.0], \"sizemode\": \"area\", \"sizeref\": 0.10625}, \"mode\": \"markers\", \"name\": \"Belgium\", \"text\": [\"Belgium\"], \"x\": [0.5397707223892211], \"y\": [0.251343131065369], \"type\": \"scatter\"}, {\"marker\": {\"size\": [19.0], \"sizemode\": \"area\", \"sizeref\": 0.10625}, \"mode\": \"markers\", \"name\": \"United Kingdom\", \"text\": [\"United Kingdom\"], \"x\": [0.508190035820007], \"y\": [0.265428066253662], \"type\": \"scatter\"}, {\"marker\": {\"size\": [16.0], \"sizemode\": \"area\", \"sizeref\": 0.10625}, \"mode\": \"markers\", \"name\": \"Germany\", \"text\": [\"Germany\"], \"x\": [0.562511384487152], \"y\": [0.276731938123703], \"type\": \"scatter\"}, {\"marker\": {\"size\": [31.0], \"sizemode\": \"area\", \"sizeref\": 0.10625}, \"mode\": \"markers\", \"name\": \"France\", \"text\": [\"France\"], \"x\": [0.470222115516663], \"y\": [0.172502428293228], \"type\": \"scatter\"}, {\"marker\": {\"size\": [34.0], \"sizemode\": \"area\", \"sizeref\": 0.10625}, \"mode\": \"markers\", \"name\": \"Spain\", \"text\": [\"Spain\"], \"x\": [0.408781230449677], \"y\": [0.0709140971302986], \"type\": \"scatter\"}, {\"marker\": {\"size\": [27.0], \"sizemode\": \"area\", \"sizeref\": 0.10625}, \"mode\": \"markers\", \"name\": \"Malta\", \"text\": [\"Malta\"], \"x\": [0.588767051696777], \"y\": [0.153066068887711], \"type\": \"scatter\"}, {\"marker\": {\"size\": [48.0], \"sizemode\": \"area\", \"sizeref\": 0.10625}, \"mode\": \"markers\", \"name\": \"Italy\", \"text\": [\"Italy\"], \"x\": [0.256450712680817], \"y\": [0.0280280914157629], \"type\": \"scatter\"}, {\"marker\": {\"size\": [61.0], \"sizemode\": \"area\", \"sizeref\": 0.10625}, \"mode\": \"markers\", \"name\": \"North Cyprus\", \"text\": [\"North Cyprus\"], \"x\": [0.471203625202179], \"y\": [0.155353352427483], \"type\": \"scatter\"}, {\"marker\": {\"size\": [65.0], \"sizemode\": \"area\", \"sizeref\": 0.10625}, \"mode\": \"markers\", \"name\": \"Cyprus\", \"text\": [\"Cyprus\"], \"x\": [0.35511153936386103], \"y\": [0.0412379764020443], \"type\": \"scatter\"}, {\"marker\": {\"size\": [89.0], \"sizemode\": \"area\", \"sizeref\": 0.10625}, \"mode\": \"markers\", \"name\": \"Portugal\", \"text\": [\"Portugal\"], \"x\": [0.498465299606323], \"y\": [0.0158694516867399], \"type\": \"scatter\"}, {\"marker\": {\"size\": [87.0], \"sizemode\": \"area\", \"sizeref\": 0.10625}, \"mode\": \"markers\", \"name\": \"Greece\", \"text\": [\"Greece\"], \"x\": [0.0957312509417534], \"y\": [0.04328977689147], \"type\": \"scatter\"}], \"name\": \"2017\"}]);}).then(function(){Plotly.animate('202c8af9-0aaa-433f-a684-ce8b8b19f335');})\n",
       "    }\n",
       "        });</script><script type=\"text/javascript\">window.addEventListener(\"resize\", function(){if (document.getElementById(\"202c8af9-0aaa-433f-a684-ce8b8b19f335\")) {window._Plotly.Plots.resize(document.getElementById(\"202c8af9-0aaa-433f-a684-ce8b8b19f335\"));};})</script>"
      ]
     },
     "metadata": {},
     "output_type": "display_data"
    }
   ],
   "source": [
    "from bubbly.bubbly import bubbleplot \n",
    "\n",
    "\n",
    "figure = bubbleplot(dataset=data_c[data_c['Region']=='Western Europe'], x_column='Freedom', y_column='Trust (Government Corruption)', \n",
    "    bubble_column='Country', time_column='Year', size_column='Happiness Rank', color_column='Country', \n",
    "    x_title=\"Freedom\", y_title=\"Trust\", title='Bubble Plot',\n",
    "    x_logscale=False, y_logscale=True, scale_bubble=0.3, height=750)\n",
    "\n",
    "iplot(figure)"
   ]
  },
  {
   "cell_type": "markdown",
   "metadata": {},
   "source": [
    "The size of the bubble indicates the happiness rank - lower the rank, the higher the happiness score. I choose rank over score to separate the bubbles more. But keep in mind that smaller the bubble, the higher the score. \n",
    "\n",
    "Let's now look at correlations that were surprisingly weak (e.g health and economy).  "
   ]
  },
  {
   "cell_type": "code",
   "execution_count": 22,
   "metadata": {
    "ExecuteTime": {
     "end_time": "2019-07-27T11:50:43.590482Z",
     "start_time": "2019-07-27T11:50:40.039148Z"
    },
    "scrolled": false
   },
   "outputs": [
    {
     "data": {
      "application/vnd.plotly.v1+json": {
       "config": {
        "linkText": "Export to plot.ly",
        "plotlyServerURL": "https://plot.ly",
        "showLink": false
       },
       "data": [
        {
         "marker": {
          "size": [
           1
          ],
          "sizemode": "area",
          "sizeref": 0.10625
         },
         "mode": "markers",
         "name": "Switzerland",
         "text": [
          "Switzerland"
         ],
         "type": "scatter",
         "uid": "226d9f9e-f48f-476e-9480-0a847687ff2c",
         "x": [
          1.39651
         ],
         "y": [
          0.94143
         ]
        },
        {
         "marker": {
          "size": [
           2
          ],
          "sizemode": "area",
          "sizeref": 0.10625
         },
         "mode": "markers",
         "name": "Iceland",
         "text": [
          "Iceland"
         ],
         "type": "scatter",
         "uid": "aa6745ab-5d88-4b38-9d9d-9cd7a52d8d31",
         "x": [
          1.30232
         ],
         "y": [
          0.94784
         ]
        },
        {
         "marker": {
          "size": [
           3
          ],
          "sizemode": "area",
          "sizeref": 0.10625
         },
         "mode": "markers",
         "name": "Denmark",
         "text": [
          "Denmark"
         ],
         "type": "scatter",
         "uid": "fc81942c-7e00-44c4-95e8-74cb0aeac148",
         "x": [
          1.32548
         ],
         "y": [
          0.87464
         ]
        },
        {
         "marker": {
          "size": [
           4
          ],
          "sizemode": "area",
          "sizeref": 0.10625
         },
         "mode": "markers",
         "name": "Norway",
         "text": [
          "Norway"
         ],
         "type": "scatter",
         "uid": "38afa279-87c3-4c6f-8f66-1e1fa52af87d",
         "x": [
          1.459
         ],
         "y": [
          0.88521
         ]
        },
        {
         "marker": {
          "size": [
           6
          ],
          "sizemode": "area",
          "sizeref": 0.10625
         },
         "mode": "markers",
         "name": "Finland",
         "text": [
          "Finland"
         ],
         "type": "scatter",
         "uid": "d3ac6d29-0541-45a7-add5-d5fc23b69f28",
         "x": [
          1.29025
         ],
         "y": [
          0.8891100000000001
         ]
        },
        {
         "marker": {
          "size": [
           7
          ],
          "sizemode": "area",
          "sizeref": 0.10625
         },
         "mode": "markers",
         "name": "Netherlands",
         "text": [
          "Netherlands"
         ],
         "type": "scatter",
         "uid": "4ad459e4-ff33-45a0-83b5-c3d61ebb8331",
         "x": [
          1.32944
         ],
         "y": [
          0.89284
         ]
        },
        {
         "marker": {
          "size": [
           8
          ],
          "sizemode": "area",
          "sizeref": 0.10625
         },
         "mode": "markers",
         "name": "Sweden",
         "text": [
          "Sweden"
         ],
         "type": "scatter",
         "uid": "b8ebcced-e39a-4b6b-bc3a-38e6fd4405e7",
         "x": [
          1.33171
         ],
         "y": [
          0.91087
         ]
        },
        {
         "marker": {
          "size": [
           13
          ],
          "sizemode": "area",
          "sizeref": 0.10625
         },
         "mode": "markers",
         "name": "Austria",
         "text": [
          "Austria"
         ],
         "type": "scatter",
         "uid": "1461ee7f-da07-4f3b-8021-a7f4b7e22a89",
         "x": [
          1.33723
         ],
         "y": [
          0.8904200000000001
         ]
        },
        {
         "marker": {
          "size": [
           17
          ],
          "sizemode": "area",
          "sizeref": 0.10625
         },
         "mode": "markers",
         "name": "Luxembourg",
         "text": [
          "Luxembourg"
         ],
         "type": "scatter",
         "uid": "58df5eb5-6d39-439f-a2fe-22295444904c",
         "x": [
          1.56391
         ],
         "y": [
          0.91894
         ]
        },
        {
         "marker": {
          "size": [
           18
          ],
          "sizemode": "area",
          "sizeref": 0.10625
         },
         "mode": "markers",
         "name": "Ireland",
         "text": [
          "Ireland"
         ],
         "type": "scatter",
         "uid": "0ef78c3d-a113-4840-ac99-996d847c7778",
         "x": [
          1.33596
         ],
         "y": [
          0.89533
         ]
        },
        {
         "marker": {
          "size": [
           19
          ],
          "sizemode": "area",
          "sizeref": 0.10625
         },
         "mode": "markers",
         "name": "Belgium",
         "text": [
          "Belgium"
         ],
         "type": "scatter",
         "uid": "e1c04569-6cea-4610-a4b3-dcdc4fc5212b",
         "x": [
          1.30782
         ],
         "y": [
          0.8966700000000001
         ]
        },
        {
         "marker": {
          "size": [
           21
          ],
          "sizemode": "area",
          "sizeref": 0.10625
         },
         "mode": "markers",
         "name": "United Kingdom",
         "text": [
          "United Kingdom"
         ],
         "type": "scatter",
         "uid": "7011c882-73d1-48d3-8fa4-81ea1dc1a9ca",
         "x": [
          1.26637
         ],
         "y": [
          0.90943
         ]
        },
        {
         "marker": {
          "size": [
           26
          ],
          "sizemode": "area",
          "sizeref": 0.10625
         },
         "mode": "markers",
         "name": "Germany",
         "text": [
          "Germany"
         ],
         "type": "scatter",
         "uid": "ed2008ec-695a-4085-8f15-a7cbae4060b5",
         "x": [
          1.32792
         ],
         "y": [
          0.89186
         ]
        },
        {
         "marker": {
          "size": [
           29
          ],
          "sizemode": "area",
          "sizeref": 0.10625
         },
         "mode": "markers",
         "name": "France",
         "text": [
          "France"
         ],
         "type": "scatter",
         "uid": "848cae32-8186-4981-9184-23bb6f318c2f",
         "x": [
          1.27778
         ],
         "y": [
          0.94579
         ]
        },
        {
         "marker": {
          "size": [
           36
          ],
          "sizemode": "area",
          "sizeref": 0.10625
         },
         "mode": "markers",
         "name": "Spain",
         "text": [
          "Spain"
         ],
         "type": "scatter",
         "uid": "84d7729b-d1e2-47b6-baab-bf0ce7538fe5",
         "x": [
          1.23011
         ],
         "y": [
          0.95562
         ]
        },
        {
         "marker": {
          "size": [
           37
          ],
          "sizemode": "area",
          "sizeref": 0.10625
         },
         "mode": "markers",
         "name": "Malta",
         "text": [
          "Malta"
         ],
         "type": "scatter",
         "uid": "7c5bc820-412d-47c9-9b50-de82302dac75",
         "x": [
          1.2074
         ],
         "y": [
          0.88721
         ]
        },
        {
         "marker": {
          "size": [
           50
          ],
          "sizemode": "area",
          "sizeref": 0.10625
         },
         "mode": "markers",
         "name": "Italy",
         "text": [
          "Italy"
         ],
         "type": "scatter",
         "uid": "9f40044b-ce81-4e77-a888-6ed7a7c5149e",
         "x": [
          1.25114
         ],
         "y": [
          0.95446
         ]
        },
        {
         "marker": {
          "size": [
           66
          ],
          "sizemode": "area",
          "sizeref": 0.10625
         },
         "mode": "markers",
         "name": "North Cyprus",
         "text": [
          "North Cyprus"
         ],
         "type": "scatter",
         "uid": "2d8d51e8-fb03-4227-a9ef-8f796ab1fe5a",
         "x": [
          1.20806
         ],
         "y": [
          0.92356
         ]
        },
        {
         "marker": {
          "size": [
           67
          ],
          "sizemode": "area",
          "sizeref": 0.10625
         },
         "mode": "markers",
         "name": "Cyprus",
         "text": [
          "Cyprus"
         ],
         "type": "scatter",
         "uid": "b8407efe-4245-4b8d-85ec-3c29640a779d",
         "x": [
          1.20813
         ],
         "y": [
          0.92356
         ]
        },
        {
         "marker": {
          "size": [
           88
          ],
          "sizemode": "area",
          "sizeref": 0.10625
         },
         "mode": "markers",
         "name": "Portugal",
         "text": [
          "Portugal"
         ],
         "type": "scatter",
         "uid": "3f0bafcf-1881-40f0-9f19-fb461e0f1a48",
         "x": [
          1.15991
         ],
         "y": [
          0.8751899999999999
         ]
        },
        {
         "marker": {
          "size": [
           102
          ],
          "sizemode": "area",
          "sizeref": 0.10625
         },
         "mode": "markers",
         "name": "Greece",
         "text": [
          "Greece"
         ],
         "type": "scatter",
         "uid": "1edeeee3-797b-458b-aa5c-bb3bd87ab294",
         "x": [
          1.15406
         ],
         "y": [
          0.88213
         ]
        }
       ],
       "frames": [
        {
         "data": [
          {
           "marker": {
            "size": [
             1
            ],
            "sizemode": "area",
            "sizeref": 0.10625
           },
           "mode": "markers",
           "name": "Switzerland",
           "text": [
            "Switzerland"
           ],
           "type": "scatter",
           "x": [
            1.39651
           ],
           "y": [
            0.94143
           ]
          },
          {
           "marker": {
            "size": [
             2
            ],
            "sizemode": "area",
            "sizeref": 0.10625
           },
           "mode": "markers",
           "name": "Iceland",
           "text": [
            "Iceland"
           ],
           "type": "scatter",
           "x": [
            1.30232
           ],
           "y": [
            0.94784
           ]
          },
          {
           "marker": {
            "size": [
             3
            ],
            "sizemode": "area",
            "sizeref": 0.10625
           },
           "mode": "markers",
           "name": "Denmark",
           "text": [
            "Denmark"
           ],
           "type": "scatter",
           "x": [
            1.32548
           ],
           "y": [
            0.87464
           ]
          },
          {
           "marker": {
            "size": [
             4
            ],
            "sizemode": "area",
            "sizeref": 0.10625
           },
           "mode": "markers",
           "name": "Norway",
           "text": [
            "Norway"
           ],
           "type": "scatter",
           "x": [
            1.459
           ],
           "y": [
            0.88521
           ]
          },
          {
           "marker": {
            "size": [
             6
            ],
            "sizemode": "area",
            "sizeref": 0.10625
           },
           "mode": "markers",
           "name": "Finland",
           "text": [
            "Finland"
           ],
           "type": "scatter",
           "x": [
            1.29025
           ],
           "y": [
            0.8891100000000001
           ]
          },
          {
           "marker": {
            "size": [
             7
            ],
            "sizemode": "area",
            "sizeref": 0.10625
           },
           "mode": "markers",
           "name": "Netherlands",
           "text": [
            "Netherlands"
           ],
           "type": "scatter",
           "x": [
            1.32944
           ],
           "y": [
            0.89284
           ]
          },
          {
           "marker": {
            "size": [
             8
            ],
            "sizemode": "area",
            "sizeref": 0.10625
           },
           "mode": "markers",
           "name": "Sweden",
           "text": [
            "Sweden"
           ],
           "type": "scatter",
           "x": [
            1.33171
           ],
           "y": [
            0.91087
           ]
          },
          {
           "marker": {
            "size": [
             13
            ],
            "sizemode": "area",
            "sizeref": 0.10625
           },
           "mode": "markers",
           "name": "Austria",
           "text": [
            "Austria"
           ],
           "type": "scatter",
           "x": [
            1.33723
           ],
           "y": [
            0.8904200000000001
           ]
          },
          {
           "marker": {
            "size": [
             17
            ],
            "sizemode": "area",
            "sizeref": 0.10625
           },
           "mode": "markers",
           "name": "Luxembourg",
           "text": [
            "Luxembourg"
           ],
           "type": "scatter",
           "x": [
            1.56391
           ],
           "y": [
            0.91894
           ]
          },
          {
           "marker": {
            "size": [
             18
            ],
            "sizemode": "area",
            "sizeref": 0.10625
           },
           "mode": "markers",
           "name": "Ireland",
           "text": [
            "Ireland"
           ],
           "type": "scatter",
           "x": [
            1.33596
           ],
           "y": [
            0.89533
           ]
          },
          {
           "marker": {
            "size": [
             19
            ],
            "sizemode": "area",
            "sizeref": 0.10625
           },
           "mode": "markers",
           "name": "Belgium",
           "text": [
            "Belgium"
           ],
           "type": "scatter",
           "x": [
            1.30782
           ],
           "y": [
            0.8966700000000001
           ]
          },
          {
           "marker": {
            "size": [
             21
            ],
            "sizemode": "area",
            "sizeref": 0.10625
           },
           "mode": "markers",
           "name": "United Kingdom",
           "text": [
            "United Kingdom"
           ],
           "type": "scatter",
           "x": [
            1.26637
           ],
           "y": [
            0.90943
           ]
          },
          {
           "marker": {
            "size": [
             26
            ],
            "sizemode": "area",
            "sizeref": 0.10625
           },
           "mode": "markers",
           "name": "Germany",
           "text": [
            "Germany"
           ],
           "type": "scatter",
           "x": [
            1.32792
           ],
           "y": [
            0.89186
           ]
          },
          {
           "marker": {
            "size": [
             29
            ],
            "sizemode": "area",
            "sizeref": 0.10625
           },
           "mode": "markers",
           "name": "France",
           "text": [
            "France"
           ],
           "type": "scatter",
           "x": [
            1.27778
           ],
           "y": [
            0.94579
           ]
          },
          {
           "marker": {
            "size": [
             36
            ],
            "sizemode": "area",
            "sizeref": 0.10625
           },
           "mode": "markers",
           "name": "Spain",
           "text": [
            "Spain"
           ],
           "type": "scatter",
           "x": [
            1.23011
           ],
           "y": [
            0.95562
           ]
          },
          {
           "marker": {
            "size": [
             37
            ],
            "sizemode": "area",
            "sizeref": 0.10625
           },
           "mode": "markers",
           "name": "Malta",
           "text": [
            "Malta"
           ],
           "type": "scatter",
           "x": [
            1.2074
           ],
           "y": [
            0.88721
           ]
          },
          {
           "marker": {
            "size": [
             50
            ],
            "sizemode": "area",
            "sizeref": 0.10625
           },
           "mode": "markers",
           "name": "Italy",
           "text": [
            "Italy"
           ],
           "type": "scatter",
           "x": [
            1.25114
           ],
           "y": [
            0.95446
           ]
          },
          {
           "marker": {
            "size": [
             66
            ],
            "sizemode": "area",
            "sizeref": 0.10625
           },
           "mode": "markers",
           "name": "North Cyprus",
           "text": [
            "North Cyprus"
           ],
           "type": "scatter",
           "x": [
            1.20806
           ],
           "y": [
            0.92356
           ]
          },
          {
           "marker": {
            "size": [
             67
            ],
            "sizemode": "area",
            "sizeref": 0.10625
           },
           "mode": "markers",
           "name": "Cyprus",
           "text": [
            "Cyprus"
           ],
           "type": "scatter",
           "x": [
            1.20813
           ],
           "y": [
            0.92356
           ]
          },
          {
           "marker": {
            "size": [
             88
            ],
            "sizemode": "area",
            "sizeref": 0.10625
           },
           "mode": "markers",
           "name": "Portugal",
           "text": [
            "Portugal"
           ],
           "type": "scatter",
           "x": [
            1.15991
           ],
           "y": [
            0.8751899999999999
           ]
          },
          {
           "marker": {
            "size": [
             102
            ],
            "sizemode": "area",
            "sizeref": 0.10625
           },
           "mode": "markers",
           "name": "Greece",
           "text": [
            "Greece"
           ],
           "type": "scatter",
           "x": [
            1.15406
           ],
           "y": [
            0.88213
           ]
          }
         ],
         "name": "2015"
        },
        {
         "data": [
          {
           "marker": {
            "size": [
             2
            ],
            "sizemode": "area",
            "sizeref": 0.10625
           },
           "mode": "markers",
           "name": "Switzerland",
           "text": [
            "Switzerland"
           ],
           "type": "scatter",
           "x": [
            1.52733
           ],
           "y": [
            0.86303
           ]
          },
          {
           "marker": {
            "size": [
             3
            ],
            "sizemode": "area",
            "sizeref": 0.10625
           },
           "mode": "markers",
           "name": "Iceland",
           "text": [
            "Iceland"
           ],
           "type": "scatter",
           "x": [
            1.42666
           ],
           "y": [
            0.8673299999999999
           ]
          },
          {
           "marker": {
            "size": [
             1
            ],
            "sizemode": "area",
            "sizeref": 0.10625
           },
           "mode": "markers",
           "name": "Denmark",
           "text": [
            "Denmark"
           ],
           "type": "scatter",
           "x": [
            1.4417799999999998
           ],
           "y": [
            0.79504
           ]
          },
          {
           "marker": {
            "size": [
             4
            ],
            "sizemode": "area",
            "sizeref": 0.10625
           },
           "mode": "markers",
           "name": "Norway",
           "text": [
            "Norway"
           ],
           "type": "scatter",
           "x": [
            1.57744
           ],
           "y": [
            0.79579
           ]
          },
          {
           "marker": {
            "size": [
             5
            ],
            "sizemode": "area",
            "sizeref": 0.10625
           },
           "mode": "markers",
           "name": "Finland",
           "text": [
            "Finland"
           ],
           "type": "scatter",
           "x": [
            1.40598
           ],
           "y": [
            0.81091
           ]
          },
          {
           "marker": {
            "size": [
             7
            ],
            "sizemode": "area",
            "sizeref": 0.10625
           },
           "mode": "markers",
           "name": "Netherlands",
           "text": [
            "Netherlands"
           ],
           "type": "scatter",
           "x": [
            1.46468
           ],
           "y": [
            0.8123100000000001
           ]
          },
          {
           "marker": {
            "size": [
             10
            ],
            "sizemode": "area",
            "sizeref": 0.10625
           },
           "mode": "markers",
           "name": "Sweden",
           "text": [
            "Sweden"
           ],
           "type": "scatter",
           "x": [
            1.45181
           ],
           "y": [
            0.83121
           ]
          },
          {
           "marker": {
            "size": [
             12
            ],
            "sizemode": "area",
            "sizeref": 0.10625
           },
           "mode": "markers",
           "name": "Austria",
           "text": [
            "Austria"
           ],
           "type": "scatter",
           "x": [
            1.45038
           ],
           "y": [
            0.80565
           ]
          },
          {
           "marker": {
            "size": [
             20
            ],
            "sizemode": "area",
            "sizeref": 0.10625
           },
           "mode": "markers",
           "name": "Luxembourg",
           "text": [
            "Luxembourg"
           ],
           "type": "scatter",
           "x": [
            1.69752
           ],
           "y": [
            0.8454200000000001
           ]
          },
          {
           "marker": {
            "size": [
             19
            ],
            "sizemode": "area",
            "sizeref": 0.10625
           },
           "mode": "markers",
           "name": "Ireland",
           "text": [
            "Ireland"
           ],
           "type": "scatter",
           "x": [
            1.48341
           ],
           "y": [
            0.81455
           ]
          },
          {
           "marker": {
            "size": [
             18
            ],
            "sizemode": "area",
            "sizeref": 0.10625
           },
           "mode": "markers",
           "name": "Belgium",
           "text": [
            "Belgium"
           ],
           "type": "scatter",
           "x": [
            1.42539
           ],
           "y": [
            0.8195899999999999
           ]
          },
          {
           "marker": {
            "size": [
             23
            ],
            "sizemode": "area",
            "sizeref": 0.10625
           },
           "mode": "markers",
           "name": "United Kingdom",
           "text": [
            "United Kingdom"
           ],
           "type": "scatter",
           "x": [
            1.40283
           ],
           "y": [
            0.80991
           ]
          },
          {
           "marker": {
            "size": [
             16
            ],
            "sizemode": "area",
            "sizeref": 0.10625
           },
           "mode": "markers",
           "name": "Germany",
           "text": [
            "Germany"
           ],
           "type": "scatter",
           "x": [
            1.44787
           ],
           "y": [
            0.81487
           ]
          },
          {
           "marker": {
            "size": [
             32
            ],
            "sizemode": "area",
            "sizeref": 0.10625
           },
           "mode": "markers",
           "name": "France",
           "text": [
            "France"
           ],
           "type": "scatter",
           "x": [
            1.39488
           ],
           "y": [
            0.83795
           ]
          },
          {
           "marker": {
            "size": [
             37
            ],
            "sizemode": "area",
            "sizeref": 0.10625
           },
           "mode": "markers",
           "name": "Spain",
           "text": [
            "Spain"
           ],
           "type": "scatter",
           "x": [
            1.34253
           ],
           "y": [
            0.8789600000000001
           ]
          },
          {
           "marker": {
            "size": [
             30
            ],
            "sizemode": "area",
            "sizeref": 0.10625
           },
           "mode": "markers",
           "name": "Malta",
           "text": [
            "Malta"
           ],
           "type": "scatter",
           "x": [
            1.30782
           ],
           "y": [
            0.80315
           ]
          },
          {
           "marker": {
            "size": [
             50
            ],
            "sizemode": "area",
            "sizeref": 0.10625
           },
           "mode": "markers",
           "name": "Italy",
           "text": [
            "Italy"
           ],
           "type": "scatter",
           "x": [
            1.35495
           ],
           "y": [
            0.8510200000000001
           ]
          },
          {
           "marker": {
            "size": [
             62
            ],
            "sizemode": "area",
            "sizeref": 0.10625
           },
           "mode": "markers",
           "name": "North Cyprus",
           "text": [
            "North Cyprus"
           ],
           "type": "scatter",
           "x": [
            1.31141
           ],
           "y": [
            0.8414200000000001
           ]
          },
          {
           "marker": {
            "size": [
             69
            ],
            "sizemode": "area",
            "sizeref": 0.10625
           },
           "mode": "markers",
           "name": "Cyprus",
           "text": [
            "Cyprus"
           ],
           "type": "scatter",
           "x": [
            1.31857
           ],
           "y": [
            0.8488
           ]
          },
          {
           "marker": {
            "size": [
             94
            ],
            "sizemode": "area",
            "sizeref": 0.10625
           },
           "mode": "markers",
           "name": "Portugal",
           "text": [
            "Portugal"
           ],
           "type": "scatter",
           "x": [
            1.27607
           ],
           "y": [
            0.7936300000000001
           ]
          },
          {
           "marker": {
            "size": [
             99
            ],
            "sizemode": "area",
            "sizeref": 0.10625
           },
           "mode": "markers",
           "name": "Greece",
           "text": [
            "Greece"
           ],
           "type": "scatter",
           "x": [
            1.24886
           ],
           "y": [
            0.80029
           ]
          }
         ],
         "name": "2016"
        },
        {
         "data": [
          {
           "marker": {
            "size": [
             4
            ],
            "sizemode": "area",
            "sizeref": 0.10625
           },
           "mode": "markers",
           "name": "Switzerland",
           "text": [
            "Switzerland"
           ],
           "type": "scatter",
           "x": [
            1.5649795532226598
           ],
           "y": [
            0.858131289482117
           ]
          },
          {
           "marker": {
            "size": [
             3
            ],
            "sizemode": "area",
            "sizeref": 0.10625
           },
           "mode": "markers",
           "name": "Iceland",
           "text": [
            "Iceland"
           ],
           "type": "scatter",
           "x": [
            1.480633020401
           ],
           "y": [
            0.8335521221160892
           ]
          },
          {
           "marker": {
            "size": [
             2
            ],
            "sizemode": "area",
            "sizeref": 0.10625
           },
           "mode": "markers",
           "name": "Denmark",
           "text": [
            "Denmark"
           ],
           "type": "scatter",
           "x": [
            1.48238301277161
           ],
           "y": [
            0.7925655245780941
           ]
          },
          {
           "marker": {
            "size": [
             1
            ],
            "sizemode": "area",
            "sizeref": 0.10625
           },
           "mode": "markers",
           "name": "Norway",
           "text": [
            "Norway"
           ],
           "type": "scatter",
           "x": [
            1.61646318435669
           ],
           "y": [
            0.796666502952576
           ]
          },
          {
           "marker": {
            "size": [
             5
            ],
            "sizemode": "area",
            "sizeref": 0.10625
           },
           "mode": "markers",
           "name": "Finland",
           "text": [
            "Finland"
           ],
           "type": "scatter",
           "x": [
            1.44357192516327
           ],
           "y": [
            0.80915766954422
           ]
          },
          {
           "marker": {
            "size": [
             6
            ],
            "sizemode": "area",
            "sizeref": 0.10625
           },
           "mode": "markers",
           "name": "Netherlands",
           "text": [
            "Netherlands"
           ],
           "type": "scatter",
           "x": [
            1.50394463539124
           ],
           "y": [
            0.8106961250305179
           ]
          },
          {
           "marker": {
            "size": [
             9
            ],
            "sizemode": "area",
            "sizeref": 0.10625
           },
           "mode": "markers",
           "name": "Sweden",
           "text": [
            "Sweden"
           ],
           "type": "scatter",
           "x": [
            1.49438726902008
           ],
           "y": [
            0.830875158309937
           ]
          },
          {
           "marker": {
            "size": [
             13
            ],
            "sizemode": "area",
            "sizeref": 0.10625
           },
           "mode": "markers",
           "name": "Austria",
           "text": [
            "Austria"
           ],
           "type": "scatter",
           "x": [
            1.48709726333618
           ],
           "y": [
            0.8153284192085269
           ]
          },
          {
           "marker": {
            "size": [
             18
            ],
            "sizemode": "area",
            "sizeref": 0.10625
           },
           "mode": "markers",
           "name": "Luxembourg",
           "text": [
            "Luxembourg"
           ],
           "type": "scatter",
           "x": [
            1.74194359779358
           ],
           "y": [
            0.845089495182037
           ]
          },
          {
           "marker": {
            "size": [
             15
            ],
            "sizemode": "area",
            "sizeref": 0.10625
           },
           "mode": "markers",
           "name": "Ireland",
           "text": [
            "Ireland"
           ],
           "type": "scatter",
           "x": [
            1.5357066392898602
           ],
           "y": [
            0.8097826242446899
           ]
          },
          {
           "marker": {
            "size": [
             17
            ],
            "sizemode": "area",
            "sizeref": 0.10625
           },
           "mode": "markers",
           "name": "Belgium",
           "text": [
            "Belgium"
           ],
           "type": "scatter",
           "x": [
            1.46378076076508
           ],
           "y": [
            0.8180918693542479
           ]
          },
          {
           "marker": {
            "size": [
             19
            ],
            "sizemode": "area",
            "sizeref": 0.10625
           },
           "mode": "markers",
           "name": "United Kingdom",
           "text": [
            "United Kingdom"
           ],
           "type": "scatter",
           "x": [
            1.44163393974304
           ],
           "y": [
            0.805335938930511
           ]
          },
          {
           "marker": {
            "size": [
             16
            ],
            "sizemode": "area",
            "sizeref": 0.10625
           },
           "mode": "markers",
           "name": "Germany",
           "text": [
            "Germany"
           ],
           "type": "scatter",
           "x": [
            1.48792338371277
           ],
           "y": [
            0.798950731754303
           ]
          },
          {
           "marker": {
            "size": [
             31
            ],
            "sizemode": "area",
            "sizeref": 0.10625
           },
           "mode": "markers",
           "name": "France",
           "text": [
            "France"
           ],
           "type": "scatter",
           "x": [
            1.43092346191406
           ],
           "y": [
            0.8444658517837521
           ]
          },
          {
           "marker": {
            "size": [
             34
            ],
            "sizemode": "area",
            "sizeref": 0.10625
           },
           "mode": "markers",
           "name": "Spain",
           "text": [
            "Spain"
           ],
           "type": "scatter",
           "x": [
            1.38439786434174
           ],
           "y": [
            0.888960599899292
           ]
          },
          {
           "marker": {
            "size": [
             27
            ],
            "sizemode": "area",
            "sizeref": 0.10625
           },
           "mode": "markers",
           "name": "Malta",
           "text": [
            "Malta"
           ],
           "type": "scatter",
           "x": [
            1.34327983856201
           ],
           "y": [
            0.821944236755371
           ]
          },
          {
           "marker": {
            "size": [
             48
            ],
            "sizemode": "area",
            "sizeref": 0.10625
           },
           "mode": "markers",
           "name": "Italy",
           "text": [
            "Italy"
           ],
           "type": "scatter",
           "x": [
            1.39506661891937
           ],
           "y": [
            0.8531443476676941
           ]
          },
          {
           "marker": {
            "size": [
             61
            ],
            "sizemode": "area",
            "sizeref": 0.10625
           },
           "mode": "markers",
           "name": "North Cyprus",
           "text": [
            "North Cyprus"
           ],
           "type": "scatter",
           "x": [
            1.3469113111496
           ],
           "y": [
            0.834647238254547
           ]
          },
          {
           "marker": {
            "size": [
             65
            ],
            "sizemode": "area",
            "sizeref": 0.10625
           },
           "mode": "markers",
           "name": "Cyprus",
           "text": [
            "Cyprus"
           ],
           "type": "scatter",
           "x": [
            1.35593807697296
           ],
           "y": [
            0.84471470117569
           ]
          },
          {
           "marker": {
            "size": [
             89
            ],
            "sizemode": "area",
            "sizeref": 0.10625
           },
           "mode": "markers",
           "name": "Portugal",
           "text": [
            "Portugal"
           ],
           "type": "scatter",
           "x": [
            1.3151752948761002
           ],
           "y": [
            0.795843541622162
           ]
          },
          {
           "marker": {
            "size": [
             87
            ],
            "sizemode": "area",
            "sizeref": 0.10625
           },
           "mode": "markers",
           "name": "Greece",
           "text": [
            "Greece"
           ],
           "type": "scatter",
           "x": [
            1.28948748111725
           ],
           "y": [
            0.8101989030838009
           ]
          }
         ],
         "name": "2017"
        }
       ],
       "layout": {
        "height": 650,
        "hovermode": "closest",
        "margin": {
         "b": 50,
         "pad": 5,
         "t": 50
        },
        "showlegend": true,
        "sliders": [
         {
          "active": 0,
          "currentvalue": {
           "font": {
            "size": 20
           },
           "prefix": "Year:",
           "visible": true,
           "xanchor": "right"
          },
          "len": 0.9,
          "pad": {
           "b": 10,
           "t": 50
          },
          "steps": [
           {
            "args": [
             [
              2015
             ],
             {
              "frame": {
               "duration": 300,
               "redraw": false
              },
              "mode": "immediate",
              "transition": {
               "duration": 300
              }
             }
            ],
            "label": "2015",
            "method": "animate"
           },
           {
            "args": [
             [
              2016
             ],
             {
              "frame": {
               "duration": 300,
               "redraw": false
              },
              "mode": "immediate",
              "transition": {
               "duration": 300
              }
             }
            ],
            "label": "2016",
            "method": "animate"
           },
           {
            "args": [
             [
              2017
             ],
             {
              "frame": {
               "duration": 300,
               "redraw": false
              },
              "mode": "immediate",
              "transition": {
               "duration": 300
              }
             }
            ],
            "label": "2017",
            "method": "animate"
           }
          ],
          "transition": {
           "duration": 300,
           "easing": "cubic-in-out"
          },
          "x": 0.1,
          "xanchor": "left",
          "y": 0,
          "yanchor": "top"
         }
        ],
        "title": {
         "text": "Bubble Plot"
        },
        "updatemenus": [
         {
          "buttons": [
           {
            "args": [
             null,
             {
              "frame": {
               "duration": 500,
               "redraw": false
              },
              "fromcurrent": true,
              "transition": {
               "duration": 300,
               "easing": "quadratic-in-out"
              }
             }
            ],
            "label": "Play",
            "method": "animate"
           },
           {
            "args": [
             [
              null
             ],
             {
              "frame": {
               "duration": 0,
               "redraw": false
              },
              "mode": "immediate",
              "transition": {
               "duration": 0
              }
             }
            ],
            "label": "Pause",
            "method": "animate"
           }
          ],
          "direction": "left",
          "pad": {
           "r": 10,
           "t": 87
          },
          "showactive": false,
          "type": "buttons",
          "x": 0.1,
          "xanchor": "right",
          "y": 0,
          "yanchor": "top"
         }
        ],
        "xaxis": {
         "autorange": false,
         "range": [
          0.06036153687902313,
          0.2506754524814509
         ],
         "title": {
          "text": "GDP per Capita"
         },
         "type": "log"
        },
        "yaxis": {
         "autorange": false,
         "range": [
          -0.097935878072555,
          -0.020503360337758424
         ],
         "title": {
          "text": "Life Expectancy"
         },
         "type": "log"
        }
       }
      },
      "text/html": [
       "<div id=\"dddd4f26-f174-44fd-a441-5f12fb8d8403\" style=\"height: 650px; width: 100%;\" class=\"plotly-graph-div\"></div><script type=\"text/javascript\">require([\"plotly\"], function(Plotly) { window.PLOTLYENV=window.PLOTLYENV || {};window.PLOTLYENV.BASE_URL=\"https://plot.ly\";\n",
       "    if (document.getElementById(\"dddd4f26-f174-44fd-a441-5f12fb8d8403\")) {\n",
       "        Plotly.plot(\n",
       "            'dddd4f26-f174-44fd-a441-5f12fb8d8403',\n",
       "            [{\"marker\": {\"size\": [1.0], \"sizemode\": \"area\", \"sizeref\": 0.10625}, \"mode\": \"markers\", \"name\": \"Switzerland\", \"text\": [\"Switzerland\"], \"x\": [1.39651], \"y\": [0.94143], \"type\": \"scatter\", \"uid\": \"03b188a9-e031-4899-89ae-ae5a2f7ed4bb\"}, {\"marker\": {\"size\": [2.0], \"sizemode\": \"area\", \"sizeref\": 0.10625}, \"mode\": \"markers\", \"name\": \"Iceland\", \"text\": [\"Iceland\"], \"x\": [1.30232], \"y\": [0.94784], \"type\": \"scatter\", \"uid\": \"88c8ea02-a4ac-467f-b9b9-3b994350972e\"}, {\"marker\": {\"size\": [3.0], \"sizemode\": \"area\", \"sizeref\": 0.10625}, \"mode\": \"markers\", \"name\": \"Denmark\", \"text\": [\"Denmark\"], \"x\": [1.32548], \"y\": [0.87464], \"type\": \"scatter\", \"uid\": \"0878c09e-e2a2-4a13-aac2-028597b13a6d\"}, {\"marker\": {\"size\": [4.0], \"sizemode\": \"area\", \"sizeref\": 0.10625}, \"mode\": \"markers\", \"name\": \"Norway\", \"text\": [\"Norway\"], \"x\": [1.459], \"y\": [0.88521], \"type\": \"scatter\", \"uid\": \"6f2a388d-b9de-4025-b762-6510a6ba5836\"}, {\"marker\": {\"size\": [6.0], \"sizemode\": \"area\", \"sizeref\": 0.10625}, \"mode\": \"markers\", \"name\": \"Finland\", \"text\": [\"Finland\"], \"x\": [1.29025], \"y\": [0.8891100000000001], \"type\": \"scatter\", \"uid\": \"d8e647b3-7de1-48b1-b4fd-cd00f0dbdead\"}, {\"marker\": {\"size\": [7.0], \"sizemode\": \"area\", \"sizeref\": 0.10625}, \"mode\": \"markers\", \"name\": \"Netherlands\", \"text\": [\"Netherlands\"], \"x\": [1.32944], \"y\": [0.89284], \"type\": \"scatter\", \"uid\": \"7a5ecfee-25b4-44de-b155-9ab4c6a6f388\"}, {\"marker\": {\"size\": [8.0], \"sizemode\": \"area\", \"sizeref\": 0.10625}, \"mode\": \"markers\", \"name\": \"Sweden\", \"text\": [\"Sweden\"], \"x\": [1.33171], \"y\": [0.91087], \"type\": \"scatter\", \"uid\": \"985d3f6b-f92f-4ed4-9421-85115e443d99\"}, {\"marker\": {\"size\": [13.0], \"sizemode\": \"area\", \"sizeref\": 0.10625}, \"mode\": \"markers\", \"name\": \"Austria\", \"text\": [\"Austria\"], \"x\": [1.33723], \"y\": [0.8904200000000001], \"type\": \"scatter\", \"uid\": \"69679e1a-b4df-43cb-b003-390105ce9b75\"}, {\"marker\": {\"size\": [17.0], \"sizemode\": \"area\", \"sizeref\": 0.10625}, \"mode\": \"markers\", \"name\": \"Luxembourg\", \"text\": [\"Luxembourg\"], \"x\": [1.56391], \"y\": [0.91894], \"type\": \"scatter\", \"uid\": \"0b49d848-b2ae-4f98-97f8-11b334f9cabb\"}, {\"marker\": {\"size\": [18.0], \"sizemode\": \"area\", \"sizeref\": 0.10625}, \"mode\": \"markers\", \"name\": \"Ireland\", \"text\": [\"Ireland\"], \"x\": [1.33596], \"y\": [0.89533], \"type\": \"scatter\", \"uid\": \"daef3abc-eb24-49bd-876f-cca8a9dc9a18\"}, {\"marker\": {\"size\": [19.0], \"sizemode\": \"area\", \"sizeref\": 0.10625}, \"mode\": \"markers\", \"name\": \"Belgium\", \"text\": [\"Belgium\"], \"x\": [1.30782], \"y\": [0.8966700000000001], \"type\": \"scatter\", \"uid\": \"f3b8cf78-ee65-4fa0-84c1-b85a6bd26f84\"}, {\"marker\": {\"size\": [21.0], \"sizemode\": \"area\", \"sizeref\": 0.10625}, \"mode\": \"markers\", \"name\": \"United Kingdom\", \"text\": [\"United Kingdom\"], \"x\": [1.26637], \"y\": [0.90943], \"type\": \"scatter\", \"uid\": \"8d2d61dd-f7a2-4172-80ff-bb1f9cc11579\"}, {\"marker\": {\"size\": [26.0], \"sizemode\": \"area\", \"sizeref\": 0.10625}, \"mode\": \"markers\", \"name\": \"Germany\", \"text\": [\"Germany\"], \"x\": [1.32792], \"y\": [0.89186], \"type\": \"scatter\", \"uid\": \"e72b5276-2eeb-4ca2-aee1-79d46f9d733b\"}, {\"marker\": {\"size\": [29.0], \"sizemode\": \"area\", \"sizeref\": 0.10625}, \"mode\": \"markers\", \"name\": \"France\", \"text\": [\"France\"], \"x\": [1.27778], \"y\": [0.94579], \"type\": \"scatter\", \"uid\": \"a4e21347-8eed-4bcf-9c5e-7ded070f0467\"}, {\"marker\": {\"size\": [36.0], \"sizemode\": \"area\", \"sizeref\": 0.10625}, \"mode\": \"markers\", \"name\": \"Spain\", \"text\": [\"Spain\"], \"x\": [1.23011], \"y\": [0.95562], \"type\": \"scatter\", \"uid\": \"79e2d51d-37a9-4adc-9684-eec81535d270\"}, {\"marker\": {\"size\": [37.0], \"sizemode\": \"area\", \"sizeref\": 0.10625}, \"mode\": \"markers\", \"name\": \"Malta\", \"text\": [\"Malta\"], \"x\": [1.2074], \"y\": [0.88721], \"type\": \"scatter\", \"uid\": \"1afd8340-0ca0-48ac-b652-3716d3eea807\"}, {\"marker\": {\"size\": [50.0], \"sizemode\": \"area\", \"sizeref\": 0.10625}, \"mode\": \"markers\", \"name\": \"Italy\", \"text\": [\"Italy\"], \"x\": [1.25114], \"y\": [0.95446], \"type\": \"scatter\", \"uid\": \"d60bc4a5-c3c6-4b77-99c9-eea881412886\"}, {\"marker\": {\"size\": [66.0], \"sizemode\": \"area\", \"sizeref\": 0.10625}, \"mode\": \"markers\", \"name\": \"North Cyprus\", \"text\": [\"North Cyprus\"], \"x\": [1.20806], \"y\": [0.92356], \"type\": \"scatter\", \"uid\": \"295f0d74-1830-4bbe-8385-36fefabac3f7\"}, {\"marker\": {\"size\": [67.0], \"sizemode\": \"area\", \"sizeref\": 0.10625}, \"mode\": \"markers\", \"name\": \"Cyprus\", \"text\": [\"Cyprus\"], \"x\": [1.20813], \"y\": [0.92356], \"type\": \"scatter\", \"uid\": \"c4818a6a-fb03-442f-957b-9a5ee98ccb21\"}, {\"marker\": {\"size\": [88.0], \"sizemode\": \"area\", \"sizeref\": 0.10625}, \"mode\": \"markers\", \"name\": \"Portugal\", \"text\": [\"Portugal\"], \"x\": [1.15991], \"y\": [0.8751899999999999], \"type\": \"scatter\", \"uid\": \"2aaa9373-1bd4-4d35-ad4d-635babbfd588\"}, {\"marker\": {\"size\": [102.0], \"sizemode\": \"area\", \"sizeref\": 0.10625}, \"mode\": \"markers\", \"name\": \"Greece\", \"text\": [\"Greece\"], \"x\": [1.15406], \"y\": [0.88213], \"type\": \"scatter\", \"uid\": \"26b11d6f-87e7-4195-9fe8-9248522a316f\"}],\n",
       "            {\"height\": 650, \"hovermode\": \"closest\", \"margin\": {\"b\": 50, \"pad\": 5, \"t\": 50}, \"showlegend\": true, \"sliders\": [{\"active\": 0, \"currentvalue\": {\"font\": {\"size\": 20}, \"prefix\": \"Year:\", \"visible\": true, \"xanchor\": \"right\"}, \"len\": 0.9, \"pad\": {\"b\": 10, \"t\": 50}, \"steps\": [{\"args\": [[2015], {\"frame\": {\"duration\": 300, \"redraw\": false}, \"mode\": \"immediate\", \"transition\": {\"duration\": 300}}], \"label\": \"2015\", \"method\": \"animate\"}, {\"args\": [[2016], {\"frame\": {\"duration\": 300, \"redraw\": false}, \"mode\": \"immediate\", \"transition\": {\"duration\": 300}}], \"label\": \"2016\", \"method\": \"animate\"}, {\"args\": [[2017], {\"frame\": {\"duration\": 300, \"redraw\": false}, \"mode\": \"immediate\", \"transition\": {\"duration\": 300}}], \"label\": \"2017\", \"method\": \"animate\"}], \"transition\": {\"duration\": 300, \"easing\": \"cubic-in-out\"}, \"x\": 0.1, \"xanchor\": \"left\", \"y\": 0, \"yanchor\": \"top\"}], \"title\": {\"text\": \"Bubble Plot\"}, \"updatemenus\": [{\"buttons\": [{\"args\": [null, {\"frame\": {\"duration\": 500, \"redraw\": false}, \"fromcurrent\": true, \"transition\": {\"duration\": 300, \"easing\": \"quadratic-in-out\"}}], \"label\": \"Play\", \"method\": \"animate\"}, {\"args\": [[null], {\"frame\": {\"duration\": 0, \"redraw\": false}, \"mode\": \"immediate\", \"transition\": {\"duration\": 0}}], \"label\": \"Pause\", \"method\": \"animate\"}], \"direction\": \"left\", \"pad\": {\"r\": 10, \"t\": 87}, \"showactive\": false, \"type\": \"buttons\", \"x\": 0.1, \"xanchor\": \"right\", \"y\": 0, \"yanchor\": \"top\"}], \"xaxis\": {\"autorange\": false, \"range\": [0.06036153687902313, 0.2506754524814509], \"title\": {\"text\": \"GDP per Capita\"}, \"type\": \"log\"}, \"yaxis\": {\"autorange\": false, \"range\": [-0.097935878072555, -0.020503360337758424], \"title\": {\"text\": \"Life Expectancy\"}, \"type\": \"log\"}},\n",
       "            {\"showLink\": false, \"linkText\": \"Export to plot.ly\", \"plotlyServerURL\": \"https://plot.ly\"}\n",
       "        ).then(function () {return Plotly.addFrames('dddd4f26-f174-44fd-a441-5f12fb8d8403',[{\"data\": [{\"marker\": {\"size\": [1.0], \"sizemode\": \"area\", \"sizeref\": 0.10625}, \"mode\": \"markers\", \"name\": \"Switzerland\", \"text\": [\"Switzerland\"], \"x\": [1.39651], \"y\": [0.94143], \"type\": \"scatter\"}, {\"marker\": {\"size\": [2.0], \"sizemode\": \"area\", \"sizeref\": 0.10625}, \"mode\": \"markers\", \"name\": \"Iceland\", \"text\": [\"Iceland\"], \"x\": [1.30232], \"y\": [0.94784], \"type\": \"scatter\"}, {\"marker\": {\"size\": [3.0], \"sizemode\": \"area\", \"sizeref\": 0.10625}, \"mode\": \"markers\", \"name\": \"Denmark\", \"text\": [\"Denmark\"], \"x\": [1.32548], \"y\": [0.87464], \"type\": \"scatter\"}, {\"marker\": {\"size\": [4.0], \"sizemode\": \"area\", \"sizeref\": 0.10625}, \"mode\": \"markers\", \"name\": \"Norway\", \"text\": [\"Norway\"], \"x\": [1.459], \"y\": [0.88521], \"type\": \"scatter\"}, {\"marker\": {\"size\": [6.0], \"sizemode\": \"area\", \"sizeref\": 0.10625}, \"mode\": \"markers\", \"name\": \"Finland\", \"text\": [\"Finland\"], \"x\": [1.29025], \"y\": [0.8891100000000001], \"type\": \"scatter\"}, {\"marker\": {\"size\": [7.0], \"sizemode\": \"area\", \"sizeref\": 0.10625}, \"mode\": \"markers\", \"name\": \"Netherlands\", \"text\": [\"Netherlands\"], \"x\": [1.32944], \"y\": [0.89284], \"type\": \"scatter\"}, {\"marker\": {\"size\": [8.0], \"sizemode\": \"area\", \"sizeref\": 0.10625}, \"mode\": \"markers\", \"name\": \"Sweden\", \"text\": [\"Sweden\"], \"x\": [1.33171], \"y\": [0.91087], \"type\": \"scatter\"}, {\"marker\": {\"size\": [13.0], \"sizemode\": \"area\", \"sizeref\": 0.10625}, \"mode\": \"markers\", \"name\": \"Austria\", \"text\": [\"Austria\"], \"x\": [1.33723], \"y\": [0.8904200000000001], \"type\": \"scatter\"}, {\"marker\": {\"size\": [17.0], \"sizemode\": \"area\", \"sizeref\": 0.10625}, \"mode\": \"markers\", \"name\": \"Luxembourg\", \"text\": [\"Luxembourg\"], \"x\": [1.56391], \"y\": [0.91894], \"type\": \"scatter\"}, {\"marker\": {\"size\": [18.0], \"sizemode\": \"area\", \"sizeref\": 0.10625}, \"mode\": \"markers\", \"name\": \"Ireland\", \"text\": [\"Ireland\"], \"x\": [1.33596], \"y\": [0.89533], \"type\": \"scatter\"}, {\"marker\": {\"size\": [19.0], \"sizemode\": \"area\", \"sizeref\": 0.10625}, \"mode\": \"markers\", \"name\": \"Belgium\", \"text\": [\"Belgium\"], \"x\": [1.30782], \"y\": [0.8966700000000001], \"type\": \"scatter\"}, {\"marker\": {\"size\": [21.0], \"sizemode\": \"area\", \"sizeref\": 0.10625}, \"mode\": \"markers\", \"name\": \"United Kingdom\", \"text\": [\"United Kingdom\"], \"x\": [1.26637], \"y\": [0.90943], \"type\": \"scatter\"}, {\"marker\": {\"size\": [26.0], \"sizemode\": \"area\", \"sizeref\": 0.10625}, \"mode\": \"markers\", \"name\": \"Germany\", \"text\": [\"Germany\"], \"x\": [1.32792], \"y\": [0.89186], \"type\": \"scatter\"}, {\"marker\": {\"size\": [29.0], \"sizemode\": \"area\", \"sizeref\": 0.10625}, \"mode\": \"markers\", \"name\": \"France\", \"text\": [\"France\"], \"x\": [1.27778], \"y\": [0.94579], \"type\": \"scatter\"}, {\"marker\": {\"size\": [36.0], \"sizemode\": \"area\", \"sizeref\": 0.10625}, \"mode\": \"markers\", \"name\": \"Spain\", \"text\": [\"Spain\"], \"x\": [1.23011], \"y\": [0.95562], \"type\": \"scatter\"}, {\"marker\": {\"size\": [37.0], \"sizemode\": \"area\", \"sizeref\": 0.10625}, \"mode\": \"markers\", \"name\": \"Malta\", \"text\": [\"Malta\"], \"x\": [1.2074], \"y\": [0.88721], \"type\": \"scatter\"}, {\"marker\": {\"size\": [50.0], \"sizemode\": \"area\", \"sizeref\": 0.10625}, \"mode\": \"markers\", \"name\": \"Italy\", \"text\": [\"Italy\"], \"x\": [1.25114], \"y\": [0.95446], \"type\": \"scatter\"}, {\"marker\": {\"size\": [66.0], \"sizemode\": \"area\", \"sizeref\": 0.10625}, \"mode\": \"markers\", \"name\": \"North Cyprus\", \"text\": [\"North Cyprus\"], \"x\": [1.20806], \"y\": [0.92356], \"type\": \"scatter\"}, {\"marker\": {\"size\": [67.0], \"sizemode\": \"area\", \"sizeref\": 0.10625}, \"mode\": \"markers\", \"name\": \"Cyprus\", \"text\": [\"Cyprus\"], \"x\": [1.20813], \"y\": [0.92356], \"type\": \"scatter\"}, {\"marker\": {\"size\": [88.0], \"sizemode\": \"area\", \"sizeref\": 0.10625}, \"mode\": \"markers\", \"name\": \"Portugal\", \"text\": [\"Portugal\"], \"x\": [1.15991], \"y\": [0.8751899999999999], \"type\": \"scatter\"}, {\"marker\": {\"size\": [102.0], \"sizemode\": \"area\", \"sizeref\": 0.10625}, \"mode\": \"markers\", \"name\": \"Greece\", \"text\": [\"Greece\"], \"x\": [1.15406], \"y\": [0.88213], \"type\": \"scatter\"}], \"name\": \"2015\"}, {\"data\": [{\"marker\": {\"size\": [2.0], \"sizemode\": \"area\", \"sizeref\": 0.10625}, \"mode\": \"markers\", \"name\": \"Switzerland\", \"text\": [\"Switzerland\"], \"x\": [1.52733], \"y\": [0.86303], \"type\": \"scatter\"}, {\"marker\": {\"size\": [3.0], \"sizemode\": \"area\", \"sizeref\": 0.10625}, \"mode\": \"markers\", \"name\": \"Iceland\", \"text\": [\"Iceland\"], \"x\": [1.42666], \"y\": [0.8673299999999999], \"type\": \"scatter\"}, {\"marker\": {\"size\": [1.0], \"sizemode\": \"area\", \"sizeref\": 0.10625}, \"mode\": \"markers\", \"name\": \"Denmark\", \"text\": [\"Denmark\"], \"x\": [1.4417799999999998], \"y\": [0.79504], \"type\": \"scatter\"}, {\"marker\": {\"size\": [4.0], \"sizemode\": \"area\", \"sizeref\": 0.10625}, \"mode\": \"markers\", \"name\": \"Norway\", \"text\": [\"Norway\"], \"x\": [1.57744], \"y\": [0.79579], \"type\": \"scatter\"}, {\"marker\": {\"size\": [5.0], \"sizemode\": \"area\", \"sizeref\": 0.10625}, \"mode\": \"markers\", \"name\": \"Finland\", \"text\": [\"Finland\"], \"x\": [1.40598], \"y\": [0.81091], \"type\": \"scatter\"}, {\"marker\": {\"size\": [7.0], \"sizemode\": \"area\", \"sizeref\": 0.10625}, \"mode\": \"markers\", \"name\": \"Netherlands\", \"text\": [\"Netherlands\"], \"x\": [1.46468], \"y\": [0.8123100000000001], \"type\": \"scatter\"}, {\"marker\": {\"size\": [10.0], \"sizemode\": \"area\", \"sizeref\": 0.10625}, \"mode\": \"markers\", \"name\": \"Sweden\", \"text\": [\"Sweden\"], \"x\": [1.45181], \"y\": [0.83121], \"type\": \"scatter\"}, {\"marker\": {\"size\": [12.0], \"sizemode\": \"area\", \"sizeref\": 0.10625}, \"mode\": \"markers\", \"name\": \"Austria\", \"text\": [\"Austria\"], \"x\": [1.45038], \"y\": [0.80565], \"type\": \"scatter\"}, {\"marker\": {\"size\": [20.0], \"sizemode\": \"area\", \"sizeref\": 0.10625}, \"mode\": \"markers\", \"name\": \"Luxembourg\", \"text\": [\"Luxembourg\"], \"x\": [1.69752], \"y\": [0.8454200000000001], \"type\": \"scatter\"}, {\"marker\": {\"size\": [19.0], \"sizemode\": \"area\", \"sizeref\": 0.10625}, \"mode\": \"markers\", \"name\": \"Ireland\", \"text\": [\"Ireland\"], \"x\": [1.48341], \"y\": [0.81455], \"type\": \"scatter\"}, {\"marker\": {\"size\": [18.0], \"sizemode\": \"area\", \"sizeref\": 0.10625}, \"mode\": \"markers\", \"name\": \"Belgium\", \"text\": [\"Belgium\"], \"x\": [1.42539], \"y\": [0.8195899999999999], \"type\": \"scatter\"}, {\"marker\": {\"size\": [23.0], \"sizemode\": \"area\", \"sizeref\": 0.10625}, \"mode\": \"markers\", \"name\": \"United Kingdom\", \"text\": [\"United Kingdom\"], \"x\": [1.40283], \"y\": [0.80991], \"type\": \"scatter\"}, {\"marker\": {\"size\": [16.0], \"sizemode\": \"area\", \"sizeref\": 0.10625}, \"mode\": \"markers\", \"name\": \"Germany\", \"text\": [\"Germany\"], \"x\": [1.44787], \"y\": [0.81487], \"type\": \"scatter\"}, {\"marker\": {\"size\": [32.0], \"sizemode\": \"area\", \"sizeref\": 0.10625}, \"mode\": \"markers\", \"name\": \"France\", \"text\": [\"France\"], \"x\": [1.39488], \"y\": [0.83795], \"type\": \"scatter\"}, {\"marker\": {\"size\": [37.0], \"sizemode\": \"area\", \"sizeref\": 0.10625}, \"mode\": \"markers\", \"name\": \"Spain\", \"text\": [\"Spain\"], \"x\": [1.34253], \"y\": [0.8789600000000001], \"type\": \"scatter\"}, {\"marker\": {\"size\": [30.0], \"sizemode\": \"area\", \"sizeref\": 0.10625}, \"mode\": \"markers\", \"name\": \"Malta\", \"text\": [\"Malta\"], \"x\": [1.30782], \"y\": [0.80315], \"type\": \"scatter\"}, {\"marker\": {\"size\": [50.0], \"sizemode\": \"area\", \"sizeref\": 0.10625}, \"mode\": \"markers\", \"name\": \"Italy\", \"text\": [\"Italy\"], \"x\": [1.35495], \"y\": [0.8510200000000001], \"type\": \"scatter\"}, {\"marker\": {\"size\": [62.0], \"sizemode\": \"area\", \"sizeref\": 0.10625}, \"mode\": \"markers\", \"name\": \"North Cyprus\", \"text\": [\"North Cyprus\"], \"x\": [1.31141], \"y\": [0.8414200000000001], \"type\": \"scatter\"}, {\"marker\": {\"size\": [69.0], \"sizemode\": \"area\", \"sizeref\": 0.10625}, \"mode\": \"markers\", \"name\": \"Cyprus\", \"text\": [\"Cyprus\"], \"x\": [1.31857], \"y\": [0.8488], \"type\": \"scatter\"}, {\"marker\": {\"size\": [94.0], \"sizemode\": \"area\", \"sizeref\": 0.10625}, \"mode\": \"markers\", \"name\": \"Portugal\", \"text\": [\"Portugal\"], \"x\": [1.27607], \"y\": [0.7936300000000001], \"type\": \"scatter\"}, {\"marker\": {\"size\": [99.0], \"sizemode\": \"area\", \"sizeref\": 0.10625}, \"mode\": \"markers\", \"name\": \"Greece\", \"text\": [\"Greece\"], \"x\": [1.24886], \"y\": [0.80029], \"type\": \"scatter\"}], \"name\": \"2016\"}, {\"data\": [{\"marker\": {\"size\": [4.0], \"sizemode\": \"area\", \"sizeref\": 0.10625}, \"mode\": \"markers\", \"name\": \"Switzerland\", \"text\": [\"Switzerland\"], \"x\": [1.5649795532226598], \"y\": [0.858131289482117], \"type\": \"scatter\"}, {\"marker\": {\"size\": [3.0], \"sizemode\": \"area\", \"sizeref\": 0.10625}, \"mode\": \"markers\", \"name\": \"Iceland\", \"text\": [\"Iceland\"], \"x\": [1.480633020401], \"y\": [0.8335521221160892], \"type\": \"scatter\"}, {\"marker\": {\"size\": [2.0], \"sizemode\": \"area\", \"sizeref\": 0.10625}, \"mode\": \"markers\", \"name\": \"Denmark\", \"text\": [\"Denmark\"], \"x\": [1.48238301277161], \"y\": [0.7925655245780941], \"type\": \"scatter\"}, {\"marker\": {\"size\": [1.0], \"sizemode\": \"area\", \"sizeref\": 0.10625}, \"mode\": \"markers\", \"name\": \"Norway\", \"text\": [\"Norway\"], \"x\": [1.61646318435669], \"y\": [0.796666502952576], \"type\": \"scatter\"}, {\"marker\": {\"size\": [5.0], \"sizemode\": \"area\", \"sizeref\": 0.10625}, \"mode\": \"markers\", \"name\": \"Finland\", \"text\": [\"Finland\"], \"x\": [1.44357192516327], \"y\": [0.80915766954422], \"type\": \"scatter\"}, {\"marker\": {\"size\": [6.0], \"sizemode\": \"area\", \"sizeref\": 0.10625}, \"mode\": \"markers\", \"name\": \"Netherlands\", \"text\": [\"Netherlands\"], \"x\": [1.50394463539124], \"y\": [0.8106961250305179], \"type\": \"scatter\"}, {\"marker\": {\"size\": [9.0], \"sizemode\": \"area\", \"sizeref\": 0.10625}, \"mode\": \"markers\", \"name\": \"Sweden\", \"text\": [\"Sweden\"], \"x\": [1.49438726902008], \"y\": [0.830875158309937], \"type\": \"scatter\"}, {\"marker\": {\"size\": [13.0], \"sizemode\": \"area\", \"sizeref\": 0.10625}, \"mode\": \"markers\", \"name\": \"Austria\", \"text\": [\"Austria\"], \"x\": [1.48709726333618], \"y\": [0.8153284192085269], \"type\": \"scatter\"}, {\"marker\": {\"size\": [18.0], \"sizemode\": \"area\", \"sizeref\": 0.10625}, \"mode\": \"markers\", \"name\": \"Luxembourg\", \"text\": [\"Luxembourg\"], \"x\": [1.74194359779358], \"y\": [0.845089495182037], \"type\": \"scatter\"}, {\"marker\": {\"size\": [15.0], \"sizemode\": \"area\", \"sizeref\": 0.10625}, \"mode\": \"markers\", \"name\": \"Ireland\", \"text\": [\"Ireland\"], \"x\": [1.5357066392898602], \"y\": [0.8097826242446899], \"type\": \"scatter\"}, {\"marker\": {\"size\": [17.0], \"sizemode\": \"area\", \"sizeref\": 0.10625}, \"mode\": \"markers\", \"name\": \"Belgium\", \"text\": [\"Belgium\"], \"x\": [1.46378076076508], \"y\": [0.8180918693542479], \"type\": \"scatter\"}, {\"marker\": {\"size\": [19.0], \"sizemode\": \"area\", \"sizeref\": 0.10625}, \"mode\": \"markers\", \"name\": \"United Kingdom\", \"text\": [\"United Kingdom\"], \"x\": [1.44163393974304], \"y\": [0.805335938930511], \"type\": \"scatter\"}, {\"marker\": {\"size\": [16.0], \"sizemode\": \"area\", \"sizeref\": 0.10625}, \"mode\": \"markers\", \"name\": \"Germany\", \"text\": [\"Germany\"], \"x\": [1.48792338371277], \"y\": [0.798950731754303], \"type\": \"scatter\"}, {\"marker\": {\"size\": [31.0], \"sizemode\": \"area\", \"sizeref\": 0.10625}, \"mode\": \"markers\", \"name\": \"France\", \"text\": [\"France\"], \"x\": [1.43092346191406], \"y\": [0.8444658517837521], \"type\": \"scatter\"}, {\"marker\": {\"size\": [34.0], \"sizemode\": \"area\", \"sizeref\": 0.10625}, \"mode\": \"markers\", \"name\": \"Spain\", \"text\": [\"Spain\"], \"x\": [1.38439786434174], \"y\": [0.888960599899292], \"type\": \"scatter\"}, {\"marker\": {\"size\": [27.0], \"sizemode\": \"area\", \"sizeref\": 0.10625}, \"mode\": \"markers\", \"name\": \"Malta\", \"text\": [\"Malta\"], \"x\": [1.34327983856201], \"y\": [0.821944236755371], \"type\": \"scatter\"}, {\"marker\": {\"size\": [48.0], \"sizemode\": \"area\", \"sizeref\": 0.10625}, \"mode\": \"markers\", \"name\": \"Italy\", \"text\": [\"Italy\"], \"x\": [1.39506661891937], \"y\": [0.8531443476676941], \"type\": \"scatter\"}, {\"marker\": {\"size\": [61.0], \"sizemode\": \"area\", \"sizeref\": 0.10625}, \"mode\": \"markers\", \"name\": \"North Cyprus\", \"text\": [\"North Cyprus\"], \"x\": [1.3469113111496], \"y\": [0.834647238254547], \"type\": \"scatter\"}, {\"marker\": {\"size\": [65.0], \"sizemode\": \"area\", \"sizeref\": 0.10625}, \"mode\": \"markers\", \"name\": \"Cyprus\", \"text\": [\"Cyprus\"], \"x\": [1.35593807697296], \"y\": [0.84471470117569], \"type\": \"scatter\"}, {\"marker\": {\"size\": [89.0], \"sizemode\": \"area\", \"sizeref\": 0.10625}, \"mode\": \"markers\", \"name\": \"Portugal\", \"text\": [\"Portugal\"], \"x\": [1.3151752948761002], \"y\": [0.795843541622162], \"type\": \"scatter\"}, {\"marker\": {\"size\": [87.0], \"sizemode\": \"area\", \"sizeref\": 0.10625}, \"mode\": \"markers\", \"name\": \"Greece\", \"text\": [\"Greece\"], \"x\": [1.28948748111725], \"y\": [0.8101989030838009], \"type\": \"scatter\"}], \"name\": \"2017\"}]);}).then(function(){Plotly.animate('dddd4f26-f174-44fd-a441-5f12fb8d8403');})\n",
       "    }\n",
       "        });</script><script type=\"text/javascript\">window.addEventListener(\"resize\", function(){if (document.getElementById(\"dddd4f26-f174-44fd-a441-5f12fb8d8403\")) {window._Plotly.Plots.resize(document.getElementById(\"dddd4f26-f174-44fd-a441-5f12fb8d8403\"));};})</script>"
      ],
      "text/vnd.plotly.v1+html": [
       "<div id=\"dddd4f26-f174-44fd-a441-5f12fb8d8403\" style=\"height: 650px; width: 100%;\" class=\"plotly-graph-div\"></div><script type=\"text/javascript\">require([\"plotly\"], function(Plotly) { window.PLOTLYENV=window.PLOTLYENV || {};window.PLOTLYENV.BASE_URL=\"https://plot.ly\";\n",
       "    if (document.getElementById(\"dddd4f26-f174-44fd-a441-5f12fb8d8403\")) {\n",
       "        Plotly.plot(\n",
       "            'dddd4f26-f174-44fd-a441-5f12fb8d8403',\n",
       "            [{\"marker\": {\"size\": [1.0], \"sizemode\": \"area\", \"sizeref\": 0.10625}, \"mode\": \"markers\", \"name\": \"Switzerland\", \"text\": [\"Switzerland\"], \"x\": [1.39651], \"y\": [0.94143], \"type\": \"scatter\", \"uid\": \"03b188a9-e031-4899-89ae-ae5a2f7ed4bb\"}, {\"marker\": {\"size\": [2.0], \"sizemode\": \"area\", \"sizeref\": 0.10625}, \"mode\": \"markers\", \"name\": \"Iceland\", \"text\": [\"Iceland\"], \"x\": [1.30232], \"y\": [0.94784], \"type\": \"scatter\", \"uid\": \"88c8ea02-a4ac-467f-b9b9-3b994350972e\"}, {\"marker\": {\"size\": [3.0], \"sizemode\": \"area\", \"sizeref\": 0.10625}, \"mode\": \"markers\", \"name\": \"Denmark\", \"text\": [\"Denmark\"], \"x\": [1.32548], \"y\": [0.87464], \"type\": \"scatter\", \"uid\": \"0878c09e-e2a2-4a13-aac2-028597b13a6d\"}, {\"marker\": {\"size\": [4.0], \"sizemode\": \"area\", \"sizeref\": 0.10625}, \"mode\": \"markers\", \"name\": \"Norway\", \"text\": [\"Norway\"], \"x\": [1.459], \"y\": [0.88521], \"type\": \"scatter\", \"uid\": \"6f2a388d-b9de-4025-b762-6510a6ba5836\"}, {\"marker\": {\"size\": [6.0], \"sizemode\": \"area\", \"sizeref\": 0.10625}, \"mode\": \"markers\", \"name\": \"Finland\", \"text\": [\"Finland\"], \"x\": [1.29025], \"y\": [0.8891100000000001], \"type\": \"scatter\", \"uid\": \"d8e647b3-7de1-48b1-b4fd-cd00f0dbdead\"}, {\"marker\": {\"size\": [7.0], \"sizemode\": \"area\", \"sizeref\": 0.10625}, \"mode\": \"markers\", \"name\": \"Netherlands\", \"text\": [\"Netherlands\"], \"x\": [1.32944], \"y\": [0.89284], \"type\": \"scatter\", \"uid\": \"7a5ecfee-25b4-44de-b155-9ab4c6a6f388\"}, {\"marker\": {\"size\": [8.0], \"sizemode\": \"area\", \"sizeref\": 0.10625}, \"mode\": \"markers\", \"name\": \"Sweden\", \"text\": [\"Sweden\"], \"x\": [1.33171], \"y\": [0.91087], \"type\": \"scatter\", \"uid\": \"985d3f6b-f92f-4ed4-9421-85115e443d99\"}, {\"marker\": {\"size\": [13.0], \"sizemode\": \"area\", \"sizeref\": 0.10625}, \"mode\": \"markers\", \"name\": \"Austria\", \"text\": [\"Austria\"], \"x\": [1.33723], \"y\": [0.8904200000000001], \"type\": \"scatter\", \"uid\": \"69679e1a-b4df-43cb-b003-390105ce9b75\"}, {\"marker\": {\"size\": [17.0], \"sizemode\": \"area\", \"sizeref\": 0.10625}, \"mode\": \"markers\", \"name\": \"Luxembourg\", \"text\": [\"Luxembourg\"], \"x\": [1.56391], \"y\": [0.91894], \"type\": \"scatter\", \"uid\": \"0b49d848-b2ae-4f98-97f8-11b334f9cabb\"}, {\"marker\": {\"size\": [18.0], \"sizemode\": \"area\", \"sizeref\": 0.10625}, \"mode\": \"markers\", \"name\": \"Ireland\", \"text\": [\"Ireland\"], \"x\": [1.33596], \"y\": [0.89533], \"type\": \"scatter\", \"uid\": \"daef3abc-eb24-49bd-876f-cca8a9dc9a18\"}, {\"marker\": {\"size\": [19.0], \"sizemode\": \"area\", \"sizeref\": 0.10625}, \"mode\": \"markers\", \"name\": \"Belgium\", \"text\": [\"Belgium\"], \"x\": [1.30782], \"y\": [0.8966700000000001], \"type\": \"scatter\", \"uid\": \"f3b8cf78-ee65-4fa0-84c1-b85a6bd26f84\"}, {\"marker\": {\"size\": [21.0], \"sizemode\": \"area\", \"sizeref\": 0.10625}, \"mode\": \"markers\", \"name\": \"United Kingdom\", \"text\": [\"United Kingdom\"], \"x\": [1.26637], \"y\": [0.90943], \"type\": \"scatter\", \"uid\": \"8d2d61dd-f7a2-4172-80ff-bb1f9cc11579\"}, {\"marker\": {\"size\": [26.0], \"sizemode\": \"area\", \"sizeref\": 0.10625}, \"mode\": \"markers\", \"name\": \"Germany\", \"text\": [\"Germany\"], \"x\": [1.32792], \"y\": [0.89186], \"type\": \"scatter\", \"uid\": \"e72b5276-2eeb-4ca2-aee1-79d46f9d733b\"}, {\"marker\": {\"size\": [29.0], \"sizemode\": \"area\", \"sizeref\": 0.10625}, \"mode\": \"markers\", \"name\": \"France\", \"text\": [\"France\"], \"x\": [1.27778], \"y\": [0.94579], \"type\": \"scatter\", \"uid\": \"a4e21347-8eed-4bcf-9c5e-7ded070f0467\"}, {\"marker\": {\"size\": [36.0], \"sizemode\": \"area\", \"sizeref\": 0.10625}, \"mode\": \"markers\", \"name\": \"Spain\", \"text\": [\"Spain\"], \"x\": [1.23011], \"y\": [0.95562], \"type\": \"scatter\", \"uid\": \"79e2d51d-37a9-4adc-9684-eec81535d270\"}, {\"marker\": {\"size\": [37.0], \"sizemode\": \"area\", \"sizeref\": 0.10625}, \"mode\": \"markers\", \"name\": \"Malta\", \"text\": [\"Malta\"], \"x\": [1.2074], \"y\": [0.88721], \"type\": \"scatter\", \"uid\": \"1afd8340-0ca0-48ac-b652-3716d3eea807\"}, {\"marker\": {\"size\": [50.0], \"sizemode\": \"area\", \"sizeref\": 0.10625}, \"mode\": \"markers\", \"name\": \"Italy\", \"text\": [\"Italy\"], \"x\": [1.25114], \"y\": [0.95446], \"type\": \"scatter\", \"uid\": \"d60bc4a5-c3c6-4b77-99c9-eea881412886\"}, {\"marker\": {\"size\": [66.0], \"sizemode\": \"area\", \"sizeref\": 0.10625}, \"mode\": \"markers\", \"name\": \"North Cyprus\", \"text\": [\"North Cyprus\"], \"x\": [1.20806], \"y\": [0.92356], \"type\": \"scatter\", \"uid\": \"295f0d74-1830-4bbe-8385-36fefabac3f7\"}, {\"marker\": {\"size\": [67.0], \"sizemode\": \"area\", \"sizeref\": 0.10625}, \"mode\": \"markers\", \"name\": \"Cyprus\", \"text\": [\"Cyprus\"], \"x\": [1.20813], \"y\": [0.92356], \"type\": \"scatter\", \"uid\": \"c4818a6a-fb03-442f-957b-9a5ee98ccb21\"}, {\"marker\": {\"size\": [88.0], \"sizemode\": \"area\", \"sizeref\": 0.10625}, \"mode\": \"markers\", \"name\": \"Portugal\", \"text\": [\"Portugal\"], \"x\": [1.15991], \"y\": [0.8751899999999999], \"type\": \"scatter\", \"uid\": \"2aaa9373-1bd4-4d35-ad4d-635babbfd588\"}, {\"marker\": {\"size\": [102.0], \"sizemode\": \"area\", \"sizeref\": 0.10625}, \"mode\": \"markers\", \"name\": \"Greece\", \"text\": [\"Greece\"], \"x\": [1.15406], \"y\": [0.88213], \"type\": \"scatter\", \"uid\": \"26b11d6f-87e7-4195-9fe8-9248522a316f\"}],\n",
       "            {\"height\": 650, \"hovermode\": \"closest\", \"margin\": {\"b\": 50, \"pad\": 5, \"t\": 50}, \"showlegend\": true, \"sliders\": [{\"active\": 0, \"currentvalue\": {\"font\": {\"size\": 20}, \"prefix\": \"Year:\", \"visible\": true, \"xanchor\": \"right\"}, \"len\": 0.9, \"pad\": {\"b\": 10, \"t\": 50}, \"steps\": [{\"args\": [[2015], {\"frame\": {\"duration\": 300, \"redraw\": false}, \"mode\": \"immediate\", \"transition\": {\"duration\": 300}}], \"label\": \"2015\", \"method\": \"animate\"}, {\"args\": [[2016], {\"frame\": {\"duration\": 300, \"redraw\": false}, \"mode\": \"immediate\", \"transition\": {\"duration\": 300}}], \"label\": \"2016\", \"method\": \"animate\"}, {\"args\": [[2017], {\"frame\": {\"duration\": 300, \"redraw\": false}, \"mode\": \"immediate\", \"transition\": {\"duration\": 300}}], \"label\": \"2017\", \"method\": \"animate\"}], \"transition\": {\"duration\": 300, \"easing\": \"cubic-in-out\"}, \"x\": 0.1, \"xanchor\": \"left\", \"y\": 0, \"yanchor\": \"top\"}], \"title\": {\"text\": \"Bubble Plot\"}, \"updatemenus\": [{\"buttons\": [{\"args\": [null, {\"frame\": {\"duration\": 500, \"redraw\": false}, \"fromcurrent\": true, \"transition\": {\"duration\": 300, \"easing\": \"quadratic-in-out\"}}], \"label\": \"Play\", \"method\": \"animate\"}, {\"args\": [[null], {\"frame\": {\"duration\": 0, \"redraw\": false}, \"mode\": \"immediate\", \"transition\": {\"duration\": 0}}], \"label\": \"Pause\", \"method\": \"animate\"}], \"direction\": \"left\", \"pad\": {\"r\": 10, \"t\": 87}, \"showactive\": false, \"type\": \"buttons\", \"x\": 0.1, \"xanchor\": \"right\", \"y\": 0, \"yanchor\": \"top\"}], \"xaxis\": {\"autorange\": false, \"range\": [0.06036153687902313, 0.2506754524814509], \"title\": {\"text\": \"GDP per Capita\"}, \"type\": \"log\"}, \"yaxis\": {\"autorange\": false, \"range\": [-0.097935878072555, -0.020503360337758424], \"title\": {\"text\": \"Life Expectancy\"}, \"type\": \"log\"}},\n",
       "            {\"showLink\": false, \"linkText\": \"Export to plot.ly\", \"plotlyServerURL\": \"https://plot.ly\"}\n",
       "        ).then(function () {return Plotly.addFrames('dddd4f26-f174-44fd-a441-5f12fb8d8403',[{\"data\": [{\"marker\": {\"size\": [1.0], \"sizemode\": \"area\", \"sizeref\": 0.10625}, \"mode\": \"markers\", \"name\": \"Switzerland\", \"text\": [\"Switzerland\"], \"x\": [1.39651], \"y\": [0.94143], \"type\": \"scatter\"}, {\"marker\": {\"size\": [2.0], \"sizemode\": \"area\", \"sizeref\": 0.10625}, \"mode\": \"markers\", \"name\": \"Iceland\", \"text\": [\"Iceland\"], \"x\": [1.30232], \"y\": [0.94784], \"type\": \"scatter\"}, {\"marker\": {\"size\": [3.0], \"sizemode\": \"area\", \"sizeref\": 0.10625}, \"mode\": \"markers\", \"name\": \"Denmark\", \"text\": [\"Denmark\"], \"x\": [1.32548], \"y\": [0.87464], \"type\": \"scatter\"}, {\"marker\": {\"size\": [4.0], \"sizemode\": \"area\", \"sizeref\": 0.10625}, \"mode\": \"markers\", \"name\": \"Norway\", \"text\": [\"Norway\"], \"x\": [1.459], \"y\": [0.88521], \"type\": \"scatter\"}, {\"marker\": {\"size\": [6.0], \"sizemode\": \"area\", \"sizeref\": 0.10625}, \"mode\": \"markers\", \"name\": \"Finland\", \"text\": [\"Finland\"], \"x\": [1.29025], \"y\": [0.8891100000000001], \"type\": \"scatter\"}, {\"marker\": {\"size\": [7.0], \"sizemode\": \"area\", \"sizeref\": 0.10625}, \"mode\": \"markers\", \"name\": \"Netherlands\", \"text\": [\"Netherlands\"], \"x\": [1.32944], \"y\": [0.89284], \"type\": \"scatter\"}, {\"marker\": {\"size\": [8.0], \"sizemode\": \"area\", \"sizeref\": 0.10625}, \"mode\": \"markers\", \"name\": \"Sweden\", \"text\": [\"Sweden\"], \"x\": [1.33171], \"y\": [0.91087], \"type\": \"scatter\"}, {\"marker\": {\"size\": [13.0], \"sizemode\": \"area\", \"sizeref\": 0.10625}, \"mode\": \"markers\", \"name\": \"Austria\", \"text\": [\"Austria\"], \"x\": [1.33723], \"y\": [0.8904200000000001], \"type\": \"scatter\"}, {\"marker\": {\"size\": [17.0], \"sizemode\": \"area\", \"sizeref\": 0.10625}, \"mode\": \"markers\", \"name\": \"Luxembourg\", \"text\": [\"Luxembourg\"], \"x\": [1.56391], \"y\": [0.91894], \"type\": \"scatter\"}, {\"marker\": {\"size\": [18.0], \"sizemode\": \"area\", \"sizeref\": 0.10625}, \"mode\": \"markers\", \"name\": \"Ireland\", \"text\": [\"Ireland\"], \"x\": [1.33596], \"y\": [0.89533], \"type\": \"scatter\"}, {\"marker\": {\"size\": [19.0], \"sizemode\": \"area\", \"sizeref\": 0.10625}, \"mode\": \"markers\", \"name\": \"Belgium\", \"text\": [\"Belgium\"], \"x\": [1.30782], \"y\": [0.8966700000000001], \"type\": \"scatter\"}, {\"marker\": {\"size\": [21.0], \"sizemode\": \"area\", \"sizeref\": 0.10625}, \"mode\": \"markers\", \"name\": \"United Kingdom\", \"text\": [\"United Kingdom\"], \"x\": [1.26637], \"y\": [0.90943], \"type\": \"scatter\"}, {\"marker\": {\"size\": [26.0], \"sizemode\": \"area\", \"sizeref\": 0.10625}, \"mode\": \"markers\", \"name\": \"Germany\", \"text\": [\"Germany\"], \"x\": [1.32792], \"y\": [0.89186], \"type\": \"scatter\"}, {\"marker\": {\"size\": [29.0], \"sizemode\": \"area\", \"sizeref\": 0.10625}, \"mode\": \"markers\", \"name\": \"France\", \"text\": [\"France\"], \"x\": [1.27778], \"y\": [0.94579], \"type\": \"scatter\"}, {\"marker\": {\"size\": [36.0], \"sizemode\": \"area\", \"sizeref\": 0.10625}, \"mode\": \"markers\", \"name\": \"Spain\", \"text\": [\"Spain\"], \"x\": [1.23011], \"y\": [0.95562], \"type\": \"scatter\"}, {\"marker\": {\"size\": [37.0], \"sizemode\": \"area\", \"sizeref\": 0.10625}, \"mode\": \"markers\", \"name\": \"Malta\", \"text\": [\"Malta\"], \"x\": [1.2074], \"y\": [0.88721], \"type\": \"scatter\"}, {\"marker\": {\"size\": [50.0], \"sizemode\": \"area\", \"sizeref\": 0.10625}, \"mode\": \"markers\", \"name\": \"Italy\", \"text\": [\"Italy\"], \"x\": [1.25114], \"y\": [0.95446], \"type\": \"scatter\"}, {\"marker\": {\"size\": [66.0], \"sizemode\": \"area\", \"sizeref\": 0.10625}, \"mode\": \"markers\", \"name\": \"North Cyprus\", \"text\": [\"North Cyprus\"], \"x\": [1.20806], \"y\": [0.92356], \"type\": \"scatter\"}, {\"marker\": {\"size\": [67.0], \"sizemode\": \"area\", \"sizeref\": 0.10625}, \"mode\": \"markers\", \"name\": \"Cyprus\", \"text\": [\"Cyprus\"], \"x\": [1.20813], \"y\": [0.92356], \"type\": \"scatter\"}, {\"marker\": {\"size\": [88.0], \"sizemode\": \"area\", \"sizeref\": 0.10625}, \"mode\": \"markers\", \"name\": \"Portugal\", \"text\": [\"Portugal\"], \"x\": [1.15991], \"y\": [0.8751899999999999], \"type\": \"scatter\"}, {\"marker\": {\"size\": [102.0], \"sizemode\": \"area\", \"sizeref\": 0.10625}, \"mode\": \"markers\", \"name\": \"Greece\", \"text\": [\"Greece\"], \"x\": [1.15406], \"y\": [0.88213], \"type\": \"scatter\"}], \"name\": \"2015\"}, {\"data\": [{\"marker\": {\"size\": [2.0], \"sizemode\": \"area\", \"sizeref\": 0.10625}, \"mode\": \"markers\", \"name\": \"Switzerland\", \"text\": [\"Switzerland\"], \"x\": [1.52733], \"y\": [0.86303], \"type\": \"scatter\"}, {\"marker\": {\"size\": [3.0], \"sizemode\": \"area\", \"sizeref\": 0.10625}, \"mode\": \"markers\", \"name\": \"Iceland\", \"text\": [\"Iceland\"], \"x\": [1.42666], \"y\": [0.8673299999999999], \"type\": \"scatter\"}, {\"marker\": {\"size\": [1.0], \"sizemode\": \"area\", \"sizeref\": 0.10625}, \"mode\": \"markers\", \"name\": \"Denmark\", \"text\": [\"Denmark\"], \"x\": [1.4417799999999998], \"y\": [0.79504], \"type\": \"scatter\"}, {\"marker\": {\"size\": [4.0], \"sizemode\": \"area\", \"sizeref\": 0.10625}, \"mode\": \"markers\", \"name\": \"Norway\", \"text\": [\"Norway\"], \"x\": [1.57744], \"y\": [0.79579], \"type\": \"scatter\"}, {\"marker\": {\"size\": [5.0], \"sizemode\": \"area\", \"sizeref\": 0.10625}, \"mode\": \"markers\", \"name\": \"Finland\", \"text\": [\"Finland\"], \"x\": [1.40598], \"y\": [0.81091], \"type\": \"scatter\"}, {\"marker\": {\"size\": [7.0], \"sizemode\": \"area\", \"sizeref\": 0.10625}, \"mode\": \"markers\", \"name\": \"Netherlands\", \"text\": [\"Netherlands\"], \"x\": [1.46468], \"y\": [0.8123100000000001], \"type\": \"scatter\"}, {\"marker\": {\"size\": [10.0], \"sizemode\": \"area\", \"sizeref\": 0.10625}, \"mode\": \"markers\", \"name\": \"Sweden\", \"text\": [\"Sweden\"], \"x\": [1.45181], \"y\": [0.83121], \"type\": \"scatter\"}, {\"marker\": {\"size\": [12.0], \"sizemode\": \"area\", \"sizeref\": 0.10625}, \"mode\": \"markers\", \"name\": \"Austria\", \"text\": [\"Austria\"], \"x\": [1.45038], \"y\": [0.80565], \"type\": \"scatter\"}, {\"marker\": {\"size\": [20.0], \"sizemode\": \"area\", \"sizeref\": 0.10625}, \"mode\": \"markers\", \"name\": \"Luxembourg\", \"text\": [\"Luxembourg\"], \"x\": [1.69752], \"y\": [0.8454200000000001], \"type\": \"scatter\"}, {\"marker\": {\"size\": [19.0], \"sizemode\": \"area\", \"sizeref\": 0.10625}, \"mode\": \"markers\", \"name\": \"Ireland\", \"text\": [\"Ireland\"], \"x\": [1.48341], \"y\": [0.81455], \"type\": \"scatter\"}, {\"marker\": {\"size\": [18.0], \"sizemode\": \"area\", \"sizeref\": 0.10625}, \"mode\": \"markers\", \"name\": \"Belgium\", \"text\": [\"Belgium\"], \"x\": [1.42539], \"y\": [0.8195899999999999], \"type\": \"scatter\"}, {\"marker\": {\"size\": [23.0], \"sizemode\": \"area\", \"sizeref\": 0.10625}, \"mode\": \"markers\", \"name\": \"United Kingdom\", \"text\": [\"United Kingdom\"], \"x\": [1.40283], \"y\": [0.80991], \"type\": \"scatter\"}, {\"marker\": {\"size\": [16.0], \"sizemode\": \"area\", \"sizeref\": 0.10625}, \"mode\": \"markers\", \"name\": \"Germany\", \"text\": [\"Germany\"], \"x\": [1.44787], \"y\": [0.81487], \"type\": \"scatter\"}, {\"marker\": {\"size\": [32.0], \"sizemode\": \"area\", \"sizeref\": 0.10625}, \"mode\": \"markers\", \"name\": \"France\", \"text\": [\"France\"], \"x\": [1.39488], \"y\": [0.83795], \"type\": \"scatter\"}, {\"marker\": {\"size\": [37.0], \"sizemode\": \"area\", \"sizeref\": 0.10625}, \"mode\": \"markers\", \"name\": \"Spain\", \"text\": [\"Spain\"], \"x\": [1.34253], \"y\": [0.8789600000000001], \"type\": \"scatter\"}, {\"marker\": {\"size\": [30.0], \"sizemode\": \"area\", \"sizeref\": 0.10625}, \"mode\": \"markers\", \"name\": \"Malta\", \"text\": [\"Malta\"], \"x\": [1.30782], \"y\": [0.80315], \"type\": \"scatter\"}, {\"marker\": {\"size\": [50.0], \"sizemode\": \"area\", \"sizeref\": 0.10625}, \"mode\": \"markers\", \"name\": \"Italy\", \"text\": [\"Italy\"], \"x\": [1.35495], \"y\": [0.8510200000000001], \"type\": \"scatter\"}, {\"marker\": {\"size\": [62.0], \"sizemode\": \"area\", \"sizeref\": 0.10625}, \"mode\": \"markers\", \"name\": \"North Cyprus\", \"text\": [\"North Cyprus\"], \"x\": [1.31141], \"y\": [0.8414200000000001], \"type\": \"scatter\"}, {\"marker\": {\"size\": [69.0], \"sizemode\": \"area\", \"sizeref\": 0.10625}, \"mode\": \"markers\", \"name\": \"Cyprus\", \"text\": [\"Cyprus\"], \"x\": [1.31857], \"y\": [0.8488], \"type\": \"scatter\"}, {\"marker\": {\"size\": [94.0], \"sizemode\": \"area\", \"sizeref\": 0.10625}, \"mode\": \"markers\", \"name\": \"Portugal\", \"text\": [\"Portugal\"], \"x\": [1.27607], \"y\": [0.7936300000000001], \"type\": \"scatter\"}, {\"marker\": {\"size\": [99.0], \"sizemode\": \"area\", \"sizeref\": 0.10625}, \"mode\": \"markers\", \"name\": \"Greece\", \"text\": [\"Greece\"], \"x\": [1.24886], \"y\": [0.80029], \"type\": \"scatter\"}], \"name\": \"2016\"}, {\"data\": [{\"marker\": {\"size\": [4.0], \"sizemode\": \"area\", \"sizeref\": 0.10625}, \"mode\": \"markers\", \"name\": \"Switzerland\", \"text\": [\"Switzerland\"], \"x\": [1.5649795532226598], \"y\": [0.858131289482117], \"type\": \"scatter\"}, {\"marker\": {\"size\": [3.0], \"sizemode\": \"area\", \"sizeref\": 0.10625}, \"mode\": \"markers\", \"name\": \"Iceland\", \"text\": [\"Iceland\"], \"x\": [1.480633020401], \"y\": [0.8335521221160892], \"type\": \"scatter\"}, {\"marker\": {\"size\": [2.0], \"sizemode\": \"area\", \"sizeref\": 0.10625}, \"mode\": \"markers\", \"name\": \"Denmark\", \"text\": [\"Denmark\"], \"x\": [1.48238301277161], \"y\": [0.7925655245780941], \"type\": \"scatter\"}, {\"marker\": {\"size\": [1.0], \"sizemode\": \"area\", \"sizeref\": 0.10625}, \"mode\": \"markers\", \"name\": \"Norway\", \"text\": [\"Norway\"], \"x\": [1.61646318435669], \"y\": [0.796666502952576], \"type\": \"scatter\"}, {\"marker\": {\"size\": [5.0], \"sizemode\": \"area\", \"sizeref\": 0.10625}, \"mode\": \"markers\", \"name\": \"Finland\", \"text\": [\"Finland\"], \"x\": [1.44357192516327], \"y\": [0.80915766954422], \"type\": \"scatter\"}, {\"marker\": {\"size\": [6.0], \"sizemode\": \"area\", \"sizeref\": 0.10625}, \"mode\": \"markers\", \"name\": \"Netherlands\", \"text\": [\"Netherlands\"], \"x\": [1.50394463539124], \"y\": [0.8106961250305179], \"type\": \"scatter\"}, {\"marker\": {\"size\": [9.0], \"sizemode\": \"area\", \"sizeref\": 0.10625}, \"mode\": \"markers\", \"name\": \"Sweden\", \"text\": [\"Sweden\"], \"x\": [1.49438726902008], \"y\": [0.830875158309937], \"type\": \"scatter\"}, {\"marker\": {\"size\": [13.0], \"sizemode\": \"area\", \"sizeref\": 0.10625}, \"mode\": \"markers\", \"name\": \"Austria\", \"text\": [\"Austria\"], \"x\": [1.48709726333618], \"y\": [0.8153284192085269], \"type\": \"scatter\"}, {\"marker\": {\"size\": [18.0], \"sizemode\": \"area\", \"sizeref\": 0.10625}, \"mode\": \"markers\", \"name\": \"Luxembourg\", \"text\": [\"Luxembourg\"], \"x\": [1.74194359779358], \"y\": [0.845089495182037], \"type\": \"scatter\"}, {\"marker\": {\"size\": [15.0], \"sizemode\": \"area\", \"sizeref\": 0.10625}, \"mode\": \"markers\", \"name\": \"Ireland\", \"text\": [\"Ireland\"], \"x\": [1.5357066392898602], \"y\": [0.8097826242446899], \"type\": \"scatter\"}, {\"marker\": {\"size\": [17.0], \"sizemode\": \"area\", \"sizeref\": 0.10625}, \"mode\": \"markers\", \"name\": \"Belgium\", \"text\": [\"Belgium\"], \"x\": [1.46378076076508], \"y\": [0.8180918693542479], \"type\": \"scatter\"}, {\"marker\": {\"size\": [19.0], \"sizemode\": \"area\", \"sizeref\": 0.10625}, \"mode\": \"markers\", \"name\": \"United Kingdom\", \"text\": [\"United Kingdom\"], \"x\": [1.44163393974304], \"y\": [0.805335938930511], \"type\": \"scatter\"}, {\"marker\": {\"size\": [16.0], \"sizemode\": \"area\", \"sizeref\": 0.10625}, \"mode\": \"markers\", \"name\": \"Germany\", \"text\": [\"Germany\"], \"x\": [1.48792338371277], \"y\": [0.798950731754303], \"type\": \"scatter\"}, {\"marker\": {\"size\": [31.0], \"sizemode\": \"area\", \"sizeref\": 0.10625}, \"mode\": \"markers\", \"name\": \"France\", \"text\": [\"France\"], \"x\": [1.43092346191406], \"y\": [0.8444658517837521], \"type\": \"scatter\"}, {\"marker\": {\"size\": [34.0], \"sizemode\": \"area\", \"sizeref\": 0.10625}, \"mode\": \"markers\", \"name\": \"Spain\", \"text\": [\"Spain\"], \"x\": [1.38439786434174], \"y\": [0.888960599899292], \"type\": \"scatter\"}, {\"marker\": {\"size\": [27.0], \"sizemode\": \"area\", \"sizeref\": 0.10625}, \"mode\": \"markers\", \"name\": \"Malta\", \"text\": [\"Malta\"], \"x\": [1.34327983856201], \"y\": [0.821944236755371], \"type\": \"scatter\"}, {\"marker\": {\"size\": [48.0], \"sizemode\": \"area\", \"sizeref\": 0.10625}, \"mode\": \"markers\", \"name\": \"Italy\", \"text\": [\"Italy\"], \"x\": [1.39506661891937], \"y\": [0.8531443476676941], \"type\": \"scatter\"}, {\"marker\": {\"size\": [61.0], \"sizemode\": \"area\", \"sizeref\": 0.10625}, \"mode\": \"markers\", \"name\": \"North Cyprus\", \"text\": [\"North Cyprus\"], \"x\": [1.3469113111496], \"y\": [0.834647238254547], \"type\": \"scatter\"}, {\"marker\": {\"size\": [65.0], \"sizemode\": \"area\", \"sizeref\": 0.10625}, \"mode\": \"markers\", \"name\": \"Cyprus\", \"text\": [\"Cyprus\"], \"x\": [1.35593807697296], \"y\": [0.84471470117569], \"type\": \"scatter\"}, {\"marker\": {\"size\": [89.0], \"sizemode\": \"area\", \"sizeref\": 0.10625}, \"mode\": \"markers\", \"name\": \"Portugal\", \"text\": [\"Portugal\"], \"x\": [1.3151752948761002], \"y\": [0.795843541622162], \"type\": \"scatter\"}, {\"marker\": {\"size\": [87.0], \"sizemode\": \"area\", \"sizeref\": 0.10625}, \"mode\": \"markers\", \"name\": \"Greece\", \"text\": [\"Greece\"], \"x\": [1.28948748111725], \"y\": [0.8101989030838009], \"type\": \"scatter\"}], \"name\": \"2017\"}]);}).then(function(){Plotly.animate('dddd4f26-f174-44fd-a441-5f12fb8d8403');})\n",
       "    }\n",
       "        });</script><script type=\"text/javascript\">window.addEventListener(\"resize\", function(){if (document.getElementById(\"dddd4f26-f174-44fd-a441-5f12fb8d8403\")) {window._Plotly.Plots.resize(document.getElementById(\"dddd4f26-f174-44fd-a441-5f12fb8d8403\"));};})</script>"
      ]
     },
     "metadata": {},
     "output_type": "display_data"
    }
   ],
   "source": [
    "from bubbly.bubbly import bubbleplot \n",
    "#np.seterr(divide = 'ignore') \n",
    "\n",
    "figure = bubbleplot(dataset=data_c[data_c['Region']=='Western Europe'], x_column='Economy (GDP per Capita)', y_column='Health (Life Expectancy)', \n",
    "    bubble_column='Country', time_column='Year', size_column='Happiness Rank', color_column='Country', \n",
    "    x_title=\"GDP per Capita\", y_title=\"Life Expectancy\", title='Bubble Plot',\n",
    "    x_logscale=True, y_logscale=True, scale_bubble=0.3, height=650)\n",
    "\n",
    "iplot(figure) "
   ]
  },
  {
   "cell_type": "markdown",
   "metadata": {},
   "source": [
    "As expected, the bubbles are all over the place due to the weakness of the correlation. "
   ]
  }
 ],
 "metadata": {
  "kernelspec": {
   "display_name": "Python 3",
   "language": "python",
   "name": "python3"
  },
  "language_info": {
   "codemirror_mode": {
    "name": "ipython",
    "version": 3
   },
   "file_extension": ".py",
   "mimetype": "text/x-python",
   "name": "python",
   "nbconvert_exporter": "python",
   "pygments_lexer": "ipython3",
   "version": "3.7.1"
  }
 },
 "nbformat": 4,
 "nbformat_minor": 2
}
